{
  "nbformat": 4,
  "nbformat_minor": 0,
  "metadata": {
    "colab": {
      "provenance": []
    },
    "kernelspec": {
      "name": "python3",
      "display_name": "Python 3"
    },
    "language_info": {
      "name": "python"
    }
  },
  "cells": [
    {
      "cell_type": "markdown",
      "source": [
        "# 4.1"
      ],
      "metadata": {
        "id": "l9_1MZ_unpT4"
      }
    },
    {
      "cell_type": "code",
      "source": [
        "import imageio\n",
        "img_arr=imageio.imread('bobby.jpg')\n",
        "img_arr.shape"
      ],
      "metadata": {
        "colab": {
          "base_uri": "https://localhost:8080/"
        },
        "id": "3JA5UKVbnr3L",
        "outputId": "c5fb1eda-5e34-495c-9f4f-efa2b58cd6a1"
      },
      "execution_count": 44,
      "outputs": [
        {
          "output_type": "execute_result",
          "data": {
            "text/plain": [
              "(720, 1280, 3)"
            ]
          },
          "metadata": {},
          "execution_count": 44
        }
      ]
    },
    {
      "cell_type": "markdown",
      "source": [
        "파이토치 모듈은 텐서가 채널X높이X너비 형태로 되어있어야 한다.\n",
        "\n",
        "배치를 사용한다면 배치크기x채널X높이X너비"
      ],
      "metadata": {
        "id": "zsCysulioZHu"
      }
    },
    {
      "cell_type": "code",
      "source": [
        "import torch\n",
        "\n",
        "img=torch.from_numpy(img_arr)\n",
        "out=img.permute(2,0,1)\n",
        "#out과 img저장공간이 같으며 텐서레벨에서 크기와 스트라이드 정보가 바뀌었기 때문에 img값이 바뀌면 out값도 바뀜"
      ],
      "metadata": {
        "id": "_P5cUNF1oMA7"
      },
      "execution_count": 45,
      "outputs": []
    },
    {
      "cell_type": "code",
      "source": [
        "batch_size=3\n",
        "batch=torch.zeros(batch_size,3,256,256,dtype=torch.uint8)"
      ],
      "metadata": {
        "id": "KLiU4txgstcr"
      },
      "execution_count": 46,
      "outputs": []
    },
    {
      "cell_type": "code",
      "source": [
        "import os\n",
        "data_dir='cats/'\n",
        "filenames=[name for name in os.listdir(data_dir) if os.path.splitext(name)[-1]=='png']\n",
        "for i,filename in enumerate(filenames):\n",
        "  img_arr=imageio.imread(os.path.join(data_dir,filename))\n",
        "  img_t=torch.from_numpy(img_arr)\n",
        "  img_t=img_t.permute(2,0,1)\n",
        "  img_t=img_t[:3] #투명 알파채널까지 있는 이미도 있는 경우가 있음 RGB만 사용할 예정이므로 첫 세개 채널만.\n",
        "  batch[i]=img_t\n"
      ],
      "metadata": {
        "id": "eGNbvnufuBa1"
      },
      "execution_count": 47,
      "outputs": []
    },
    {
      "cell_type": "markdown",
      "source": [
        "신경망은 입력값이 0 ~ 1이거나 -1 ~ 1일때 훈련성능이 가장 좋은 특징을 띤다. 따라서 대부분의 경우 텐서를 부동소수점으로 캐스팅하고 픽셀값을 정규화한다."
      ],
      "metadata": {
        "id": "bSsp30s4wZt6"
      }
    },
    {
      "cell_type": "code",
      "source": [
        "#단순하게 픽셀값을 부호없는 8비트의 정수의 최댓값인 255로 나눠 정규화 진행\n",
        "batch=batch.float()\n",
        "batch/=255.0"
      ],
      "metadata": {
        "id": "giWjFoXMwYeA"
      },
      "execution_count": 48,
      "outputs": []
    },
    {
      "cell_type": "code",
      "source": [
        "#입력 데이터의 평균과 표준편차를 구해 정규화 진행\n",
        "n_channels=batch.shape[1] #지금 배치사이즈 3x3x256x256\n",
        "for c in range(n_channels):\n",
        "    mean = torch.mean(batch[:, c])\n",
        "    std = torch.std(batch[:, c])\n",
        "    batch[:, c] = (batch[:, c] - mean) / std"
      ],
      "metadata": {
        "id": "4ydfs5OrwzbO"
      },
      "execution_count": 49,
      "outputs": []
    },
    {
      "cell_type": "markdown",
      "source": [
        "# 4.2"
      ],
      "metadata": {
        "id": "PAUIvRJjy_8I"
      }
    },
    {
      "cell_type": "code",
      "source": [
        "import imageio\n",
        "\n",
        "dir_path = \"data/\"\n",
        "vol_arr = imageio.volread(dir_path, 'DICOM')\n",
        "vol_arr.shape"
      ],
      "metadata": {
        "colab": {
          "base_uri": "https://localhost:8080/"
        },
        "id": "40zZ0XCHz_Ji",
        "outputId": "9291ff96-bf7e-4f49-c61a-44c3897cfd99"
      },
      "execution_count": 50,
      "outputs": [
        {
          "output_type": "stream",
          "name": "stdout",
          "text": [
            "Reading DICOM (examining files): 1/99 files (1.0%)\b\b\b\b\b\b\b\b\b\b\b\b\b\b\b\b\b99/99 files (100.0%)\n",
            "  Found 1 correct series.\n",
            "Reading DICOM (loading data): 40/99  (40.4%)\b\b\b\b\b\b\b\b\b\b\b\b\b\b99/99  (100.0%)\n"
          ]
        },
        {
          "output_type": "execute_result",
          "data": {
            "text/plain": [
              "(99, 512, 512)"
            ]
          },
          "metadata": {},
          "execution_count": 50
        }
      ]
    },
    {
      "cell_type": "code",
      "source": [
        "#채널차원을 위한 공간필요\n",
        "vol = torch.from_numpy(vol_arr).float()\n",
        "vol = torch.unsqueeze(vol, 0)\n",
        "\n",
        "vol.shape"
      ],
      "metadata": {
        "colab": {
          "base_uri": "https://localhost:8080/"
        },
        "id": "Qn2cEuwC0JVg",
        "outputId": "34bd5529-589d-44d8-aea2-88b31c174a04"
      },
      "execution_count": 51,
      "outputs": [
        {
          "output_type": "execute_result",
          "data": {
            "text/plain": [
              "torch.Size([1, 99, 512, 512])"
            ]
          },
          "metadata": {},
          "execution_count": 51
        }
      ]
    },
    {
      "cell_type": "code",
      "source": [
        "import matplotlib.pyplot as plt\n",
        "\n",
        "plt.imshow(vol_arr[20])"
      ],
      "metadata": {
        "colab": {
          "base_uri": "https://localhost:8080/",
          "height": 286
        },
        "id": "miUYWJ0-2vfq",
        "outputId": "ceb0bc66-1b2a-4b06-b309-fc025854d203"
      },
      "execution_count": 52,
      "outputs": [
        {
          "output_type": "execute_result",
          "data": {
            "text/plain": [
              "<matplotlib.image.AxesImage at 0x7fb52ceaf0d0>"
            ]
          },
          "metadata": {},
          "execution_count": 52
        },
        {
          "output_type": "display_data",
          "data": {
            "text/plain": [
              "<Figure size 432x288 with 1 Axes>"
            ],
            "image/png": "[encoded data removed]"
          },
          "metadata": {
            "needs_background": "light"
          }
        }
      ]
    },
    {
      "cell_type": "markdown",
      "source": [
        "# 4.3 와인데이터"
      ],
      "metadata": {
        "id": "SaemPBn92jf_"
      }
    },
    {
      "cell_type": "code",
      "source": [
        "import numpy as np\n",
        "import torch\n",
        "import csv\n",
        "wine_path = \"winequality-white.csv\"\n",
        "wineq_numpy = np.loadtxt(wine_path, dtype=np.float32, delimiter=\";\",\n",
        "                         skiprows=1)\n",
        "wineq_numpy"
      ],
      "metadata": {
        "colab": {
          "base_uri": "https://localhost:8080/"
        },
        "id": "qgv_a_KM3VN5",
        "outputId": "5fff3f3a-823a-440d-f44f-1de0c9e9c515"
      },
      "execution_count": 53,
      "outputs": [
        {
          "output_type": "execute_result",
          "data": {
            "text/plain": [
              "array([[ 7.  ,  0.27,  0.36, ...,  0.45,  8.8 ,  6.  ],\n",
              "       [ 6.3 ,  0.3 ,  0.34, ...,  0.49,  9.5 ,  6.  ],\n",
              "       [ 8.1 ,  0.28,  0.4 , ...,  0.44, 10.1 ,  6.  ],\n",
              "       ...,\n",
              "       [ 6.5 ,  0.24,  0.19, ...,  0.46,  9.4 ,  6.  ],\n",
              "       [ 5.5 ,  0.29,  0.3 , ...,  0.38, 12.8 ,  7.  ],\n",
              "       [ 6.  ,  0.21,  0.38, ...,  0.32, 11.8 ,  6.  ]], dtype=float32)"
            ]
          },
          "metadata": {},
          "execution_count": 53
        }
      ]
    },
    {
      "cell_type": "code",
      "source": [
        "col_list = next(csv.reader(open(wine_path), delimiter=';'))\n",
        "\n",
        "wineq_numpy.shape, col_list"
      ],
      "metadata": {
        "colab": {
          "base_uri": "https://localhost:8080/"
        },
        "id": "tI_H7wRz3eMw",
        "outputId": "6c41dcc9-f612-4279-ffa3-60aeacaf280d"
      },
      "execution_count": 54,
      "outputs": [
        {
          "output_type": "execute_result",
          "data": {
            "text/plain": [
              "((4898, 12),\n",
              " ['fixed acidity',\n",
              "  'volatile acidity',\n",
              "  'citric acid',\n",
              "  'residual sugar',\n",
              "  'chlorides',\n",
              "  'free sulfur dioxide',\n",
              "  'total sulfur dioxide',\n",
              "  'density',\n",
              "  'pH',\n",
              "  'sulphates',\n",
              "  'alcohol',\n",
              "  'quality'])"
            ]
          },
          "metadata": {},
          "execution_count": 54
        }
      ]
    },
    {
      "cell_type": "code",
      "source": [
        "wineq = torch.from_numpy(wineq_numpy)\n",
        "\n",
        "wineq.shape, wineq.dtype"
      ],
      "metadata": {
        "colab": {
          "base_uri": "https://localhost:8080/"
        },
        "id": "geq_HD5o5mFV",
        "outputId": "fc9d239d-0d62-4e7d-d314-56d65de09cfc"
      },
      "execution_count": 55,
      "outputs": [
        {
          "output_type": "execute_result",
          "data": {
            "text/plain": [
              "(torch.Size([4898, 12]), torch.float32)"
            ]
          },
          "metadata": {},
          "execution_count": 55
        }
      ]
    },
    {
      "cell_type": "code",
      "source": [
        "#점수 표현하기\n",
        "data = wineq[:, :-1] # 마지막열 제거\n",
        "data, data.shape"
      ],
      "metadata": {
        "colab": {
          "base_uri": "https://localhost:8080/"
        },
        "id": "QUJhAhob5xyV",
        "outputId": "dfb5a64f-676f-4f3c-b2a5-0c4a11a673a0"
      },
      "execution_count": 56,
      "outputs": [
        {
          "output_type": "execute_result",
          "data": {
            "text/plain": [
              "(tensor([[ 7.0000,  0.2700,  0.3600,  ...,  3.0000,  0.4500,  8.8000],\n",
              "         [ 6.3000,  0.3000,  0.3400,  ...,  3.3000,  0.4900,  9.5000],\n",
              "         [ 8.1000,  0.2800,  0.4000,  ...,  3.2600,  0.4400, 10.1000],\n",
              "         ...,\n",
              "         [ 6.5000,  0.2400,  0.1900,  ...,  2.9900,  0.4600,  9.4000],\n",
              "         [ 5.5000,  0.2900,  0.3000,  ...,  3.3400,  0.3800, 12.8000],\n",
              "         [ 6.0000,  0.2100,  0.3800,  ...,  3.2600,  0.3200, 11.8000]]),\n",
              " torch.Size([4898, 11]))"
            ]
          },
          "metadata": {},
          "execution_count": 56
        }
      ]
    },
    {
      "cell_type": "code",
      "source": [
        "target = wineq[:, -1] # 마지막열\n",
        "target, target.shape"
      ],
      "metadata": {
        "colab": {
          "base_uri": "https://localhost:8080/"
        },
        "id": "60vO8Aw26nnQ",
        "outputId": "4f47e971-f2fc-4f00-e2b0-9c1c9e10e3cd"
      },
      "execution_count": 57,
      "outputs": [
        {
          "output_type": "execute_result",
          "data": {
            "text/plain": [
              "(tensor([6., 6., 6.,  ..., 6., 7., 6.]), torch.Size([4898]))"
            ]
          },
          "metadata": {},
          "execution_count": 57
        }
      ]
    },
    {
      "cell_type": "code",
      "source": [
        "target = wineq[:, -1].long() #카테고리 데이터 정수벡터로 레이블처리\n",
        "target"
      ],
      "metadata": {
        "colab": {
          "base_uri": "https://localhost:8080/"
        },
        "id": "Xc_o11kR6tIE",
        "outputId": "73aea046-fbbf-4d38-8560-85ca4ffb1a2b"
      },
      "execution_count": 58,
      "outputs": [
        {
          "output_type": "execute_result",
          "data": {
            "text/plain": [
              "tensor([6, 6, 6,  ..., 6, 7, 6])"
            ]
          },
          "metadata": {},
          "execution_count": 58
        }
      ]
    },
    {
      "cell_type": "code",
      "source": [
        "#카테고리 데이터 원핫인코딩 이용(해당하는 원소하나만 1로 설정하고 나머지는 0으로)\n",
        "target_onehot = torch.zeros(target.shape[0], 10)\n",
        "\n",
        "#scatter 함수 인자\n",
        "#뒤에 오는 두개의 인자가 따라야 하는 차원을 명세\n",
        "#원핫으로 인코딩할 요소를 가리키는 인덱스가 들어있는 텐서\n",
        "#원핫 인코딩할 원소가 들어있는 텐서 혹은 단일 스칼라 이 경우엔 1\n",
        "\n",
        "target_onehot.scatter_(1, target.unsqueeze(1), 1.0)\n",
        "#각행에서 대상이 되는 레이블의 인덱스를 취한 후 열 인덱스 값으로 사용해서 해당 항목의 값을 1.0으로"
      ],
      "metadata": {
        "colab": {
          "base_uri": "https://localhost:8080/"
        },
        "id": "KKeLjcfA67Tc",
        "outputId": "364c983d-9c3d-4906-8efe-2a40039f3762"
      },
      "execution_count": 59,
      "outputs": [
        {
          "output_type": "execute_result",
          "data": {
            "text/plain": [
              "tensor([[0., 0., 0.,  ..., 0., 0., 0.],\n",
              "        [0., 0., 0.,  ..., 0., 0., 0.],\n",
              "        [0., 0., 0.,  ..., 0., 0., 0.],\n",
              "        ...,\n",
              "        [0., 0., 0.,  ..., 0., 0., 0.],\n",
              "        [0., 0., 0.,  ..., 1., 0., 0.],\n",
              "        [0., 0., 0.,  ..., 0., 0., 0.]])"
            ]
          },
          "metadata": {},
          "execution_count": 59
        }
      ]
    },
    {
      "cell_type": "code",
      "source": [
        "data_mean = torch.mean(data, dim=0) #피처별 평균\n",
        "data_mean"
      ],
      "metadata": {
        "colab": {
          "base_uri": "https://localhost:8080/"
        },
        "id": "vibiwPzl9LP2",
        "outputId": "6fb6c75f-b16d-4a55-9c72-492736a01663"
      },
      "execution_count": 60,
      "outputs": [
        {
          "output_type": "execute_result",
          "data": {
            "text/plain": [
              "tensor([6.8548e+00, 2.7824e-01, 3.3419e-01, 6.3914e+00, 4.5772e-02, 3.5308e+01,\n",
              "        1.3836e+02, 9.9403e-01, 3.1883e+00, 4.8985e-01, 1.0514e+01])"
            ]
          },
          "metadata": {},
          "execution_count": 60
        }
      ]
    },
    {
      "cell_type": "code",
      "source": [
        "data_var = torch.var(data, dim=0) #피처별 분산\n",
        "data_var"
      ],
      "metadata": {
        "colab": {
          "base_uri": "https://localhost:8080/"
        },
        "id": "SgzpKYdi-S_D",
        "outputId": "5583e961-d0f9-419f-b652-96974984b186"
      },
      "execution_count": 62,
      "outputs": [
        {
          "output_type": "execute_result",
          "data": {
            "text/plain": [
              "tensor([7.1211e-01, 1.0160e-02, 1.4646e-02, 2.5726e+01, 4.7733e-04, 2.8924e+02,\n",
              "        1.8061e+03, 8.9455e-06, 2.2801e-02, 1.3025e-02, 1.5144e+00])"
            ]
          },
          "metadata": {},
          "execution_count": 62
        }
      ]
    },
    {
      "cell_type": "code",
      "source": [
        "#정규화 진행\n",
        "data_normalized = (data - data_mean) / torch.sqrt(data_var)\n",
        "data_normalized"
      ],
      "metadata": {
        "colab": {
          "base_uri": "https://localhost:8080/"
        },
        "id": "xnoiYo_s-Wl3",
        "outputId": "14ff11c6-1e9c-4d31-c1d0-c267e8e830c9"
      },
      "execution_count": 63,
      "outputs": [
        {
          "output_type": "execute_result",
          "data": {
            "text/plain": [
              "tensor([[ 1.7208e-01, -8.1761e-02,  2.1326e-01,  ..., -1.2468e+00,\n",
              "         -3.4915e-01, -1.3930e+00],\n",
              "        [-6.5743e-01,  2.1587e-01,  4.7996e-02,  ...,  7.3995e-01,\n",
              "          1.3422e-03, -8.2419e-01],\n",
              "        [ 1.4756e+00,  1.7450e-02,  5.4378e-01,  ...,  4.7505e-01,\n",
              "         -4.3677e-01, -3.3663e-01],\n",
              "        ...,\n",
              "        [-4.2043e-01, -3.7940e-01, -1.1915e+00,  ..., -1.3130e+00,\n",
              "         -2.6153e-01, -9.0545e-01],\n",
              "        [-1.6054e+00,  1.1666e-01, -2.8253e-01,  ...,  1.0049e+00,\n",
              "         -9.6251e-01,  1.8574e+00],\n",
              "        [-1.0129e+00, -6.7703e-01,  3.7852e-01,  ...,  4.7505e-01,\n",
              "         -1.4882e+00,  1.0448e+00]])"
            ]
          },
          "metadata": {},
          "execution_count": 63
        }
      ]
    },
    {
      "cell_type": "code",
      "source": [
        "#임계값을 정해 쉽게 구별하기\n",
        "bad_indexes = target <= 3 # 점수가 3이하인 열을 거르기\n",
        "bad_indexes.shape, bad_indexes.dtype, bad_indexes.sum()"
      ],
      "metadata": {
        "colab": {
          "base_uri": "https://localhost:8080/"
        },
        "id": "oKvZMx2U-ilt",
        "outputId": "7cfda830-4c2d-44c8-e320-782c7472cd38"
      },
      "execution_count": 64,
      "outputs": [
        {
          "output_type": "execute_result",
          "data": {
            "text/plain": [
              "(torch.Size([4898]), torch.bool, tensor(20))"
            ]
          },
          "metadata": {},
          "execution_count": 64
        }
      ]
    },
    {
      "cell_type": "code",
      "source": [
        "bad_data = data[bad_indexes]\n",
        "bad_data.shape"
      ],
      "metadata": {
        "colab": {
          "base_uri": "https://localhost:8080/"
        },
        "id": "tzFJo28c-1Gl",
        "outputId": "6d1af072-846d-41d2-b177-89e7b3441cdf"
      },
      "execution_count": 65,
      "outputs": [
        {
          "output_type": "execute_result",
          "data": {
            "text/plain": [
              "torch.Size([20, 11])"
            ]
          },
          "metadata": {},
          "execution_count": 65
        }
      ]
    },
    {
      "cell_type": "code",
      "source": [
        "bad_data = data[target <= 3]\n",
        "mid_data = data[(target > 3) & (target < 7)] \n",
        "good_data = data[target >= 7]\n",
        "\n",
        "bad_mean = torch.mean(bad_data, dim=0)\n",
        "mid_mean = torch.mean(mid_data, dim=0)\n",
        "good_mean = torch.mean(good_data, dim=0)\n",
        "\n",
        "for i, args in enumerate(zip(col_list, bad_mean, mid_mean, good_mean)):\n",
        "    print('{:2} {:20} {:6.2f} {:6.2f} {:6.2f}'.format(i, *args))\n",
        "\n",
        "# 나쁜와인은 sulfur dioxide가 높은 편이고, 좋고 나쁜을 판단하기위한 대강의 평가기준으로 total sulfur dioxide를 임계값으로 사용해도 될거같다."
      ],
      "metadata": {
        "colab": {
          "base_uri": "https://localhost:8080/"
        },
        "id": "Y5DKFbwP-8Ca",
        "outputId": "105a70ed-ed9f-4267-9ac0-46f5636356aa"
      },
      "execution_count": 67,
      "outputs": [
        {
          "output_type": "stream",
          "name": "stdout",
          "text": [
            " 0 fixed acidity          7.60   6.89   6.73\n",
            " 1 volatile acidity       0.33   0.28   0.27\n",
            " 2 citric acid            0.34   0.34   0.33\n",
            " 3 residual sugar         6.39   6.71   5.26\n",
            " 4 chlorides              0.05   0.05   0.04\n",
            " 5 free sulfur dioxide   53.33  35.42  34.55\n",
            " 6 total sulfur dioxide 170.60 141.83 125.25\n",
            " 7 density                0.99   0.99   0.99\n",
            " 8 pH                     3.19   3.18   3.22\n",
            " 9 sulphates              0.47   0.49   0.50\n",
            "10 alcohol               10.34  10.26  11.42\n"
          ]
        }
      ]
    },
    {
      "cell_type": "code",
      "source": [
        "# total sulfur dioxide에서 앞서 계산해놓은 중앙점보다 낮은 인덱스만 가져오기\n",
        "total_sulfur_threshold = 141.83\n",
        "total_sulfur_data = data[:,6]\n",
        "predicted_indexes = torch.lt(total_sulfur_data, total_sulfur_threshold)\n",
        "\n",
        "predicted_indexes.shape, predicted_indexes.dtype, predicted_indexes.sum()"
      ],
      "metadata": {
        "colab": {
          "base_uri": "https://localhost:8080/"
        },
        "id": "DxUf87o4Acy6",
        "outputId": "c33f85e3-3d56-4b4f-d90d-d39a710ad2e1"
      },
      "execution_count": 71,
      "outputs": [
        {
          "output_type": "execute_result",
          "data": {
            "text/plain": [
              "(torch.Size([4898]), torch.bool, tensor(2727))"
            ]
          },
          "metadata": {},
          "execution_count": 71
        }
      ]
    },
    {
      "cell_type": "code",
      "source": [
        "#torch.lt는 요소비교에 사용됨(less than)\n",
        "a = torch.Tensor([[1, 2], [3, 4]])\n",
        "b = torch.Tensor([[1, 1], [4, 4]])\n",
        "torch.lt(a, b)"
      ],
      "metadata": {
        "colab": {
          "base_uri": "https://localhost:8080/"
        },
        "id": "wFmyf4pXBUjp",
        "outputId": "d2b9b0e2-8da8-45c5-f98d-1817b729206d"
      },
      "execution_count": 69,
      "outputs": [
        {
          "output_type": "execute_result",
          "data": {
            "text/plain": [
              "tensor([[False, False],\n",
              "        [ True, False]])"
            ]
          },
          "metadata": {},
          "execution_count": 69
        }
      ]
    },
    {
      "cell_type": "code",
      "source": [
        "#예측이 맞는지 확인하기 위해 실제로 좋은 와인의 인덱스를 뽑기\n",
        "actual_indexes = target > 5\n",
        "\n",
        "actual_indexes.shape, actual_indexes.dtype, actual_indexes.sum()"
      ],
      "metadata": {
        "colab": {
          "base_uri": "https://localhost:8080/"
        },
        "id": "HsqiZT4jBZ1q",
        "outputId": "a89d0ed7-c671-4740-df00-71beefdd0994"
      },
      "execution_count": 72,
      "outputs": [
        {
          "output_type": "execute_result",
          "data": {
            "text/plain": [
              "(torch.Size([4898]), torch.bool, tensor(3258))"
            ]
          },
          "metadata": {},
          "execution_count": 72
        }
      ]
    },
    {
      "cell_type": "code",
      "source": [
        "n_matches = torch.sum(actual_indexes & predicted_indexes).item()\n",
        "n_predicted = torch.sum(predicted_indexes).item()\n",
        "n_actual = torch.sum(actual_indexes).item()\n",
        "\n",
        "n_matches, n_matches / n_predicted, n_matches / n_actual"
      ],
      "metadata": {
        "colab": {
          "base_uri": "https://localhost:8080/"
        },
        "id": "XfOQ3DTzCFiy",
        "outputId": "fe733ee0-5ef1-48a3-ecc8-452c8d547d36"
      },
      "execution_count": 73,
      "outputs": [
        {
          "output_type": "execute_result",
          "data": {
            "text/plain": [
              "(2018, 0.74000733406674, 0.6193984039287906)"
            ]
          },
          "metadata": {},
          "execution_count": 73
        }
      ]
    },
    {
      "cell_type": "markdown",
      "source": [
        "# 4.4 시계열데이터"
      ],
      "metadata": {
        "id": "8fzi__57C5hG"
      }
    },
    {
      "cell_type": "code",
      "source": [
        "bikes_numpy = np.loadtxt(\n",
        "    \"hour-fixed.csv\", \n",
        "    dtype=np.float32, \n",
        "    delimiter=\",\", \n",
        "    skiprows=1, \n",
        "    converters={1: lambda x: float(x[8:10])}) # yyyy-mm-dd이런식으로 되어있는 첫번째 열의 일자문자열을 숫자로 변환\n",
        "bikes = torch.from_numpy(bikes_numpy)\n",
        "bikes"
      ],
      "metadata": {
        "colab": {
          "base_uri": "https://localhost:8080/"
        },
        "id": "uoYNH-iJCQW0",
        "outputId": "6cf30aba-f7b4-4112-b69c-5144ec288f5d"
      },
      "execution_count": 74,
      "outputs": [
        {
          "output_type": "execute_result",
          "data": {
            "text/plain": [
              "tensor([[1.0000e+00, 1.0000e+00, 1.0000e+00,  ..., 3.0000e+00, 1.3000e+01,\n",
              "         1.6000e+01],\n",
              "        [2.0000e+00, 1.0000e+00, 1.0000e+00,  ..., 8.0000e+00, 3.2000e+01,\n",
              "         4.0000e+01],\n",
              "        [3.0000e+00, 1.0000e+00, 1.0000e+00,  ..., 5.0000e+00, 2.7000e+01,\n",
              "         3.2000e+01],\n",
              "        ...,\n",
              "        [1.7377e+04, 3.1000e+01, 1.0000e+00,  ..., 7.0000e+00, 8.3000e+01,\n",
              "         9.0000e+01],\n",
              "        [1.7378e+04, 3.1000e+01, 1.0000e+00,  ..., 1.3000e+01, 4.8000e+01,\n",
              "         6.1000e+01],\n",
              "        [1.7379e+04, 3.1000e+01, 1.0000e+00,  ..., 1.2000e+01, 3.7000e+01,\n",
              "         4.9000e+01]])"
            ]
          },
          "metadata": {},
          "execution_count": 74
        }
      ]
    },
    {
      "cell_type": "code",
      "source": [
        "bikes.shape, bikes.stride()\n",
        "#17520시간에 17개열"
      ],
      "metadata": {
        "colab": {
          "base_uri": "https://localhost:8080/"
        },
        "id": "U1yjifiXG1Y2",
        "outputId": "c251ffdd-41ba-4905-beb9-26734b8e14ee"
      },
      "execution_count": 76,
      "outputs": [
        {
          "output_type": "execute_result",
          "data": {
            "text/plain": [
              "(torch.Size([17520, 17]), (17, 1))"
            ]
          },
          "metadata": {},
          "execution_count": 76
        }
      ]
    },
    {
      "cell_type": "code",
      "source": [
        "daily_bikes = bikes.view(-1, 24, bikes.shape[1]) #-1은 남은 차원과 거기에 들어있는 요소를 다 합친것을 의미하는 플레이스홀더로 사용 \n",
        "daily_bikes.shape, daily_bikes.stride()"
      ],
      "metadata": {
        "colab": {
          "base_uri": "https://localhost:8080/"
        },
        "id": "0KzFaoO6HDyO",
        "outputId": "b3730de5-83a3-4fa0-ce65-dff66d293a3a"
      },
      "execution_count": 77,
      "outputs": [
        {
          "output_type": "execute_result",
          "data": {
            "text/plain": [
              "(torch.Size([730, 24, 17]), (408, 17, 1))"
            ]
          },
          "metadata": {},
          "execution_count": 77
        }
      ]
    },
    {
      "cell_type": "code",
      "source": [
        "#전치를 통해 NxCxL:C개의 채널을 가진 하루를 L시간으로 나눈 N개의 연속된값\n",
        "daily_bikes = daily_bikes.transpose(1, 2)\n",
        "daily_bikes.shape, daily_bikes.stride()"
      ],
      "metadata": {
        "colab": {
          "base_uri": "https://localhost:8080/"
        },
        "id": "C1Kmr5dyJk9i",
        "outputId": "f5d0f5f7-8fe0-467a-cc35-afbd640720de"
      },
      "execution_count": 78,
      "outputs": [
        {
          "output_type": "execute_result",
          "data": {
            "text/plain": [
              "(torch.Size([730, 17, 24]), (408, 1, 17))"
            ]
          },
          "metadata": {},
          "execution_count": 78
        }
      ]
    },
    {
      "cell_type": "code",
      "source": [
        "#하루시간대만 먼저 생각해보기\n",
        "first_day=bikes[:24].long() #shape:(24,17)\n",
        "weather_onehot = torch.zeros(first_day.shape[0], 4) #날씨상태 총 4개있음.\n",
        "first_day[:,9] #9번째 열에 날씨상태가 있음"
      ],
      "metadata": {
        "colab": {
          "base_uri": "https://localhost:8080/"
        },
        "id": "6N0bcmrjKPu2",
        "outputId": "350a245c-8647-4cee-c497-60e37114a738"
      },
      "execution_count": 84,
      "outputs": [
        {
          "output_type": "execute_result",
          "data": {
            "text/plain": [
              "tensor([1, 1, 1, 1, 1, 2, 1, 1, 1, 1, 1, 1, 1, 2, 2, 2, 2, 2, 3, 3, 2, 2, 2, 2])"
            ]
          },
          "metadata": {},
          "execution_count": 84
        }
      ]
    },
    {
      "cell_type": "code",
      "source": [
        "#날씨 상태를 원핫인코딩으로 변환\n",
        "weather_onehot.scatter_(\n",
        "    dim=1, \n",
        "    index=first_day[:,9].unsqueeze(1).long() - 1, #날씨값이 1부터 4인데 색인은 0에서 시작해서 1빼줌\n",
        "    value=1.0)"
      ],
      "metadata": {
        "colab": {
          "base_uri": "https://localhost:8080/"
        },
        "id": "f1S0icYLKh_I",
        "outputId": "20ff5b98-e804-45c9-f0e4-4222ffb8199b"
      },
      "execution_count": 85,
      "outputs": [
        {
          "output_type": "execute_result",
          "data": {
            "text/plain": [
              "tensor([[1., 0., 0., 0.],\n",
              "        [1., 0., 0., 0.],\n",
              "        [1., 0., 0., 0.],\n",
              "        [1., 0., 0., 0.],\n",
              "        [1., 0., 0., 0.],\n",
              "        [0., 1., 0., 0.],\n",
              "        [1., 0., 0., 0.],\n",
              "        [1., 0., 0., 0.],\n",
              "        [1., 0., 0., 0.],\n",
              "        [1., 0., 0., 0.],\n",
              "        [1., 0., 0., 0.],\n",
              "        [1., 0., 0., 0.],\n",
              "        [1., 0., 0., 0.],\n",
              "        [0., 1., 0., 0.],\n",
              "        [0., 1., 0., 0.],\n",
              "        [0., 1., 0., 0.],\n",
              "        [0., 1., 0., 0.],\n",
              "        [0., 1., 0., 0.],\n",
              "        [0., 0., 1., 0.],\n",
              "        [0., 0., 1., 0.],\n",
              "        [0., 1., 0., 0.],\n",
              "        [0., 1., 0., 0.],\n",
              "        [0., 1., 0., 0.],\n",
              "        [0., 1., 0., 0.]])"
            ]
          },
          "metadata": {},
          "execution_count": 85
        }
      ]
    },
    {
      "cell_type": "code",
      "source": [
        "#원핫 인코딩한 행렬을 해당하는 각 행에 cat함수 이용해 추가.\n",
        "#첫번째 행을 보면, 9열은 날씨, 10번째부터 4개열은 그에 해당하는 원핫인코딩임을 확인할수 있음\n",
        "torch.cat((bikes[:24], weather_onehot), 1)[1]"
      ],
      "metadata": {
        "colab": {
          "base_uri": "https://localhost:8080/"
        },
        "id": "g6J-0SJQMNKi",
        "outputId": "d700b695-3fa5-4f96-ae2d-cc94a8fbdd76"
      },
      "execution_count": 89,
      "outputs": [
        {
          "output_type": "execute_result",
          "data": {
            "text/plain": [
              "tensor([ 2.0000,  1.0000,  1.0000,  0.0000,  1.0000,  1.0000,  0.0000,  6.0000,\n",
              "         0.0000,  1.0000,  0.2200,  0.2727,  0.8000,  0.0000,  8.0000, 32.0000,\n",
              "        40.0000,  1.0000,  0.0000,  0.0000,  0.0000])"
            ]
          },
          "metadata": {},
          "execution_count": 89
        }
      ]
    },
    {
      "cell_type": "code",
      "source": [
        "#이제 전체 데이터에 적용해보기\n",
        "daily_weather_onehot = torch.zeros(daily_bikes.shape[0], 4,\n",
        "                                   daily_bikes.shape[2])\n",
        "daily_weather_onehot.shape"
      ],
      "metadata": {
        "colab": {
          "base_uri": "https://localhost:8080/"
        },
        "id": "vbC8BDf-MUlR",
        "outputId": "d1d08fe8-8b11-488a-c75e-0d8413e6f4a1"
      },
      "execution_count": 90,
      "outputs": [
        {
          "output_type": "execute_result",
          "data": {
            "text/plain": [
              "torch.Size([730, 4, 24])"
            ]
          },
          "metadata": {},
          "execution_count": 90
        }
      ]
    },
    {
      "cell_type": "code",
      "source": [
        "daily_weather_onehot.scatter_(\n",
        "    1, daily_bikes[:,9,:].long().unsqueeze(1) - 1, 1.0)\n",
        "daily_weather_onehot.shape"
      ],
      "metadata": {
        "colab": {
          "base_uri": "https://localhost:8080/"
        },
        "id": "3FnkAmgYNQPg",
        "outputId": "4a8f91e8-fbb4-4b5e-eefb-2f997d900443"
      },
      "execution_count": 91,
      "outputs": [
        {
          "output_type": "execute_result",
          "data": {
            "text/plain": [
              "torch.Size([730, 4, 24])"
            ]
          },
          "metadata": {},
          "execution_count": 91
        }
      ]
    },
    {
      "cell_type": "code",
      "source": [
        "daily_bikes = torch.cat((daily_bikes, daily_weather_onehot), dim=1)"
      ],
      "metadata": {
        "id": "RvG1QAKkNVO-"
      },
      "execution_count": 92,
      "outputs": []
    },
    {
      "cell_type": "code",
      "source": [
        "#변수를 0~1사이의 사이로 범위변경하는것도 가능\n",
        "temp = daily_bikes[:, 10, :] #열번째열\n",
        "temp_min = torch.min(temp)\n",
        "temp_max = torch.max(temp)\n",
        "daily_bikes[:, 10, :] = ((daily_bikes[:, 10, :] - temp_min)\n",
        "                         / (temp_max - temp_min))"
      ],
      "metadata": {
        "id": "sL_ohqrdNddk"
      },
      "execution_count": 93,
      "outputs": []
    },
    {
      "cell_type": "code",
      "source": [
        "#표준정규분포를 따르게도 가능\n",
        "temp = daily_bikes[:, 10, :]\n",
        "daily_bikes[:, 10, :] = ((daily_bikes[:, 10, :] - torch.mean(temp))\n",
        "                         / torch.std(temp))"
      ],
      "metadata": {
        "id": "ymCpqsTmOZy5"
      },
      "execution_count": 94,
      "outputs": []
    },
    {
      "cell_type": "markdown",
      "source": [
        "# 4.5 텍스트표현\n",
        "\n",
        "문자(char) 원핫인코딩은 문자의 종류수가 벡터의 크기가 되어 각 문자가 이 크기의 벡터로 표현된다.\n",
        "\n",
        "단어단위로는 임베딩 매트릭스를 사용하여 텍스트를 표현한다. \n",
        "\n",
        "문자레벨은 문자 수가 훨신 적고 표현할 수 있는 클래스도 몇개 되지않는다.\n",
        "반면에 단어레벨은 큰 수의 클래스표현이 가능하고 사전에 없는 단어도 다룰수 있다."
      ],
      "metadata": {
        "id": "TDgddKuHOlOV"
      }
    },
    {
      "cell_type": "code",
      "source": [
        "with open('1342-0.txt', encoding='utf8') as f:\n",
        "    text = f.read()"
      ],
      "metadata": {
        "id": "UhZWT_GHO9WR"
      },
      "execution_count": 95,
      "outputs": []
    },
    {
      "cell_type": "code",
      "source": [
        "lines = text.split('\\n') #한 시퀀스씩\n",
        "#먼저 200번째 문장만 원핫 인코딩 하는방식을 보면\n",
        "line = lines[200]\n",
        "letter_t = torch.zeros(len(line), 128) #원핫인코딩한 문자의 총 수를 담을 텐서, 아스키코드사용해서 128로 정함\n",
        "letter_t.shape"
      ],
      "metadata": {
        "colab": {
          "base_uri": "https://localhost:8080/"
        },
        "id": "qwIQFLahO_Wn",
        "outputId": "cbc744dc-a317-4806-dc55-dcc3dcec4f76"
      },
      "execution_count": 99,
      "outputs": [
        {
          "output_type": "execute_result",
          "data": {
            "text/plain": [
              "torch.Size([70, 128])"
            ]
          },
          "metadata": {},
          "execution_count": 99
        }
      ]
    },
    {
      "cell_type": "code",
      "source": [
        "for i, letter in enumerate(line.lower().strip()):\n",
        "    letter_index = ord(letter) if ord(letter) < 128 else 0  # <1>\n",
        "    letter_t[i][letter_index] = 1\n",
        "letter_t"
      ],
      "metadata": {
        "colab": {
          "base_uri": "https://localhost:8080/"
        },
        "id": "SrWm9VB0Phub",
        "outputId": "b9c949de-45d2-4052-c618-a756cf20a48a"
      },
      "execution_count": 100,
      "outputs": [
        {
          "output_type": "execute_result",
          "data": {
            "text/plain": [
              "tensor([[1., 0., 0.,  ..., 0., 0., 0.],\n",
              "        [0., 0., 0.,  ..., 0., 0., 0.],\n",
              "        [0., 0., 0.,  ..., 0., 0., 0.],\n",
              "        ...,\n",
              "        [0., 0., 0.,  ..., 0., 0., 0.],\n",
              "        [0., 0., 0.,  ..., 0., 0., 0.],\n",
              "        [0., 0., 0.,  ..., 0., 0., 0.]])"
            ]
          },
          "metadata": {},
          "execution_count": 100
        }
      ]
    },
    {
      "cell_type": "code",
      "source": [
        "#단어임베딩\n",
        "def clean_words(input_str):\n",
        "    punctuation = '.,;:\"!?”“_-' #특수문자제거\n",
        "    word_list = input_str.lower().replace('\\n',' ').split() #공백단위로 \n",
        "    word_list = [word.strip(punctuation) for word in word_list] \n",
        "    return word_list\n",
        "\n",
        "words_in_line = clean_words(line)\n",
        "line, words_in_line"
      ],
      "metadata": {
        "colab": {
          "base_uri": "https://localhost:8080/"
        },
        "id": "K5o4K1pLQxf6",
        "outputId": "0077f9a3-f05d-415a-f91d-7807ba1ffa1d"
      },
      "execution_count": 101,
      "outputs": [
        {
          "output_type": "execute_result",
          "data": {
            "text/plain": [
              "('“Impossible, Mr. Bennet, impossible, when I am not acquainted with him',\n",
              " ['impossible',\n",
              "  'mr',\n",
              "  'bennet',\n",
              "  'impossible',\n",
              "  'when',\n",
              "  'i',\n",
              "  'am',\n",
              "  'not',\n",
              "  'acquainted',\n",
              "  'with',\n",
              "  'him'])"
            ]
          },
          "metadata": {},
          "execution_count": 101
        }
      ]
    },
    {
      "cell_type": "code",
      "source": [
        "word_list = sorted(set(clean_words(text))) #존재하는 모든 단어들을 담은 리스트\n",
        "word2index_dict = {word: i for (i, word) in enumerate(word_list)} #각 단어에 모두 정수값을 부여 \n",
        "#'단어':대응하는정수값 형식인 딕셔너리\n",
        "len(word2index_dict), word2index_dict['impossible']"
      ],
      "metadata": {
        "colab": {
          "base_uri": "https://localhost:8080/"
        },
        "id": "EJtF_NfpQ-rf",
        "outputId": "00eb0a9e-3991-4489-adcd-5c252b95f213"
      },
      "execution_count": 107,
      "outputs": [
        {
          "output_type": "execute_result",
          "data": {
            "text/plain": [
              "(7261, 3394)"
            ]
          },
          "metadata": {},
          "execution_count": 107
        }
      ]
    },
    {
      "cell_type": "code",
      "source": [
        "#위에서 만든 딕셔너리 참고하여 문장을 정수값으로 바꿔줄수 있음.\n",
        "word_t = torch.zeros(len(words_in_line), len(word2index_dict))\n",
        "for i, word in enumerate(words_in_line):\n",
        "    word_index = word2index_dict[word]\n",
        "    word_t[i][word_index] = 1\n",
        "    print('{:2} {:4} {}'.format(i, word_index, word))\n",
        "    \n",
        "print(word_t.shape)"
      ],
      "metadata": {
        "colab": {
          "base_uri": "https://localhost:8080/"
        },
        "id": "B2upAaezRDIv",
        "outputId": "ea4db485-8c74-4c5a-8bb6-a2f0d8e7d7df"
      },
      "execution_count": 104,
      "outputs": [
        {
          "output_type": "stream",
          "name": "stdout",
          "text": [
            " 0 3394 impossible\n",
            " 1 4305 mr\n",
            " 2  813 bennet\n",
            " 3 3394 impossible\n",
            " 4 7078 when\n",
            " 5 3315 i\n",
            " 6  415 am\n",
            " 7 4436 not\n",
            " 8  239 acquainted\n",
            " 9 7148 with\n",
            "10 3215 him\n",
            "torch.Size([11, 7261])\n"
          ]
        }
      ]
    },
    {
      "cell_type": "code",
      "source": [
        "word_t = word_t.unsqueeze(1)\n",
        "word_t.shape"
      ],
      "metadata": {
        "colab": {
          "base_uri": "https://localhost:8080/"
        },
        "id": "0_mN0n_BRDPb",
        "outputId": "ac37ae21-0d56-49c1-f272-c3fc3f746698"
      },
      "execution_count": 105,
      "outputs": [
        {
          "output_type": "execute_result",
          "data": {
            "text/plain": [
              "torch.Size([11, 1, 7261])"
            ]
          },
          "metadata": {},
          "execution_count": 105
        }
      ]
    },
    {
      "cell_type": "code",
      "source": [
        "[(c, ord(c)) for c in sorted(set(text))]"
      ],
      "metadata": {
        "colab": {
          "base_uri": "https://localhost:8080/"
        },
        "id": "k_k_jiAVRDV6",
        "outputId": "9c72d246-5533-48ce-9443-6cc1271f4b4a"
      },
      "execution_count": 102,
      "outputs": [
        {
          "output_type": "execute_result",
          "data": {
            "text/plain": [
              "[('\\n', 10),\n",
              " (' ', 32),\n",
              " ('!', 33),\n",
              " ('#', 35),\n",
              " ('$', 36),\n",
              " ('%', 37),\n",
              " (\"'\", 39),\n",
              " ('(', 40),\n",
              " (')', 41),\n",
              " ('*', 42),\n",
              " (',', 44),\n",
              " ('-', 45),\n",
              " ('.', 46),\n",
              " ('/', 47),\n",
              " ('0', 48),\n",
              " ('1', 49),\n",
              " ('2', 50),\n",
              " ('3', 51),\n",
              " ('4', 52),\n",
              " ('5', 53),\n",
              " ('6', 54),\n",
              " ('7', 55),\n",
              " ('8', 56),\n",
              " ('9', 57),\n",
              " (':', 58),\n",
              " (';', 59),\n",
              " ('?', 63),\n",
              " ('@', 64),\n",
              " ('A', 65),\n",
              " ('B', 66),\n",
              " ('C', 67),\n",
              " ('D', 68),\n",
              " ('E', 69),\n",
              " ('F', 70),\n",
              " ('G', 71),\n",
              " ('H', 72),\n",
              " ('I', 73),\n",
              " ('J', 74),\n",
              " ('K', 75),\n",
              " ('L', 76),\n",
              " ('M', 77),\n",
              " ('N', 78),\n",
              " ('O', 79),\n",
              " ('P', 80),\n",
              " ('Q', 81),\n",
              " ('R', 82),\n",
              " ('S', 83),\n",
              " ('T', 84),\n",
              " ('U', 85),\n",
              " ('V', 86),\n",
              " ('W', 87),\n",
              " ('X', 88),\n",
              " ('Y', 89),\n",
              " ('Z', 90),\n",
              " ('[', 91),\n",
              " (']', 93),\n",
              " ('_', 95),\n",
              " ('a', 97),\n",
              " ('b', 98),\n",
              " ('c', 99),\n",
              " ('d', 100),\n",
              " ('e', 101),\n",
              " ('f', 102),\n",
              " ('g', 103),\n",
              " ('h', 104),\n",
              " ('i', 105),\n",
              " ('j', 106),\n",
              " ('k', 107),\n",
              " ('l', 108),\n",
              " ('m', 109),\n",
              " ('n', 110),\n",
              " ('o', 111),\n",
              " ('p', 112),\n",
              " ('q', 113),\n",
              " ('r', 114),\n",
              " ('s', 115),\n",
              " ('t', 116),\n",
              " ('u', 117),\n",
              " ('v', 118),\n",
              " ('w', 119),\n",
              " ('x', 120),\n",
              " ('y', 121),\n",
              " ('z', 122),\n",
              " ('“', 8220),\n",
              " ('”', 8221),\n",
              " ('\\ufeff', 65279)]"
            ]
          },
          "metadata": {},
          "execution_count": 102
        }
      ]
    },
    {
      "cell_type": "markdown",
      "source": [
        "![KakaoTalk_Photo_2022-09-07-14-06-33.jpeg](data:image/jpeg;base64,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)\n",
        "\n",
        "https://morioh.com/p/b5b47aa51746"
      ],
      "metadata": {
        "id": "gEV6IFTpUNzC"
      }
    },
    {
      "cell_type": "code",
      "source": [],
      "metadata": {
        "id": "EZbOAF_PWOTk"
      },
      "execution_count": null,
      "outputs": []
    }
  ]
}