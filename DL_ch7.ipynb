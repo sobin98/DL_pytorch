{
  "nbformat": 4,
  "nbformat_minor": 0,
  "metadata": {
    "colab": {
      "provenance": [],
      "collapsed_sections": []
    },
    "kernelspec": {
      "name": "python3",
      "display_name": "Python 3"
    },
    "language_info": {
      "name": "python"
    },
    "widgets": {
      "application/vnd.jupyter.widget-state+json": {
        "b10b15bf10174a628f18573ef6bb9572": {
          "model_module": "@jupyter-widgets/controls",
          "model_name": "HBoxModel",
          "model_module_version": "1.5.0",
          "state": {
            "_dom_classes": [],
            "_model_module": "@jupyter-widgets/controls",
            "_model_module_version": "1.5.0",
            "_model_name": "HBoxModel",
            "_view_count": null,
            "_view_module": "@jupyter-widgets/controls",
            "_view_module_version": "1.5.0",
            "_view_name": "HBoxView",
            "box_style": "",
            "children": [
              "IPY_MODEL_ab03f868e5c44b4ca64094a2081c07e9",
              "IPY_MODEL_746f4ca10ee34e10b4b919bf49df3b97",
              "IPY_MODEL_a523e1e54a71497a951b0f8bac780386"
            ],
            "layout": "IPY_MODEL_080726b58fd9424893042880adee28a6"
          }
        },
        "ab03f868e5c44b4ca64094a2081c07e9": {
          "model_module": "@jupyter-widgets/controls",
          "model_name": "HTMLModel",
          "model_module_version": "1.5.0",
          "state": {
            "_dom_classes": [],
            "_model_module": "@jupyter-widgets/controls",
            "_model_module_version": "1.5.0",
            "_model_name": "HTMLModel",
            "_view_count": null,
            "_view_module": "@jupyter-widgets/controls",
            "_view_module_version": "1.5.0",
            "_view_name": "HTMLView",
            "description": "",
            "description_tooltip": null,
            "layout": "IPY_MODEL_f2a51128163c41db9f0a706236e7fed4",
            "placeholder": "​",
            "style": "IPY_MODEL_fe5479e1dce64e74a406ff50d1a3664b",
            "value": "100%"
          }
        },
        "746f4ca10ee34e10b4b919bf49df3b97": {
          "model_module": "@jupyter-widgets/controls",
          "model_name": "FloatProgressModel",
          "model_module_version": "1.5.0",
          "state": {
            "_dom_classes": [],
            "_model_module": "@jupyter-widgets/controls",
            "_model_module_version": "1.5.0",
            "_model_name": "FloatProgressModel",
            "_view_count": null,
            "_view_module": "@jupyter-widgets/controls",
            "_view_module_version": "1.5.0",
            "_view_name": "ProgressView",
            "bar_style": "success",
            "description": "",
            "description_tooltip": null,
            "layout": "IPY_MODEL_1041c62dea504f2eb3350b9877742ea1",
            "max": 170498071,
            "min": 0,
            "orientation": "horizontal",
            "style": "IPY_MODEL_f68f2321dcaf4dfeaf302986d9de924d",
            "value": 170498071
          }
        },
        "a523e1e54a71497a951b0f8bac780386": {
          "model_module": "@jupyter-widgets/controls",
          "model_name": "HTMLModel",
          "model_module_version": "1.5.0",
          "state": {
            "_dom_classes": [],
            "_model_module": "@jupyter-widgets/controls",
            "_model_module_version": "1.5.0",
            "_model_name": "HTMLModel",
            "_view_count": null,
            "_view_module": "@jupyter-widgets/controls",
            "_view_module_version": "1.5.0",
            "_view_name": "HTMLView",
            "description": "",
            "description_tooltip": null,
            "layout": "IPY_MODEL_9bf938524dda4ef3972331d2b79e09c7",
            "placeholder": "​",
            "style": "IPY_MODEL_578d92374b9144f6a79ee468e227ca96",
            "value": " 170498071/170498071 [00:02&lt;00:00, 77654452.68it/s]"
          }
        },
        "080726b58fd9424893042880adee28a6": {
          "model_module": "@jupyter-widgets/base",
          "model_name": "LayoutModel",
          "model_module_version": "1.2.0",
          "state": {
            "_model_module": "@jupyter-widgets/base",
            "_model_module_version": "1.2.0",
            "_model_name": "LayoutModel",
            "_view_count": null,
            "_view_module": "@jupyter-widgets/base",
            "_view_module_version": "1.2.0",
            "_view_name": "LayoutView",
            "align_content": null,
            "align_items": null,
            "align_self": null,
            "border": null,
            "bottom": null,
            "display": null,
            "flex": null,
            "flex_flow": null,
            "grid_area": null,
            "grid_auto_columns": null,
            "grid_auto_flow": null,
            "grid_auto_rows": null,
            "grid_column": null,
            "grid_gap": null,
            "grid_row": null,
            "grid_template_areas": null,
            "grid_template_columns": null,
            "grid_template_rows": null,
            "height": null,
            "justify_content": null,
            "justify_items": null,
            "left": null,
            "margin": null,
            "max_height": null,
            "max_width": null,
            "min_height": null,
            "min_width": null,
            "object_fit": null,
            "object_position": null,
            "order": null,
            "overflow": null,
            "overflow_x": null,
            "overflow_y": null,
            "padding": null,
            "right": null,
            "top": null,
            "visibility": null,
            "width": null
          }
        },
        "f2a51128163c41db9f0a706236e7fed4": {
          "model_module": "@jupyter-widgets/base",
          "model_name": "LayoutModel",
          "model_module_version": "1.2.0",
          "state": {
            "_model_module": "@jupyter-widgets/base",
            "_model_module_version": "1.2.0",
            "_model_name": "LayoutModel",
            "_view_count": null,
            "_view_module": "@jupyter-widgets/base",
            "_view_module_version": "1.2.0",
            "_view_name": "LayoutView",
            "align_content": null,
            "align_items": null,
            "align_self": null,
            "border": null,
            "bottom": null,
            "display": null,
            "flex": null,
            "flex_flow": null,
            "grid_area": null,
            "grid_auto_columns": null,
            "grid_auto_flow": null,
            "grid_auto_rows": null,
            "grid_column": null,
            "grid_gap": null,
            "grid_row": null,
            "grid_template_areas": null,
            "grid_template_columns": null,
            "grid_template_rows": null,
            "height": null,
            "justify_content": null,
            "justify_items": null,
            "left": null,
            "margin": null,
            "max_height": null,
            "max_width": null,
            "min_height": null,
            "min_width": null,
            "object_fit": null,
            "object_position": null,
            "order": null,
            "overflow": null,
            "overflow_x": null,
            "overflow_y": null,
            "padding": null,
            "right": null,
            "top": null,
            "visibility": null,
            "width": null
          }
        },
        "fe5479e1dce64e74a406ff50d1a3664b": {
          "model_module": "@jupyter-widgets/controls",
          "model_name": "DescriptionStyleModel",
          "model_module_version": "1.5.0",
          "state": {
            "_model_module": "@jupyter-widgets/controls",
            "_model_module_version": "1.5.0",
            "_model_name": "DescriptionStyleModel",
            "_view_count": null,
            "_view_module": "@jupyter-widgets/base",
            "_view_module_version": "1.2.0",
            "_view_name": "StyleView",
            "description_width": ""
          }
        },
        "1041c62dea504f2eb3350b9877742ea1": {
          "model_module": "@jupyter-widgets/base",
          "model_name": "LayoutModel",
          "model_module_version": "1.2.0",
          "state": {
            "_model_module": "@jupyter-widgets/base",
            "_model_module_version": "1.2.0",
            "_model_name": "LayoutModel",
            "_view_count": null,
            "_view_module": "@jupyter-widgets/base",
            "_view_module_version": "1.2.0",
            "_view_name": "LayoutView",
            "align_content": null,
            "align_items": null,
            "align_self": null,
            "border": null,
            "bottom": null,
            "display": null,
            "flex": null,
            "flex_flow": null,
            "grid_area": null,
            "grid_auto_columns": null,
            "grid_auto_flow": null,
            "grid_auto_rows": null,
            "grid_column": null,
            "grid_gap": null,
            "grid_row": null,
            "grid_template_areas": null,
            "grid_template_columns": null,
            "grid_template_rows": null,
            "height": null,
            "justify_content": null,
            "justify_items": null,
            "left": null,
            "margin": null,
            "max_height": null,
            "max_width": null,
            "min_height": null,
            "min_width": null,
            "object_fit": null,
            "object_position": null,
            "order": null,
            "overflow": null,
            "overflow_x": null,
            "overflow_y": null,
            "padding": null,
            "right": null,
            "top": null,
            "visibility": null,
            "width": null
          }
        },
        "f68f2321dcaf4dfeaf302986d9de924d": {
          "model_module": "@jupyter-widgets/controls",
          "model_name": "ProgressStyleModel",
          "model_module_version": "1.5.0",
          "state": {
            "_model_module": "@jupyter-widgets/controls",
            "_model_module_version": "1.5.0",
            "_model_name": "ProgressStyleModel",
            "_view_count": null,
            "_view_module": "@jupyter-widgets/base",
            "_view_module_version": "1.2.0",
            "_view_name": "StyleView",
            "bar_color": null,
            "description_width": ""
          }
        },
        "9bf938524dda4ef3972331d2b79e09c7": {
          "model_module": "@jupyter-widgets/base",
          "model_name": "LayoutModel",
          "model_module_version": "1.2.0",
          "state": {
            "_model_module": "@jupyter-widgets/base",
            "_model_module_version": "1.2.0",
            "_model_name": "LayoutModel",
            "_view_count": null,
            "_view_module": "@jupyter-widgets/base",
            "_view_module_version": "1.2.0",
            "_view_name": "LayoutView",
            "align_content": null,
            "align_items": null,
            "align_self": null,
            "border": null,
            "bottom": null,
            "display": null,
            "flex": null,
            "flex_flow": null,
            "grid_area": null,
            "grid_auto_columns": null,
            "grid_auto_flow": null,
            "grid_auto_rows": null,
            "grid_column": null,
            "grid_gap": null,
            "grid_row": null,
            "grid_template_areas": null,
            "grid_template_columns": null,
            "grid_template_rows": null,
            "height": null,
            "justify_content": null,
            "justify_items": null,
            "left": null,
            "margin": null,
            "max_height": null,
            "max_width": null,
            "min_height": null,
            "min_width": null,
            "object_fit": null,
            "object_position": null,
            "order": null,
            "overflow": null,
            "overflow_x": null,
            "overflow_y": null,
            "padding": null,
            "right": null,
            "top": null,
            "visibility": null,
            "width": null
          }
        },
        "578d92374b9144f6a79ee468e227ca96": {
          "model_module": "@jupyter-widgets/controls",
          "model_name": "DescriptionStyleModel",
          "model_module_version": "1.5.0",
          "state": {
            "_model_module": "@jupyter-widgets/controls",
            "_model_module_version": "1.5.0",
            "_model_name": "DescriptionStyleModel",
            "_view_count": null,
            "_view_module": "@jupyter-widgets/base",
            "_view_module_version": "1.2.0",
            "_view_name": "StyleView",
            "description_width": ""
          }
        }
      }
    },
    "accelerator": "GPU",
    "gpuClass": "standard"
  },
  "cells": [
    {
      "cell_type": "code",
      "execution_count": 1,
      "metadata": {
        "colab": {
          "base_uri": "https://localhost:8080/",
          "height": 101,
          "referenced_widgets": [
            "b10b15bf10174a628f18573ef6bb9572",
            "ab03f868e5c44b4ca64094a2081c07e9",
            "746f4ca10ee34e10b4b919bf49df3b97",
            "a523e1e54a71497a951b0f8bac780386",
            "080726b58fd9424893042880adee28a6",
            "f2a51128163c41db9f0a706236e7fed4",
            "fe5479e1dce64e74a406ff50d1a3664b",
            "1041c62dea504f2eb3350b9877742ea1",
            "f68f2321dcaf4dfeaf302986d9de924d",
            "9bf938524dda4ef3972331d2b79e09c7",
            "578d92374b9144f6a79ee468e227ca96"
          ]
        },
        "id": "7f_0fxlBo2Xq",
        "outputId": "9996a248-6cdb-4ea0-932d-70a7b0027df2"
      },
      "outputs": [
        {
          "output_type": "stream",
          "name": "stdout",
          "text": [
            "Downloading https://www.cs.toronto.edu/~kriz/cifar-10-python.tar.gz to data/ch7/cifar-10-python.tar.gz\n"
          ]
        },
        {
          "output_type": "display_data",
          "data": {
            "text/plain": [
              "  0%|          | 0/170498071 [00:00<?, ?it/s]"
            ],
            "application/vnd.jupyter.widget-view+json": {
              "version_major": 2,
              "version_minor": 0,
              "model_id": "b10b15bf10174a628f18573ef6bb9572"
            }
          },
          "metadata": {}
        },
        {
          "output_type": "stream",
          "name": "stdout",
          "text": [
            "Extracting data/ch7/cifar-10-python.tar.gz to data/ch7/\n",
            "Files already downloaded and verified\n"
          ]
        }
      ],
      "source": [
        "from matplotlib import pyplot as plt\n",
        "import numpy as np\n",
        "import torch\n",
        "\n",
        "from torchvision import datasets\n",
        "data_path = 'data/ch7/'\n",
        "cifar10 = datasets.CIFAR10(data_path, train=True, download=True) # 훈련데이터용 다운로드. 없으면 토치비전이 다운로드함\n",
        "cifar10_val = datasets.CIFAR10(data_path, train=False, download=True) # train이 False로 되어있으면 검증용 데이터를 얻을 수 있다."
      ]
    },
    {
      "cell_type": "markdown",
      "source": [
        "# 7.1\n",
        "\n",
        "torch.utils.data.Dataset에서 데이터셋에는 \\_\\_len\\_\\_메소드와 \\_\\_getitem\\_\\_메소드가 구현되어있다. 개별 아이템에 접근할때는 표준 서브스크립틍 해당하는 색인용 튜플과 리스트를 사용할 수 있다."
      ],
      "metadata": {
        "id": "0ectYwlIURLx"
      }
    },
    {
      "cell_type": "code",
      "source": [
        "class_names = ['airplane','automobile','bird','cat','deer',\n",
        "               'dog','frog','horse','ship','truck']\n",
        "\n",
        "img,label=cifar10[99]\n",
        "img,label,class_names[label]"
      ],
      "metadata": {
        "colab": {
          "base_uri": "https://localhost:8080/"
        },
        "id": "KuRMOkW9VAf7",
        "outputId": "5150e97f-3c87-4991-90b3-eb45f33b9aa5"
      },
      "execution_count": 2,
      "outputs": [
        {
          "output_type": "execute_result",
          "data": {
            "text/plain": [
              "(<PIL.Image.Image image mode=RGB size=32x32 at 0x7F1570C78550>,\n",
              " 1,\n",
              " 'automobile')"
            ]
          },
          "metadata": {},
          "execution_count": 2
        }
      ]
    },
    {
      "cell_type": "code",
      "source": [
        "plt.imshow(img)\n",
        "plt.show()"
      ],
      "metadata": {
        "colab": {
          "base_uri": "https://localhost:8080/",
          "height": 266
        },
        "id": "zCOPua96VJv4",
        "outputId": "8d547566-ed9b-4059-af3c-19258fe18b13"
      },
      "execution_count": 3,
      "outputs": [
        {
          "output_type": "display_data",
          "data": {
            "text/plain": [
              "<Figure size 432x288 with 1 Axes>"
            ],
            "image/png": "[encoded data removed]"
          },
          "metadata": {
            "needs_background": "light"
          }
        }
      ]
    },
    {
      "cell_type": "code",
      "source": [
        "class_names = ['airplane','automobile','bird','cat','deer',\n",
        "               'dog','frog','horse','ship','truck']\n",
        "\n",
        "fig = plt.figure(figsize=(8,3))\n",
        "num_classes = 10\n",
        "for i in range(num_classes):\n",
        "    ax = fig.add_subplot(2, 5, 1 + i, xticks=[], yticks=[])\n",
        "    ax.set_title(class_names[i])\n",
        "    img = next(img for img, label in cifar10 if label == i)\n",
        "    plt.imshow(img)\n",
        "plt.show()"
      ],
      "metadata": {
        "colab": {
          "base_uri": "https://localhost:8080/",
          "height": 213
        },
        "id": "pkJtwwJhvQ66",
        "outputId": "ecb63130-3e95-49ca-d407-d2a25a5114ef"
      },
      "execution_count": 4,
      "outputs": [
        {
          "output_type": "display_data",
          "data": {
            "text/plain": [
              "<Figure size 576x216 with 10 Axes>"
            ],
            "image/png": "[encoded data removed]"
          },
          "metadata": {}
        }
      ]
    },
    {
      "cell_type": "code",
      "source": [
        "# 이미지를 파이토치 텐서로 변환\n",
        "from torchvision import transforms #이 모듈은 재구성 가능 함수형태의 여러 객체들을 정의하고 있어서 CIFAR10같은 torchvision데이터셋에 인자로 전달가능하고 로드후에 __getitem__이 결과를 변환하기에 앞서 변환을 수행함 \n",
        "dir(transforms)"
      ],
      "metadata": {
        "colab": {
          "base_uri": "https://localhost:8080/"
        },
        "id": "AeZj-tXLVuEU",
        "outputId": "dbf82d02-34ed-4f74-aeea-683ed64ae837"
      },
      "execution_count": 5,
      "outputs": [
        {
          "output_type": "execute_result",
          "data": {
            "text/plain": [
              "['AugMix',\n",
              " 'AutoAugment',\n",
              " 'AutoAugmentPolicy',\n",
              " 'CenterCrop',\n",
              " 'ColorJitter',\n",
              " 'Compose',\n",
              " 'ConvertImageDtype',\n",
              " 'FiveCrop',\n",
              " 'GaussianBlur',\n",
              " 'Grayscale',\n",
              " 'InterpolationMode',\n",
              " 'Lambda',\n",
              " 'LinearTransformation',\n",
              " 'Normalize',\n",
              " 'PILToTensor',\n",
              " 'Pad',\n",
              " 'RandAugment',\n",
              " 'RandomAdjustSharpness',\n",
              " 'RandomAffine',\n",
              " 'RandomApply',\n",
              " 'RandomAutocontrast',\n",
              " 'RandomChoice',\n",
              " 'RandomCrop',\n",
              " 'RandomEqualize',\n",
              " 'RandomErasing',\n",
              " 'RandomGrayscale',\n",
              " 'RandomHorizontalFlip',\n",
              " 'RandomInvert',\n",
              " 'RandomOrder',\n",
              " 'RandomPerspective',\n",
              " 'RandomPosterize',\n",
              " 'RandomResizedCrop',\n",
              " 'RandomRotation',\n",
              " 'RandomSolarize',\n",
              " 'RandomVerticalFlip',\n",
              " 'Resize',\n",
              " 'TenCrop',\n",
              " 'ToPILImage',\n",
              " 'ToTensor',\n",
              " 'TrivialAugmentWide',\n",
              " '__builtins__',\n",
              " '__cached__',\n",
              " '__doc__',\n",
              " '__file__',\n",
              " '__loader__',\n",
              " '__name__',\n",
              " '__package__',\n",
              " '__path__',\n",
              " '__spec__',\n",
              " '_pil_constants',\n",
              " '_presets',\n",
              " 'autoaugment',\n",
              " 'functional',\n",
              " 'functional_pil',\n",
              " 'functional_tensor',\n",
              " 'transforms']"
            ]
          },
          "metadata": {},
          "execution_count": 5
        }
      ]
    },
    {
      "cell_type": "code",
      "source": [
        "to_tensor=transforms.ToTensor()\n",
        "img_t=to_tensor(img)\n",
        "img_t.shape"
      ],
      "metadata": {
        "colab": {
          "base_uri": "https://localhost:8080/"
        },
        "id": "TGp9CzpCXFS7",
        "outputId": "4d29855b-6d39-489f-86f4-2ea9491e0ea7"
      },
      "execution_count": 6,
      "outputs": [
        {
          "output_type": "execute_result",
          "data": {
            "text/plain": [
              "torch.Size([3, 32, 32])"
            ]
          },
          "metadata": {},
          "execution_count": 6
        }
      ]
    },
    {
      "cell_type": "code",
      "source": [
        "#로드할때 부터 텐서로 받아오는것도 가능\n",
        "cifar10 = datasets.CIFAR10(data_path, train=True, download=True, transform=transforms.ToTensor())\n",
        "img_t, _ = cifar10[99]\n",
        "type(img_t)"
      ],
      "metadata": {
        "colab": {
          "base_uri": "https://localhost:8080/"
        },
        "id": "XIyIsGYbXdCb",
        "outputId": "61f14722-805b-45f2-e631-d4ab562824d5"
      },
      "execution_count": 7,
      "outputs": [
        {
          "output_type": "stream",
          "name": "stdout",
          "text": [
            "Files already downloaded and verified\n"
          ]
        },
        {
          "output_type": "execute_result",
          "data": {
            "text/plain": [
              "torch.Tensor"
            ]
          },
          "metadata": {},
          "execution_count": 7
        }
      ]
    },
    {
      "cell_type": "code",
      "source": [
        "img_t.shape"
      ],
      "metadata": {
        "colab": {
          "base_uri": "https://localhost:8080/"
        },
        "id": "9tKp5qh4Xw3Z",
        "outputId": "3167c09a-7d90-4adc-daaa-e4b39334c9d5"
      },
      "execution_count": 8,
      "outputs": [
        {
          "output_type": "execute_result",
          "data": {
            "text/plain": [
              "torch.Size([3, 32, 32])"
            ]
          },
          "metadata": {},
          "execution_count": 8
        }
      ]
    },
    {
      "cell_type": "code",
      "source": [
        "img_t.dtype"
      ],
      "metadata": {
        "colab": {
          "base_uri": "https://localhost:8080/"
        },
        "id": "DRyb1nx7Xx8C",
        "outputId": "5b3dde96-b87d-464f-f2d8-7a7493ab6588"
      },
      "execution_count": 9,
      "outputs": [
        {
          "output_type": "execute_result",
          "data": {
            "text/plain": [
              "torch.float32"
            ]
          },
          "metadata": {},
          "execution_count": 9
        }
      ]
    },
    {
      "cell_type": "code",
      "source": [
        "img_t.min(), img_t.max()\n",
        "#원본 이미지값은 채널당 8비트여서 0~255인 범위이지만 ToTensor변환으로 데이터가 채널당 32비트 부동소수점 형태가 되어 0~1사이의 범위가 된다."
      ],
      "metadata": {
        "colab": {
          "base_uri": "https://localhost:8080/"
        },
        "id": "5She5gH4YHh5",
        "outputId": "fd42876f-2c9e-47b5-9c37-347a8714eac3"
      },
      "execution_count": 10,
      "outputs": [
        {
          "output_type": "execute_result",
          "data": {
            "text/plain": [
              "(tensor(0.), tensor(1.))"
            ]
          },
          "metadata": {},
          "execution_count": 10
        }
      ]
    },
    {
      "cell_type": "code",
      "source": [
        "plt.imshow(img_t.permute(1, 2, 0)) #CxHxW -> HxWxC\n",
        "plt.show()"
      ],
      "metadata": {
        "colab": {
          "base_uri": "https://localhost:8080/",
          "height": 266
        },
        "id": "FjekWDZBYnch",
        "outputId": "e23dfd13-f2ee-4eaf-cfe9-b302e13834a6"
      },
      "execution_count": 11,
      "outputs": [
        {
          "output_type": "display_data",
          "data": {
            "text/plain": [
              "<Figure size 432x288 with 1 Axes>"
            ],
            "image/png": "[encoded data removed]"
          },
          "metadata": {
            "needs_background": "light"
          }
        }
      ]
    },
    {
      "cell_type": "code",
      "source": [
        "# 데이터 정규화\n",
        "imgs=torch.stack([img_t for img_t,_ in cifar10], dim=3) #img총 5000개이고 img_t.shape는 [3,32,32]\n",
        "imgs.shape"
      ],
      "metadata": {
        "colab": {
          "base_uri": "https://localhost:8080/"
        },
        "id": "rGoua3GgfKpU",
        "outputId": "f0120dfa-e0af-4b63-ecbd-0b49007dc381"
      },
      "execution_count": 13,
      "outputs": [
        {
          "output_type": "execute_result",
          "data": {
            "text/plain": [
              "torch.Size([3, 32, 32, 50000])"
            ]
          },
          "metadata": {},
          "execution_count": 13
        }
      ]
    },
    {
      "cell_type": "code",
      "source": [
        "# 채널별 평균과 표준편차\n",
        "imgs.view(3,-1).mean(dim=1), imgs.view(3,-1).std(dim=1)\n",
        "# view(3,-1)은 세 채널은 유지하고 나머지 차원을 적절한 크기 하나로 합친다. 3x32x32이미지가 3x1024차원으로 바뀌고 각 채널 1024요소에 대해 계산"
      ],
      "metadata": {
        "colab": {
          "base_uri": "https://localhost:8080/"
        },
        "id": "utWuIRcigMmU",
        "outputId": "8eabfdcc-324b-4881-b20d-e14977612170"
      },
      "execution_count": 14,
      "outputs": [
        {
          "output_type": "execute_result",
          "data": {
            "text/plain": [
              "(tensor([0.4914, 0.4822, 0.4465]), tensor([0.2470, 0.2435, 0.2616]))"
            ]
          },
          "metadata": {},
          "execution_count": 14
        }
      ]
    },
    {
      "cell_type": "code",
      "source": [
        "transforms.Normalize((0.4914, 0.4822, 0.4465),(0.2470, 0.2435, 0.2616))"
      ],
      "metadata": {
        "colab": {
          "base_uri": "https://localhost:8080/"
        },
        "id": "aUutHYrJguLy",
        "outputId": "3f3e5e28-ef32-4eaf-ca56-877f463275a4"
      },
      "execution_count": 15,
      "outputs": [
        {
          "output_type": "execute_result",
          "data": {
            "text/plain": [
              "Normalize(mean=(0.4914, 0.4822, 0.4465), std=(0.247, 0.2435, 0.2616))"
            ]
          },
          "metadata": {},
          "execution_count": 15
        }
      ]
    },
    {
      "cell_type": "code",
      "source": [
        "#transforms.Compose를 이용해 여러 변환을 엮어서 사용가능하다.\n",
        "cifar10 = datasets.CIFAR10(data_path, train=True, download=False,\n",
        "                          transform=transforms.Compose([\n",
        "                              transforms.ToTensor(),\n",
        "                              transforms.Normalize((0.4915, 0.4823, 0.4468),\n",
        "                                                   (0.2470, 0.2435, 0.2616))\n",
        "                          ]))\n",
        "\n",
        "cifar10_val = datasets.CIFAR10(data_path, train=False, download=False,\n",
        "                          transform=transforms.Compose([\n",
        "                              transforms.ToTensor(),\n",
        "                              transforms.Normalize((0.4915, 0.4823, 0.4468),\n",
        "                                                   (0.2470, 0.2435, 0.2616))\n",
        "                          ]))"
      ],
      "metadata": {
        "id": "ETMObESOYzWL"
      },
      "execution_count": 16,
      "outputs": []
    },
    {
      "cell_type": "code",
      "source": [
        "#많이 달리진 그림을 볼 수 있다.\n",
        "img_t, _ = cifar10[99]\n",
        "\n",
        "plt.imshow(img_t.permute(1, 2, 0))\n",
        "plt.show()"
      ],
      "metadata": {
        "colab": {
          "base_uri": "https://localhost:8080/",
          "height": 283
        },
        "id": "1UAW-d_6g9Km",
        "outputId": "cdf9cdd2-3371-4bcd-ca1e-8b42954c6d4b"
      },
      "execution_count": 17,
      "outputs": [
        {
          "output_type": "stream",
          "name": "stderr",
          "text": [
            "WARNING:matplotlib.image:Clipping input data to the valid range for imshow with RGB data ([0..1] for floats or [0..255] for integers).\n"
          ]
        },
        {
          "output_type": "display_data",
          "data": {
            "text/plain": [
              "<Figure size 432x288 with 1 Axes>"
            ],
            "image/png": "[encoded data removed]"
          },
          "metadata": {
            "needs_background": "light"
          }
        }
      ]
    },
    {
      "cell_type": "markdown",
      "source": [
        "# 7.2"
      ],
      "metadata": {
        "id": "Wy6eXm-qhbmB"
      }
    },
    {
      "cell_type": "code",
      "source": [
        "label_map = {0: 0, 2: 1}\n",
        "cifar2 = [(img, label_map[label]) for img, label in cifar10 if label in [0, 2]]\n",
        "cifar2_val = [(img, label_map[label]) for img, label in cifar10_val if label in [0, 2]]"
      ],
      "metadata": {
        "id": "7BiEywvphWvS"
      },
      "execution_count": 18,
      "outputs": []
    },
    {
      "cell_type": "code",
      "source": [
        "import torch.nn as nn\n",
        "n_out=2 #피처 두개: 비행기거나 새거나\n",
        "\n",
        "model = nn.Sequential(\n",
        "            nn.Linear(3072, 512),\n",
        "            nn.Tanh(),\n",
        "            nn.Linear(512, n_out))\n",
        "\n",
        "#512개의 은닉된 피처를 골랐고 tanh를 이용해 은닉층을 구성했다."
      ],
      "metadata": {
        "id": "0_VAs4D7h9a-"
      },
      "execution_count": 19,
      "outputs": []
    },
    {
      "cell_type": "markdown",
      "source": [
        "#### 분류기 사용\n",
        "\n",
        "- 로스함수: MSELoss 사용할 예정, 하지만 분류할 대상이 두가지인 특수한 경우라면 BCELoss를 사용해도 된다.\n",
        "\n",
        "- 출력값이 카테고리이기 때문에 카테고리 변수를 표현하기 위해 원핫 인코딩으로 바꿔줘야 한다. 비행기: [1,0] 새: [0,1]\n",
        "\n",
        "- 출력은 [비행기일 확률, 새일 확률] 형태로 나오기때문에 출력값의 요소가 가질 수 있는 값은 0 ~ 1이다.\n",
        "\n",
        "- 출력을 확률로 표현하기 위해 다중분류에 쓰이는 Softmax함수를 사용한다. 소프트맥스는 벡터값을 받아 동일한 차원의 다른 벡터를 만드는데 값들이 확률로 표현된다.\n",
        "\n",
        "#### 소프트맥스 표현식\n",
        "\n",
        "$softmax(x_1,x_2)$= (${e^{x_1}}\\over{e^{x_1}+e^{x_2}}$,${e^{x_2}}\\over{e^{x_1}+e^{x_2}}$)\n"
      ],
      "metadata": {
        "id": "AdRd13R-mYkU"
      }
    },
    {
      "cell_type": "code",
      "source": [
        "def softmax(x):\n",
        "    return torch.exp(x) / torch.exp(x).sum()"
      ],
      "metadata": {
        "id": "C5jnRP-5nq-E"
      },
      "execution_count": 20,
      "outputs": []
    },
    {
      "cell_type": "code",
      "source": [
        "x = torch.tensor([1.0, 2.0, 3.0])\n",
        "\n",
        "softmax(x)"
      ],
      "metadata": {
        "colab": {
          "base_uri": "https://localhost:8080/"
        },
        "id": "7PDgWf7dpAcL",
        "outputId": "dd0cd662-2a5e-4810-d74b-7b15351b4490"
      },
      "execution_count": 21,
      "outputs": [
        {
          "output_type": "execute_result",
          "data": {
            "text/plain": [
              "tensor([0.0900, 0.2447, 0.6652])"
            ]
          },
          "metadata": {},
          "execution_count": 21
        }
      ]
    },
    {
      "cell_type": "code",
      "source": [
        "#nn모듈을 이용해 구현가능하다. 소프트맥스 함수를 적용할 차원을 지정해줘야한다.\n",
        "softmax = nn.Softmax(dim=1)\n",
        "\n",
        "x = torch.tensor([[1.0, 2.0, 3.0],\n",
        "                  [1.0, 2.0, 3.0]])\n",
        "\n",
        "softmax(x)"
      ],
      "metadata": {
        "colab": {
          "base_uri": "https://localhost:8080/"
        },
        "id": "HQNDYSlIpA1V",
        "outputId": "1097b03a-443a-45a0-f6fd-547066fb237b"
      },
      "execution_count": 22,
      "outputs": [
        {
          "output_type": "execute_result",
          "data": {
            "text/plain": [
              "tensor([[0.0900, 0.2447, 0.6652],\n",
              "        [0.0900, 0.2447, 0.6652]])"
            ]
          },
          "metadata": {},
          "execution_count": 22
        }
      ]
    },
    {
      "cell_type": "code",
      "source": [
        "#모델의 끝에 소프트맥스 함수를 두어 신경망이 확률을 출력하게 만들었다.\n",
        "model = nn.Sequential(\n",
        "            nn.Linear(3072, 512),\n",
        "            nn.Tanh(),\n",
        "            nn.Linear(512, 2),\n",
        "            nn.Softmax(dim=1))"
      ],
      "metadata": {
        "id": "qNFHXw72pWqh"
      },
      "execution_count": 23,
      "outputs": []
    },
    {
      "cell_type": "code",
      "source": [
        "img, _ = cifar2[0]\n",
        "\n",
        "plt.imshow(img.permute(1, 2, 0))\n",
        "plt.show()"
      ],
      "metadata": {
        "colab": {
          "base_uri": "https://localhost:8080/",
          "height": 283
        },
        "id": "LRs7CyFTp8Wj",
        "outputId": "fc27fdd0-d721-4494-f775-058473a68b9e"
      },
      "execution_count": 24,
      "outputs": [
        {
          "output_type": "stream",
          "name": "stderr",
          "text": [
            "WARNING:matplotlib.image:Clipping input data to the valid range for imshow with RGB data ([0..1] for floats or [0..255] for integers).\n"
          ]
        },
        {
          "output_type": "display_data",
          "data": {
            "text/plain": [
              "<Figure size 432x288 with 1 Axes>"
            ],
            "image/png": "[encoded data removed]"
          },
          "metadata": {
            "needs_background": "light"
          }
        }
      ]
    },
    {
      "cell_type": "code",
      "source": [
        "img_batch = img.view(-1).unsqueeze(0) #모델에 맞게 입력차원을 조정한다.\n",
        "img_batch.shape"
      ],
      "metadata": {
        "colab": {
          "base_uri": "https://localhost:8080/"
        },
        "id": "KktwYJt6pjyv",
        "outputId": "aec18842-83e5-464b-d942-a3adea712dca"
      },
      "execution_count": 25,
      "outputs": [
        {
          "output_type": "execute_result",
          "data": {
            "text/plain": [
              "torch.Size([1, 3072])"
            ]
          },
          "metadata": {},
          "execution_count": 25
        }
      ]
    },
    {
      "cell_type": "code",
      "source": [
        "out = model(img_batch)\n",
        "out\n",
        "#나온 확률은 훈련시키지 않고 신경망이 랜덤으로 초기화된 파라미터에 의해 추론된 값이다."
      ],
      "metadata": {
        "colab": {
          "base_uri": "https://localhost:8080/"
        },
        "id": "lYNyQj_zp0FN",
        "outputId": "fd31f41c-b203-4db8-e478-3719d3672b71"
      },
      "execution_count": 26,
      "outputs": [
        {
          "output_type": "execute_result",
          "data": {
            "text/plain": [
              "tensor([[0.5249, 0.4751]], grad_fn=<SoftmaxBackward0>)"
            ]
          },
          "metadata": {},
          "execution_count": 26
        }
      ]
    },
    {
      "cell_type": "code",
      "source": [
        "#또한 결과값을 해석하기 위해 출력된 확률에 대해 argmax연산으로 레이블을 얻어낼 수 있다. 이 연산은 제일 높은 확률에 대한 인덱스이다.\n",
        "\n",
        "_, index = torch.max(out, dim=1)\n",
        "\n",
        "index"
      ],
      "metadata": {
        "colab": {
          "base_uri": "https://localhost:8080/"
        },
        "id": "VBhozmy_qMLR",
        "outputId": "304198e9-b425-4cda-d024-be9bc0cc52fc"
      },
      "execution_count": 27,
      "outputs": [
        {
          "output_type": "execute_result",
          "data": {
            "text/plain": [
              "tensor([0])"
            ]
          },
          "metadata": {},
          "execution_count": 27
        }
      ]
    },
    {
      "cell_type": "markdown",
      "source": [
        "여기서는 손실함수로 NLL함수를 사용한다.\n",
        "\n",
        "정확하게 0 or 1이런 확률이 아닌 모든 경우에 벌점을 주는 대신 분류가 어긋날 경우에 벌점을 주는게 훨씬 더 중요하다.\n",
        "\n",
        "여기서는 out이 소프트맥스의 출력값이고 클래스는 비행기일때 0이고 새일때 1이다. 정답클래스 out[class_index]와 관련된 확률을 극대화 할 필요가 있다. 정답클래스에대한 확률수치를 likelihood라 한다. 즉, __다른 클래스의 확률이 매우 높을때 값이 커지는 손실함수가 필요하다. 반대로 가능도가 다른 클래스보다 높으면 손실값은 낮아야한다. 확률값을 1까지로 올리는데 집착할 필요가 없다.__\n",
        "\n",
        "이런식으로 동작하는 손실함수는 NLL(Negative Log Likelihood)함수이다.\n",
        "NLL=-sum(log(out_i[c_i]))\n",
        "\n",
        "데이터에 낮은 확률이 주어질 경우 무한으로 늘어나는 반면 확률이 0.5보다 커지는 경우는 완만하게 감소하는 경향을 보인다.\n",
        "![KakaoTalk_Photo_2022-09-11-17-49-23.jpeg](data:image/jpeg;base64,/9j/4AAQSkZJRgABAQAAkACQAAD/4QCARXhpZgAATU0AKgAAAAgABQESAAMAAAABAAEAAAEaAAUAAAABAAAASgEbAAUAAAABAAAAUgEoAAMAAAABAAIAAIdpAAQAAAABAAAAWgAAAAAAAACQAAAAAQAAAJAAAAABAAKgAgAEAAAAAQAAAkegAwAEAAAAAQAAAWMAAAAA/+0AOFBob3Rvc2hvcCAzLjAAOEJJTQQEAAAAAAAAOEJJTQQlAAAAAAAQ1B2M2Y8AsgTpgAmY7PhCfv/iAihJQ0NfUFJPRklMRQABAQAAAhhhcHBsBAAAAG1udHJSR0IgWFlaIAfmAAEAAQAAAAAAAGFjc3BBUFBMAAAAAEFQUEwAAAAAAAAAAAAAAAAAAAAAAAD21gABAAAAANMtYXBwbOz9o444hUfDbbS9T3raGC8AAAAAAAAAAAAAAAAAAAAAAAAAAAAAAAAAAAAAAAAACmRlc2MAAAD8AAAAMGNwcnQAAAEsAAAAUHd0cHQAAAF8AAAAFHJYWVoAAAGQAAAAFGdYWVoAAAGkAAAAFGJYWVoAAAG4AAAAFHJUUkMAAAHMAAAAIGNoYWQAAAHsAAAALGJUUkMAAAHMAAAAIGdUUkMAAAHMAAAAIG1sdWMAAAAAAAAAAQAAAAxlblVTAAAAFAAAABwARABpAHMAcABsAGEAeQAgAFAAM21sdWMAAAAAAAAAAQAAAAxlblVTAAAANAAAABwAQwBvAHAAeQByAGkAZwBoAHQAIABBAHAAcABsAGUAIABJAG4AYwAuACwAIAAyADAAMgAyWFlaIAAAAAAAAPbVAAEAAAAA0yxYWVogAAAAAAAAg98AAD2/////u1hZWiAAAAAAAABKvwAAsTcAAAq5WFlaIAAAAAAAACg4AAARCwAAyLlwYXJhAAAAAAADAAAAAmZmAADypwAADVkAABPQAAAKW3NmMzIAAAAAAAEMQgAABd7///MmAAAHkwAA/ZD///ui///9owAAA9wAAMBu/8AAEQgBYwJHAwEiAAIRAQMRAf/EAB8AAAEFAQEBAQEBAAAAAAAAAAABAgMEBQYHCAkKC//EALUQAAIBAwMCBAMFBQQEAAABfQECAwAEEQUSITFBBhNRYQcicRQygZGhCCNCscEVUtHwJDNicoIJChYXGBkaJSYnKCkqNDU2Nzg5OkNERUZHSElKU1RVVldYWVpjZGVmZ2hpanN0dXZ3eHl6g4SFhoeIiYqSk5SVlpeYmZqio6Slpqeoqaqys7S1tre4ubrCw8TFxsfIycrS09TV1tfY2drh4uPk5ebn6Onq8fLz9PX29/j5+v/EAB8BAAMBAQEBAQEBAQEAAAAAAAABAgMEBQYHCAkKC//EALURAAIBAgQEAwQHBQQEAAECdwABAgMRBAUhMQYSQVEHYXETIjKBCBRCkaGxwQkjM1LwFWJy0QoWJDThJfEXGBkaJicoKSo1Njc4OTpDREVGR0hJSlNUVVZXWFlaY2RlZmdoaWpzdHV2d3h5eoKDhIWGh4iJipKTlJWWl5iZmqKjpKWmp6ipqrKztLW2t7i5usLDxMXGx8jJytLT1NXW19jZ2uLj5OXm5+jp6vLz9PX29/j5+v/bAEMAAQEBAQEBAgEBAgMCAgIDBAMDAwMEBQQEBAQEBQYFBQUFBQUGBgYGBgYGBgcHBwcHBwgICAgICQkJCQkJCQkJCf/bAEMBAQEBAgICBAICBAkGBQYJCQkJCQkJCQkJCQkJCQkJCQkJCQkJCQkJCQkJCQkJCQkJCQkJCQkJCQkJCQkJCQkJCf/dAAQAJf/aAAwDAQACEQMRAD8A/v4ooooAKKKKACiiigAooooAKKKKACiiigAooooAKKKKACiiigAooooAKKKKACiiigAooooAKKKKACiiigAooooAKKKKACiiigAooooAKKKKACiiigAooooAKKKKACiiigAooooAKKKKACiiigAooooAKKKKACiiigAooooAKKKKACiiigAooooAKKKKACiiigAooooA/9D+/iiiigAooooAKKKKACiiigAooooAbuGcU6vhH9pv41fGL4VfGb4feH/AOoaHPpviTUVs77Sr0bL1oMEyXMEvmKAI+Mgqc5r1D9o79p7Qf2etO0m2bSrvxH4h8RXJtNH0XT9gub2VV3sFaQqiqq8szHAoA+nqK+b/ANmr9o/Sf2jfC1/qqaNfeG9W0a6ax1PSdRC+faXCjO0shKOCMEMpwRX0hQAUUUUAFFFFABRRRQAUUUUAFFRkvngUrMw54oAfRUXnwj7zr+dJ5yHlWU/jQBNRTFfJxSEvjigCSigUUAFFFFABRRRQAUUUUAFFFFABRTctmmmQDgkD60ASUVEZo+m5c/WkEqE43L+dAE1FRmQYG3n8acpJ6jFADqKKKACiiigAooooAKKKKACim5bPA4phkx1oAloqA3ESjl1z9RSLcRucIQfoc0AWKKYS2OBT6ACiiigAooooAKKKKACiikPTigBaKZlu9N81cncQPxoAloqsk29toIPParNABRRRQAUUUUAf/9H+/iiiigAooooAKKKKACiiigAooooA/Ob9un9iDwd+1FbabfWuhWcviI3drEdbmYrc2FnFKJpDbsOQ7bdvBHXk1zv7Qv7OfxX/AGlbXwv4j+Ft3N8O/GHww1g/2NqeqRR30VzB5XkyyGFWwyyJ03HORmv07ooA+MdC/Zn8WeDf2ffEvw78LeKZ4/GniaKeW68StGFmOoTptFwETAUIcbFHQDFfz7+Ov+CaH/Bcf4O+EdV8beFv2xLq8i0y2mu3ju7aQgrEpcjl27D0r+tavmH9tHXT4a/ZM+I+uqdrWnh3UJAfTED0Afx/f8E6NX/4OC/25vgvefGr4VfHvT4rG01O407ydZtxI7vbnaWBVSNpPbFffE/wu/4OkvCfz6L8QPAuubOQJ4I13Y/3oG619S/8G1fhxNJ/4JheH9YVdr6vqmo3TH+8Wnbmv3+CkZpopyP41/2hf21/+Dk/9kjwWnjP4yaB4InsHmW3FzapHId7dPlCJ1x6V678OP29f+Dj7xx4L0zxr4b+BXg/WtP1O3Se3uFuinmIw4JUXC4+mK/br/gqH8MYvif+xn4tsCu6fToPt8JHZoDu/lmvNf8Agjv8Tm8ffsY6Pp91zPok0tk3OTtVsr+hr1fqUHgvrMd07P5nhf2nKOYfVZbON18tz8wJf2rP+Dm3WB5Nl8DPBumbuAz3O7b78zt/Ksx/Ef8AwdVeK23WNj8P9ARu0nkuR+cD/wA6/qrGZBuFL5bf5/8A115TR7ikfyux/Aj/AIOf/Gy+TrvxX8GeHg3Vra3ViM+m2JarH/gmx/wcE+NXNl41/a1g020k/wBZ/Z9rIrj6YZa/qr8tv8//AK6eqletA3I/lOj/AOCCf/BQXXH83x5+2d4vulfl1txLGM98ZmI/Stdf+DdX403gC63+1b8QJyeu2fGfzJr+pyigOdn8sh/4Npbu5G6//aV+IjuepF0vP6Ghf+Daa9t/+PL9pX4iRkf9PSf4V/U3RSDnZ/LFJ/wbmfFrT13+Gf2qfiBbSjoz3G4foRWS3/BBX/goRo8vmeC/20PF9tjoJxK4/SYV/VnRTDmP5Tj/AMEoP+C5fgoH/hXf7ZF3eBeg1C2kYH65karcP7GP/Byf4XQtpH7RXh7WCvKi6tCN3scq1f1TUUg5j+VGXwv/AMHUvhH/AJBniXwBrqL1EsUSscf71uev1qaD45/8HRHhz5NS+G/gfWivG6OVFyfX5TH/AEr+qRkJOaTy2/z/APrphc/lqH7YP/BzBZjZN+z54QuSP4hd4/lcimt+1v8A8HMmqDy7b4BeD7Ano73Wcfgbhq/qX8tv8/8A66PLb/P/AOui4XP5Sbjxv/wdS+PNQSPSND8CeE4CvzeZ5Mg+uWilOfpWtH8Av+DnvxWDLrHxb8GaITxtgtlbA/4DEtf1QeW3+f8A9dHlt/n/APXSC5/KvL+wP/wcb68S2o/tR6Vp+eotrNuPpjbUR/4I0f8ABYjx2pufiZ+2hrVvM/3l0+GZFA9sTLX9WCggYNOoByP5UIP+Df39tm/wPE37ZHje4U/eCNIufzlNaaf8G5PxWvOde/ao+IM5PXbcAfzzX9TlFAc7P5ZP+IaW/uGze/tLfERz/wBfagf+g0f8Q0d5bHzdP/aV+Ikcg6MbpD/7KK/qbooDnZ/LDL/wbr/HSxXHh39q/wAf25H3S85IH5EVkf8ADib/AIKTeF5Td/Dz9tHxXHJHzHHdLK657ZxMB+lf1a0UBzs/lTh/4J//APBxZ4GkI8J/tSabrsUX3F1G0bJHvndRdfDr/g6Z8E86F438CeIgvaeGNCf++oGr+qyoyhJz/n+dAcx/K1B8bf8Ag6L8NgW+p/DrwNrbJwZI5UUP/wB8+X/KtD/hsT/g5esx5Mv7PXhC5x/GLsjP/kyP5V/Up5bf5/8A10eW3+f/ANdAXP5Zpf2qP+Dm3xAvkab8DvBujt03yXO4frM9ZbeIP+Dq7xM2+ytPh7oat/C/kuR+cD/zr+q3y2/z/wDro8tv8/8A66Aufyup+z//AMHPPxBQr4k+Lng7wxu4Js7ZWIz6bIk6VUT/AIJR/wDBdH4iZg+Kv7Ylzp8J5A0u2lXB/CRa/qt8tv8AP/66loDmP5TIv+CBP7fGpNnxZ+2d4yugeoj81evXGZjWtH/wbmfF2/8Am8SftU/EC5Y/e2XG3J/Emv6naKA5mfyxTf8ABtHc3cbfbP2k/iG7EY/4+kx+PFVdP/4NqvE2iW/l6B+038QLVwcjbcKFH4AV/VPRQHOz+VK5/wCDff8AbL0ts+B/2w/G9lj7vmvI+P8AvmRaiH/BIj/gtj4EXy/hn+2XqNyg6DULeVj+OZWr+rKigXMz+VmH9jH/AIOT/CiY0j9ovw9rATlftdmctj1yrVBP4S/4Oo/CY36X4p8Aa6q9VliiQtj/AHrc9a/qrZS3SmeW3+f/ANdMfMfyvQfH3/g6C8Op5Wo/C7wRrTR8F45lXd9NpT+VXf8Ahsf/AIOXI/8AR2/Z38Iu3/PT7Wcf+lIr+pTy2/z/APro8tv8/wD66QXP5YZ/2jv+DnrxN/o+l/CHwVoJfgSSTq4X3IaST+RqjHaf8HVfi1ylzqPw/wBAhk7qkLuv/ktn9a/qs8tv8/8A66PLb/P/AOugLn8sR/ZZ/wCDmXxTHnVfjn4U0cv1FvaZ2/QrGtZcn/BJf/gt98UiYPjH+2LeabB126RbyoR7cSJX9WiggYNOoDmP5Vbb/g3w/a01FA3i79r7xzdu33jHI6g/99SNVm5/4NwvGU8Lza7+1B8Qp2VSTi5UdBnuDX9UNcn431KLRvCep6xOcJa2k0rH0CITQw5mfzJ/8G2+u/E+1v8A9oD4O+LPFWpeLNE8FeLjp2l3WpSmWUrGZI3csehcIhIHFf1MV/Lp/wAGvenXeq/AX4v/ABa1EZn8T+Pb+Uv/AHlQL/7Mxr+ougJ7hRRRQSFFFFAH/9L+/iiiigAooooAKKKKACiiigAooooAKKKKACvzP/4LDeMpfAX/AATY+LviOByjJoM8WR/02Aj/APZq/TCvxh/4OANSfTv+CVPxRVCB59nFEfo0qUAb/wDwQe8Kp4T/AOCV3wntUTZ9r037WR6mZi2f1r9fG6ivzz/4JQaMmg/8E6vhBpkYwsXhyz/VM1+h9NAcX8Q/C1t418D6v4UvVDxajaTW7AjPEiFf61/Pv/wRf8U33wy+NHxK/Zc8RkwTWd29zBA3UGJyj4/4Div6O2+6a/mS+Ohf9kf/AIK66D8S48waR4yKCdm4Q+f+7fn2bBNfR5Eva0q2E/mV16o+S4j/AHNehi+ilZ+jP6aosY4qSqlnJHNEJYW3IwBBHcEcGrdfN3XQ+sQUUUUDCiiigAooooAKKKKACiiigAooooAKKKKACiiigAooooAKKKKACiiigAooooAKKKKACiiigAooooAKKKKACiiigAooooAKKKKACiiigAooooAKKKKACiiigAr5/wD2qdSfRf2b/HmsRttNtoGoSA+m2BzX0BXxn/wUM1ltA/Yg+LGroQph8K6mQT2zbuKBx3Pye/4Ng9PSD/gmNYasF+fUvEGq3DHu2ZyM/pX9Ftfgt/wbcaRHpP8AwSb+H0kQI+1y387ZHUtdSc/pX700DluFFFFBIUUUUAf/0/7+KKKKACiiigAooooAKKKKACsDxP4n0bwdolx4j8QSmGztULyuFZyFH+ygZj+ArfrkvHWtt4b8I6jr8do9+1lbSzi2iXc8pjUsEUdyxGAKAOV+FPxx+FXxx0OfxJ8J9at9bs7aZrad4CQYpl+9HIjAMjjuGANfPv7Qv/BQD9nn9mHx3pvw3+Kr6umq6vE01pHYaXd3wkRPvYNvG/K9x2r5i/4J+fFLw/YeHNc1fUvC/iHRr3xPqV1r2t32p6eNO0+xdycRF52RiI0AG5UIPXNet/HH4RfF74mfHnwH+0r+z9faBqFhoul31tjUTJLDILzZsmiMDAMBt9eexoA+2Phh8TvDHxd8E2XxA8Hi5/s7UE3w/a7eW1mx0+aGZVkX6FRX43/8HGF69v8A8Er/AB2kf/LRrZD9DKtfT/wD/aX/AGqfHfwK+I+v+KvBdpL4y8GajfadpVtZRzW9rqrWy5jaNbhtwV2+XO7B7Gv5bv8AgrZ+3z/wVY+LP7GXiT4Z/tSfs1jwL4avZIDPrUNz5qQBZAV3ATSDk8UFRjc/r3/4J32kVh+w98K7SEYVfDdhj/v0K+zq+OP+CfLiT9ib4WuOn/CN2H/ooV9j0EiN901+JX/Baj4F3fjr4A2Xxh8Nws2qeDbpZyyDLeQxG7pzhSAa/bVjhSa4L4heDdF+I/gnVPA/iFBJZ6rbSW8qnoVkXFduW4x0K8aq6fkedm2BWJw86L6r8eh8zfsBfH+y/aH/AGX/AA345WRZL2O3W0vVU5KTwja2fTOM19prJu7V/M//AME0/Het/se/tgeLf2KPiBIY7DUrl5NNZ+F8xclCue0iY/Kv6YF2hAa6c7wfscQ+X4Zar5nFw3mDxGFjz6Sjo/VaElFFFeSe8FFFFABRRRQAUUUUAFFFFABRRRQAUUUUAFFFFABRRRQAUUUUAFFFFABRRRQAUUUUAFFFFABRRRQAUUUUAFFFFABRRRQAUUUUAFFFFABRRRQAUUUUAFFFFABX5y/8FcNRk0n/AIJs/GnUIfvx+FNQ/WFhX6NV+bn/AAV8t2uf+CaHxqhXq3hTUP8A0U1A1ufP3/BvrZx2n/BJP4RNEMebZXEh+rXMtftJX4xf8G/r7/8Agkn8H9p6afOPyupa/Z2gctwooooJCiiigD//1P7+KKKKACiiigAooooAKKKKACkIB60tFAGbqWmWGsWUul6nAk9tOpSSNwGV1IwQQeCDTtO0zT9HsYdK0mBLa2t1CRxRqFRVHQKBwAK0KKAI0hiiBEahQTk4GOa/Eb/g4csRd/8ABK34iEDiGO3kP4SrX7e1+P3/AAXj0wal/wAEqvi4CNxi0xZAP92VKAPpr/gmjqP9q/sFfCe967/DdkM/SMV9z1+Zf/BHPWG1z/gmb8G9RY7i3h21B/BcV+mlABTGUbeBT6KAP5+v+CyvwD8Q+Hb3w3+2j8MYmj1XwvPGt80fXy1YGOQ4HODwfY1+rn7If7Qnh79pz4GaJ8U9ElVpbiFUu4gRmK5QYkUjtzyPavb/AIieC9D+IvhLUPA/ieBbnT9Tt3gmjYZBVwQfxHUV/Nv+xx4/1j/gnL+2xrv7K3xMleDwl4luc6dPKcRqzn9zICeMMPlb3r6ii/rmC9ivjp6rzXY+NxL+o5gq/wDy7q6Pyktn8z+oKiq8dykyiSLDKwyCD1FTg5FfLn2SYtFFFABRRRQAUUUUAFFFFABRRRQAUUUUAFFFFABRRRQAUUUUAFFFFABRRRQAUUUUAFFFFABRRRQAUUUUAFFFFABRRRQAUUUUAFFFFABRRRQAUUUUAFFFFABXwT/wVD0z+2f+CfHxh00DPmeFdS/SBjX3tXyv+2/p66t+yD8TtNkGVm8Mamp/G2koGtz85f8Ag3a1D7f/AMElvhaoOfs8V3EfwupK/cKv59f+DZnUpr7/AIJSeEIJutrqGpQ/Tbcuf61/QVQOW4UUUUEhRRRQB//V/v4ooooAKKKKACiiigAooooAKKKazBetADqKY0iKMk0nmxjvQBJX5x/8FcPC8njH/gnH8XNDiTezeH7mTHr5S7z/ACr9Ggyt0NfJ/wC3XY/2l+xz8TrDGfN8NaiuPrbvQB8Rf8EDfEMPiH/glX8Kp433fZ7B7b6GJyuPwr9j6/Br/g271Bbv/glf4Otgcm1vNQi+m2dq/eWgAooooArSpl92e1fkf/wVi/Y9b9oT4NH4heB7UHxd4UzdWskYxLLCnzPHnrkfeX3FfrzUU0cUkTRyKGVgQQR1BrqweLnQqxqw3RxZlgYYqjKjU2Z+VP8AwSy/bJsv2lfgzD4L8UTGPxd4WjW1vo5D88iJ8qy4PPOMN6Gv1YRcc+tfy/ftf+APFX/BNv8AbJ0z9q74VwuPCHiS5xqNvEMRqXP76NgOMMPmX3r+jj4TfEzwp8W/AGmfETwZcrdadqsKzROpzgMMlT6FTwa9POsHFNYmh8E/wfVfI8Xh7MZPmwVd/vKf4roz0yimkBgCKdXhH04UUUUAFFFFABRRRQAUUUUAFFFFABRRRQAUUUUAFFFFABRRRQAUUUUAFFFFABRRRQAUUUUAFFFFABRRRQAUUUUAFFFFABRRRQAUUUUAFFFFABRRRQAV4H+1Dp76t+zx450yNdzT6Dfxgeu6BxXvlcT8RbAap4G1nTSMiexuI/8AvqNhQNM/AL/g2Cv45/8Agmfa6YD89h4j1aBl/unzs4P51/RnX8wH/BrRq/nfsg/ELw2xOdK8d6lCV9Nyxt/Wv6f6Bz3CiiigkKKKKAP/1v7+KKKKACiiigAooooAKKKKACq10iyRlHzggg4461ZprorjDUAflN8KNK8KeEf22/FWseDvE+oWnhjTrBbXVItS1RpbCbVZ33KkCTSEJJGv3guOuMVp/wDBQz42+KPh7rHw1+Hlr4pfwL4c8aatJZ6v4lhZI3s4o4TJGqTS5jjMrDG4/hX1Pb/sXfsuWvjy/wDiangrTW13U7j7Xc3bxbnef/noc8buOtb97+zx4G8X6Ff+Ffi6v/CaaZeX326K11iOOeK2K/6uOJNuAqfw55oA+TP2T/jdrngL9n7xr8SfjD4pufFfg/wteXUumeILlFa5u9NgXc0jFAolCkEK4HzAV+c3xr/4OKv+CU/xQ+DnizwBpnja6iu9V0q8tIVuLCZFaSSJlUZGepNf0VDwd4VHhw+EBp1v/ZRi8g2nlr5PlYxs2Y27ccYxXyZ8U/2D/wBkDxV4C1jTb34aeHJGltJgpOnwZDFDgg7eoNAH5L/8Gvniq08Qf8E4RZ2cnmJYeINQjB9nkLj9DX9H9fy7f8GunkeH/wBnP4p/DWFdi6D44voVA6Bc4AA7AAV/UTTsVJahRRRSJCkIyCPWlpG+6aAPDP2h/gZ4P/aG+EurfCvxpCsttqMLIrkfNFJj5HX0KnmvwJ/4J8/HDxp+w/8AtIap+wz8ergxaTc3J/sm4lyI1kc/IVY8bJR+TV/S+Rv+U+ma/Jb/AIKofsRt+0Z8NU+JXw5h8rxp4YU3Fs8fDzxJ8zRZGDkdV96+gybFx1wtd+7Lr2fRnzGf4Cd44zDL34fiux+tkTl1UpjBGRirFfkd/wAEs/24E/aN+HH/AAq/x/J5PjXwsgt7mOX5Xnij+USAHkkYw3vX64ZFeVjcHOhVdGpuj2cux9PE0VWpvR/1YWiiiuQ7gooooAKKKKACiiigAooooAKKKKACiiigAooooAKKKKACiiigAooooAKKKKACiiigAooooAKKKKACiiigAooooAKKKKACiiigAooooAKKKKACsjWomuNOuIF58yF1x9VIrXqpcrvUr7UAfy4f8G1ajw3qf7Svw1k+STR/iFdExjou4un/ALTr+pqv5av+CDxGift2/tleDG4MfjJbnH/XSW4Nf1K0FT3CiiigkKKKKAP/1/7+KKKKACikJAGTUBnPJA4+tAFiiq4nyM4qbd8u6gB1FVvtGOo4qZG3ruxigB9FFFABRRRQAVm6yM6Pdj1hk/8AQTWlWdrH/IJuv+uL/wDoJoA/l8/4NrGMM/7RWnj7sXj67IH1Jr+pSv5av+DbIZ1X9o6UdG8e3X8zX9StU9ipbhRRRUkhRRRQAVRulEhKsMjHNXqY6lhxTTA/ml/4KI/s9eNf2M/jxp/7df7O0TRWT3Ktq9rCCEV2PzFlX/lnKOvoa/cn9mH9orwV+078ItN+KfgqZXS6jC3MOfngnAG+Nh6g/pXrvj3wF4a+IvhPUPBni+2S907UYWhnhkAIZWGD/wDWr+Yu3n+J/wDwR2/al+zXBn1L4WeKZ8jqUVGb8hLED/wIV9PRazDDqnP+JDbzR8TiIvK8S6sP4U9/7r7/ADP6pYW3Z4qauM8CeN/DXxC8I2PjbwhdJe6dqUSzwTRkFWVhkcjv6iuxVt3NfMyi07M+0jNSScdh1FFFSUFFFFABRRRQAUUUUAFFFFABRRRQAUUUUAFFFFABRRRQAUUUUAFFFFABRRRQAUUUUAFFFFABRRRQAUUUUAFFFFABRRRQAUUUUAFFFFABUUnWpaifrQB/LH/wRvk/s3/grv8AtkaKnCyavbzEe+9//iq/qhr+Vr/gkCDN/wAFkv2xLlOg1G2X/wAfb/Cv6paCpbhRRRQSFFFFAH//0P7+KKKKAMzWppLbR7u4i+9HC7D6hSa/mb/4Ji/8FKvjxaXcmjftl3cN14U8aeJtW07w14iLFTb3VtcMi2F0T8o3gfum49K/po1W1kvtMuLKI4aWJ0BPqwIr8U/gR/wSUtB+wz4l/ZC/aXvINRbWNf1HWbO+00ssli9xO01vLE7YZZYyQcigD4a8dftUfHPVP2I/j94n0Xxhf2uq6P8AEg6Rp15HKfMt7VriNRFG38K7SRxX9OHw/Ny3gLRDfSNNMbC2Mjucs7mJcknuSea/np1L/gjX8W/gb/wTq8Yfsy/B7xUfHni7xD4ig177brLfZxI0UyPtdwHOdq8k5JNfceoeCf8Agrj4l8N2Fj4Y8SeBvAhs7eGHyRZXGqu2xApLSSSRr27JQAz9qbx38QdM/wCCkHwD+Hvh7Xbqw0XUo9VuNQsInKw3XkxDYJVH3gpORmv1jThBmvxo/aV/Zu/bb1r9ov4JfHn4aQaD4j1jwXY3ttrkt9NJY28k11GFMkUaK7Bdwztz+Nev6H8Pv+Cqmo/EXS/EPinx54N07w4twj3+kWOkzSSGDPzRx3MsxbcRxuxQB+ndFIowMUtACZHSjcvrXzr8SfjhD4J+Nfgn4QQW4mufFjXTlyf9VFaoGZsepLACvh39sXxn8fl/a08A/CT4V/E5fAGl63pt/e3ry2tpOh+ybNuDcKeSW556CgD9bcg9Kx/EMy2+g3s79EgkJ/BTXmHwX1pW+G9rPrXi+18YXFurLc6xB5CRSup+YkQHy1x3ApvxL+JHg2L4a+IL2x1azlaHT7lwEnjY/LGx6BjQB/Ox/wAG0Mf2vRPj/rq/duvH17j8GNf1IV/ML/wa4W5vP2TviJ4ulGH1XxvqEmfUBjX9PVMqW4UUUUiQooooAKKKKAGuCUIFfOf7S37OfgP9pv4Wah8LvHsAeG6TMEwA3wSgfLIh7EH86+jqK0p1ZQkpR3RlWowqRcKiumfy8/st/Hv4of8ABMj49y/so/tGyyyeCtQnP9m3758uIO3yyxk/wH+Nc/Ka/px0nU9O1jTYNW0qZLi2uUWSOSNgVdWGQQRnIIr4+/bd/Y38B/tifC248H+IES31a2Uyabfhfnglxxz1Kt0Ir8dv2KP2yviX+xL8Um/Yy/bDMkWmW8og0vUpQSkQJwnzn70Ldj/DX09ahHMKbxFL+JH4o9/NHx2GxEsrqrDVnelL4X28mf0v0VQsdRs9RtY77T5FmglUOjoQVZSMggjqDV+vlD7VNPVBRRRQMKKKKACiiigAooooAKKKKACiiigAooooAKKKKACiiigAooooAKKKKACiiigAooooAKKKKACiiigAooooAKKKKACiiigAooooAKhkIB/CpqqXRCxs/opoBH8t/wDwRUh/tL/gqP8Atma+3RfEUEP5STD/ANlr+puv5bP+CBn/ABOf2yf2xfFZ+bzvHBg3eojmua/qToLnuFFFFBAUUUUAf//R/v4ooooAjmljgiaaVgqqMkk4AA7k1U07UbbU7ZLyykSaGQZWSNgysPUEcGvgr/gpfdfG66/ZG8S+E/2frC7vvE3iLytJtzZrl4Eu3Ecs55GBHGWOa+Cf2WrH9qGxuz+z9+zj8ZrG7tfhK9lpHiCx1zRIjHkxrI6Q3MTpIzgE5Zu/rQB+9GpapZ6Tbve6jKkEEY3PJIwVVHqScAfnXnHxG+N3w0+E9ppOoePdVhsIddvIbCwZiW+0XE/+rjTaDkt27V+G3/BYD9of4z+LfF3hL9jf9nnRZvFF5JGniXxfBZSNC7aPZOrPAjjo05BAXPIGKb+1l8QbL9rjwT+zL8XP2ebC+vNBsvG9kLyzEEiy2fkI0bJcIVyvksCrMePegD+h4SMea5a58d+E7TxVD4IuNRtk1i4ha4jsjIvnvEpwzrHncVB4Jxivx+/a7/bF/bZ/Zu+P3ww8Dw6d4ZutF+IniZdIitoUuZL1LQDc8zSGQIGC88JgV4f8aviT8WPBf/BcDSrT4c+Fn8XXN18P5Y4oTcraxW4NxlpXd1fC9jtUmgqMT+h9TuGaWuW8I3fii+8P2d34vtIrHUnjU3NvBIZo437qrlV3AeuBXU0Enz38S/glpfif4h6X8bNLXzPFPhqyurfSlndltd9yoz5qryRlRyOcVHqHwK8D/E+PQvGHx38N6RqvijSoGQTiIukDyj96sBkJYI2O55r6FMaE7iOaDGmMEUAfnx8Jv2APA3w7+EnxK+ECarc/2b8SNRvryf7LiD7Gl4Nvl24GQuxe/rzX4WftE/8ABtZ+y58I/gl4u+Jfhb4meO4J9E0u7vlR9S3xs0UbOFYY5U4wR6V/W2qqv3Riviv/AIKM65F4c/YZ+K2sTNtEfhnUAPqYGA/U0DUrH5Xf8GxfhGDw3/wTJ0q/iyTqOsX8pY9W2ylQT74Ff0T1+HH/AAbraM+k/wDBKb4fSSghrtru4/B5mINfuPQJsKKKKACiiigAooooAKKKKAI3j3dDivhj9t79hn4c/ti/D59J1tRZ69ZKz6dqKKPMjfHCserIT1Br7rprjcpFa4fESozVSDs0c2KwlOvTdKqrpn8xv7LX7Z/xo/4J7/Egfsq/tl28zeHVfZp2qPufyoycKyufvxH06rX9JPhnxfofi/RLfxH4Yuor6wu4xLBPCwZHVhkEEV4D+1L+yf8ACT9q7wFL4L+JdgJJFBNreRqBPbyY4ZG/mDwa/APSfFn7XX/BH/x5/YHiyKfxZ8LrufEcnLIiE9UP/LKQD+E/Ka+lnTo5iuel7tXt0l5o+RhiK+VS9nWvOj0fWP8Ai8j+p+OQvycVNXzT+zf+1N8Hf2nvCEfi74VarHdpgedbMQs8DHqrp1GPXoa+lcivmatKcJOFRWaPscPiKdWCqUpXT6oWikytGRWZsLRRRQAUUUUAFFFFABRRRQAUUUUAFFFFABRRRQAUUUUAFFFFABRRRQAUUUUAFFFFABRRRQAUUUUAFFFFABRRRQAUUUUAFYPiS5Fnot5dMcCK3kb8lJreryv436p/Yfwh8UayDg2ulXcuf92FjQNH83P/AAbFxyeJvBHx8+K9wN0uv/EG9JkPVggD/wA5DX9TVfzT/wDBrpoa2v7A2u+KB11nxhqk5/4Cyp/Sv6WKBz3CiiigkKKKKAP/0v7+KKKKAPIPjF4B1Lx54Uk0+y8Qaj4eERM0k2lyCKZ1UElN5BKg+owa/CH9hP4Rf8E5/jp4N1v4weJCNJ17xDr97bahban4ilee9ntJjCssqPKpd3C9NvsK/o6lijmjaGUblcEEHuD1r5b8HfsQ/skfD/xLJ4y8HfD3RNP1SWZrhrmK0jEnmudzPnH3ieSaAPUI/Cvw5+Hnh2TWbCxgsLfTrDyjcRRgyLawqSFDgbiABkDNfzsfCHVfhD+0B+1P4E/aY+EHjp/DfgvQtXvjPb6prDz32tTMWiCpp6O3kxK+SCwyfQV/Tdd6XZX1nJp92gkglQxvGwyrKRggj0IrxD4Yfsr/ALOnwY84/CvwZpGhNcStNI1paxozSMcsxIGck80AfnH/AMFRP2ovhv8Ass/EX4KeP/EXg+38U6pf6+9nYTPj7RZpLF+8kty7xoHIwMu2MV+Pepf8FjrnxR8Sp/F8ulyaRq1x42bR/wC0baxiudSsPC9kFkuj5kIcNFv4dwzADODX9XvxT/Z/+DHxvt7K1+L3hrT/ABHFp0hltV1CBJxC5GCybgdpx6VzHh39kn9mnwlqEOq+GfA+jWNxb2stlG8NpEpW3mOZIxgfdc/eHeguMkeofDn4h+Cvil4L03x38PtTh1fSNTgSe1u4GDpKjDhgR+vpXc1zHhXwb4Z8D6Lb+G/CNlDpun2gKw21sixxID2VVAArp6CAooooAK/LP/gtL4ibwt/wTJ+Lur84GiSR/wDfxlT+tfqZX4sf8HBOrNpf/BKv4mohx9ptoYj9GlWgDvv+CGuhPoP/AAS0+EMDjBn0ZJ/+/pLV+tNfn9/wSy0RfD//AAT2+EelRAbYvDln+qA1+gNABRRRQAUUUUAFFFFABRRRQAUUUUAFcR468DeFfiJoNz4V8aWMGpaddoUlguEDoykehrt6ay7qak07pkzgpJxkro/mz/aI/wCCYXxr/Zs8XTfHr9gbWbq1MTGWTSEkIcDOSsfOJE/2Gr3H9kH/AIK/eHvEGoxfCH9re1bwn4qt2EDXcqGK3lcHH7xTzGxP/AfpX7qfZh6mvhf9rT/gn3+z7+1dpUkvi/TlsdcVCINTtAI50bHG7HDgHsc19JTziliIKjj437SW69e58jXyKvhpOtl0rd4vZ+nY+1tK1rSta06LVtHuI7q2mUNHLCwdGB6EMMg1pqcsDmv5Zzaf8FCf+CU+qb7Bn8b/AA4WUnADSxpHnoRy8DY7j5a/Yb9k/wD4KX/s7/tTWkGm6bfLofiEgCTTL9hG5fHPlMTtcZ9OfauXF5DUpx9tRfPDuv17HZl/ElKpP2FdclTs+vp3P0aoqpHcmQjGCDzkVPG5cV4rR9ImSUU07s8dKdSAKKKKACiiigAooooAKKKKACiiigAooooAKKKKACiiigAooooAKKKKACiiigAooooAKKKKACiiigAooooAK+c/2uL46Z+zJ8QNQJwIfD2ovn6W7mvoyviP/gpB4gk8MfsI/FvWo+sHhXU/1t3FA1uflt/wbE2zQ/8ABLrRbztea5qsw/G4I/pX9EtfhH/wbhaFFo3/AASa+HLr/wAvjX1wfq91Jn+Vfu5QEtwooooEFFFFAH//0/7+KKKKACiiigAooooAKKKKACiiigDlvGPjDQPAfh288WeKblbTT7CMyzyucBVHU1xHxJ+Onwu+E3w9X4n+PtVSw0eRYzFKVZnkMoBjSONAzu7Z4VQSa4T9sD4P+LPjv+z9r/ws8Fzw22oaskUaSTkqgVZVZ8kAnlQa+Qf2q/hx8R/jf8O/Dlj+z3aJe+KvhTrlhcCz1ZJLWxvWt4tkiiRl+dcHIdQRkUAfd/wP/aA+Ff7QvhiXxZ8K9UGo2tvM1vOrxvDNBKvWOWKVVkRvZgK/JP8A4OMLryv+CWHjtV/ja1X85Vr7Z8C/Ar45+Cfgv4617QrzTrD4o+NRJfB4E/0C0vfK2QKu5SWRMDczAluuK/kq/wCCsPwu/wCC8/hT9jHxLdftl+OPCniHwAskBvY9NjjS5/1g2bSsEZ69eaCoo/sG/wCCekItv2IfhZAvQeG7D/0UK+zK+Ov+CfjB/wBib4WOpyD4bsOf+2Ir7FoJCiiigAooooAKKKKACiiigAooooAKKKKACmlVbrTqKTVwMrUNNsdRt5LLUYEngkG1kkUMrA9iD1r8f/2qf+CPfwU+MlzP43+EMreCvEzEyLJaAi3d+o3RjG0k91xX7K0hOBzXZg8dVoS5qMrP8PuODMMrw+KhyV4Jo/l30L9pv/goZ/wTa1eHwj+0PpMvjHwZCwSO9y0uE6DZcAZBA/hev2g/Zj/4KBfs6ftS2UY8C60lpqjD59MvSsVwrd9oJw49xX2P4h8MaH4t0uXRfEdpDfWc6lZIpkDowPBBB4r8Xv2mP+CMPwr8c6jP46/Z51KXwT4gB8yNImP2Vn68BSGTJ/unHtXtrG4PF/7xHkl3W3zR868Fj8D/ALs/aQ/lb1Xoz9v0kVh1FPyK/mA0H9rv/gob/wAE9NRi8I/tM6BL4u8KQsES/wCZD5Y4BS4XPbtIK/ZL9mX/AIKHfs0ftPWkMPg3XI7LVnA3abfEQzhu4UMcP/wEmuLHZFXox9pH3ovZrY9LL+JMPXl7OV4T7S0f/BPu6iqwuEkXK1Mmcc14x76Y+iiigAooooAKKKKACiiigAooooAKKKKACiiigAooooAKKKKACiiigAooooAKKKKACiiigAooooAK/OL/AIK53jWH/BNj403a9V8Kah/6Kav0dr82P+CwEUk3/BM/41RRjJPhTUP/AEU1A47ngn/BvxAsH/BJP4QAdXsbhj9TdS1+0VfjJ/wb+yK3/BJP4PKvONPnH5XMtfs3THIKKKKRIUUUUAf/1P7+KKKKACiiigAooooAKKKKACiiigBMe9RiFBn3qWigBnlrX4nf8HCOmpd/8Eq/iQx58qGCT6YlWv20r8lf+C5fh1/E/wDwS1+LmnwgF00nzV9jHIrfyFAHuv8AwTA1JtX/AOCf/wAJb+Q5L+HLLn6RgV961+W3/BFvxGfFP/BMX4Pak7bnXQYIm+sY2mv1JoAKKKKACiiigAooooAKKKKACiiigAooooAKKKKACkIyMUtFACAYqMxKSTnrUtFAWOd1/wAK6B4o0ubRfEdpFf2k6lZIZ0V0YHqCCK/Gz9pv/gjH8HPiJfSeM/gHeSeCPEAbzEW3z9mL+oQEFD7qRX7ZsMrimiMfxc124HMa+GlzUJWPNzDKMPio8leN/Pqj+X3R/wBpn/gor/wTj1ZPDn7QekTeNfB8BCpektKFQHAK3ABZeOziv2H/AGZP+CkH7Nf7TtnDa+GNYj0vWXwG03UGEU249kJOH/A59q+4dd0LSNfsJNJ1u1ivLWYFXimQOjA9QQwIr8ev2nf+CN/wR+KdxL4x+Ccr+B/EIJkRrXP2Z5M5y0YI2891Ir2ljcHiv95jyS/mW3zR8/8A2fj8E/8AZZe0h/K9/kz9mI7nzTlcYPQ1YDfJuNfy86X+0L/wUf8A+Cb+pLoHxw0qbxt4Ngbal4d0oWJT1ScZZOO0gxX7Efswf8FF/wBmz9qCzhtvDOsppessAH0y+YRTBj2Qk7X/AA59q4sbkdakuePvR7r+tD0Mu4koVpezneE+z0+7ufoADkUtRpIhQFTkGn7l9a8Wx9ELRRRQAUUUUAFFFFABRRRQAUUUUAFFFFABRRRQAUUUUAFFFFABRRRQAUUUUAFFFFABXwx/wUv0ldb/AGB/i9prLuEnhTU+Ppbua+56+Yf20NLTW/2TviTo7jIufDWpR4/3raQUDW5+Z/8Awbm6m2o/8EmPhojHPkC8i+gW6kr9zq/nq/4NlNSmvv8Aglb4Ys5DuNhqup2/023DH+tf0K0DluFFFFBIUUUUAf/V/v4ooooAKKKKACiiigAooooAKKKjlcoMigCSisa213S7y7ksLS5hlnh/1kaOpZf94Akj8a8K+Kv7Wn7OfwN8RWnhP4veMdM8PajfqZIIL2ZYmdR3Gf8AGgD6Or4o/wCCjHhm08YfsOfFXQLtNyzeGtQOD6rCzD9RX1b4L8beFPiH4et/FvgnUINU0y7XdBc2ziSKRfVWXg15j+09og8Sfs7+ONAccXmiX0X/AH1AwoA/K/8A4N1vEFxrv/BKr4fx3Db2sGvLX6LHMwA/Kv3Ir+cT/g2G8Vf2x/wTwn8NZyNC8SalaD/v6W/rX9HdAMKKKKACiiigAooooAKKKKACiiigAooooAKKKKACiiigAooooAKKKKACkJwM0tBoAwdc0HS/EWnyaXrdtFd2sylXilUOjA9QQeDX44ftQf8ABG34NfEu6m8b/Ai4fwR4k3GZTAT9meTqPkHKc91xX7Wio3iD9yK7MFj62Hd6Mrfl9x52Y5Vh8VDlrRv+f3n8wFh+0B/wUu/4J0Xsei/GvS5PHHg+3Oxbo7pgEHdZ1G9eOz8V+pn7N3/BVb9lf9oFIdJfVh4c1mTC/Y9SIiy3okn3G/MGv0i1LRdN1e0ew1WFLmCQbWjlUMpB6gg8V+XH7SP/AASK/Za+Ok0+uaBZv4U1qTkXOm4SMt6tF90/hg17f17BYrTEw5JfzL/I8BZZj8J/ulTmivsy/wAz9S7HUrPULZLrT5UnicAq6MGUg9wRkVcRiWx2xX8xVx+y3/wVG/YZvH1L4BeIH8Z+H4TxabvM+QesEp4P+4c17D8Mv+C3N/4Q1IeFP2svA17oF7FhJLi2jcDcOCTFJg+/BrGrw9OXv4WamvLf7jWjxVTjL2eMg6cvPb7z+hmivjf4P/t7fsr/ABzijj8A+MLF7qRdwtrhvImHtskxk/TNfW9tex3kKz20iyIwBDKQw/MV4lbDzpu1RW9T6TDYmnWXNSkmvJmjRUHmtnGKVnPbisUjZO5NRSDpS0DCiiigAooooAKKKKACiiigAooooAKKKKACiiigAooooAK8t+NWiL4l+FHiXw84yL3S7qHH+/Ew/rXqVY+t24utNubZukkLp/30pFA0fzbf8GuHiBrr9g/xF4OBGPD/AIy1S2H0Zlk/9mr+mGv5ZP8Ag2sjbwVqX7SnwVX/AFXhz4g3RUdsOXj/APaVf1N0DluFFFFBIUUUUAf/1v7+KKKKACiiigAooooAKKKKACvOvi2vil/hpry+CWK6v/Z9z9iI6ify28v/AMexXotRSRl8YNAH86n/AAT68HeH/HvjvwR8RPAui65oni3w6l0vxA1W/S4toby5O5WgfzsLO2/5gyghQOvNfcP7V3wk+Ivij9qj4efGLwf4FtPHeiaJpmpQTpNNDGiT3AQRMTIr5HynkA4r9KdY8JaLr2i3nh7U4Eeyv43injUbQ6uMNnGDyO/Wjwx4T0XwZ4ftPC3huBbawsY1hgiXoiLwAM80Afnf+z/+2hqnjT9nr4geObT4dTaNqnw4vL3TpNBspFmW5ms1LbLZ441B39OE4NfjZ4x/4OKPiZN4Z1TQPHv7K/j3S7W8tpoGuRDLIiB0K5P+jgY59a/qn0bwtoXh6GeDQ7SG0S5laeURIEDyOcs7YHLHuTTPEGj6ddaFeW91BHIjQSAhkB/hPtQB/ML/AMGp3iSPW/2R/iFDHE8CDxjdzrFKMPGJhu2sOxGcGv6n6/ls/wCDaVvsdr+0JocfEdt49vNqjoASa/qTplT3CiiikSFFFFABRRRQAUUUUAFFFFABRRRQAUUUUAFFFFABRRRQAUUUUAFFFFABRRRQAUwJhs0+igCl5b7yCODXlfxK+B/wl+LOnNpXxD8OWWsRN1FxCjHn/axmvYaKuFSUdYuzM6tKM48s1dH4n/GD/giL+zZ4zml1b4X3V/4Qv3O9fs7+ZCp9NjcgZ9CMV8lt+w1/wVQ/Zau/O/Z/8ct4j0u3O6O3ec5YDs0M+5Pyav6ZKDXt4fiPEwjyTakv7yTPna/COCk+elFwf912P5orf/gpn/wUV+Acph/aL+F731ohAa5it3iwO53x7o+fwr6m+FX/AAXB/Zl8XMmnfEuy1DwnekhW85POiUn/AG1+b/x2v2k1HTbLUoDb38Mc0bdVdQwP4GvlT4pfsLfsp/GRJj468GafNPMCDcQxCGXnvvTBzWrzHBVv41Hl/wAJj/ZWY0f93r8y7SV/xVjvPhl+1N+z38XYRJ8PfF2nakxx+7SdRIM/7DEN+le9pc28g3RuGB9Oa/Bf4l/8EK/hHdSHU/gf4p1LwxdKSyrIxmjHoARtcfXJrwSb9lj/AIK5fssXJuPhB4wPi3SrQbkhabzCyj+Ewz5/DDUf2VhKz/2etbyl/mT/AG3jqP8AvOHuuri7/huf0z+YgGSeKQSxkZBr+bLQf+Cwf7T/AMF5V0j9qv4X3KYOPtEMclsTjg/eDIT9CK/Rb4F/8FYv2PvjT5dh/bn/AAjuoOo3W+qDyee4WTlDz7iuXE5Biqa5uW67rU78JxPgq0uRTtLs9GfpwJFPQ0eYnrXPaB4j0HxJZpqvh+9hvbaUbklgdZFYexUkVu53cAY968drpY96Mk1dE9FFFIYUUUUAFFFFABRRRQAUUUUAFFFFABVa4XcjD1FWahkGePagD+XL/gg439mftz/tk+HQPueNBNj/AH5rmv6k6/lg/wCCMsh0n/grD+2V4bjOEfXLe4x7mSU5/wDHq/qfoLnuFFFFBAUUUUAf/9f+/iiiigAooooAKKKKACiiigAooooAKKKKACs7WP8AkEXX/XF//QTWjWB4ruPsnhjUbrOPLtpW/JDQB/MT/wAG2OH1P9o2dPut49u8fgTX9Stfy6f8GysQvPAnxz8RAZ+2+Pb47vXBNf1F03sVLcKKKKRIUUUUAFFFFABRRRQAUUUUAFFFFABRRRQAUUUUAFFFFABRRRQAUUUUAFFFFABRRRQAUUUUAFFFFABjNJgUtFO4DDGh6ikESDjFSUUgOX8R+CvCfjCyfTfFOnW+oQSAho7iNZFIPswNfmv8Zv8AgkZ+xv8AFmOW8sdDbw5fuxYT6a5jAJ/6Z8p+lfqhUQXgk11YfHVqLvSk0cGMyvD4hWrQT+R/NJrH/BMb9uj9mXUpPEP7JPxClv7WJiY7KWVonK9cFGLRt+lWtB/4Khftw/s2Xn/CP/tbfDq4v7W3ISS+hhaFsD+LegaJv0+tf0kmNs9DWRrXh3R/EFk+ma9ZQ3tvIMNHKgdSPcNmvZ/1gdRcuKpqfns/vPBfC7pO+Cqyh5br7j84fgj/AMFbv2QvjI0FhPrh8OahKObfU18oBu48zlPzIr9GfD3i/wAO+LLFdU8M6jb6hbSfdkt5FkU/QqSK/O/44f8ABJz9kD4zG4vh4f8A7B1Cf5vtOmt5OG9dg+T68V+cuu/8EmP2wP2fr5/EP7JPxHnkjgO+KznleBj/ALJwTG34gCj6nl9bWjUcH2lqvvF9ezTDu1akqi7x0/A/pLV25yalzkbgcV/M5a/t7/8ABTX9l25XRv2iPAL+IbSHG66SBgSnciWAFM/UfhX1P8MP+C5P7M/imVdP+Iun6l4YueAxlTzYg3cblwcD3Ws6vDeKS5qaU13Wp0YfizBytGo3B9pK35n7eqc06vln4bftqfstfFW0S68GeN9LuC5AEbzrDJn02SbW/SvpKy1vSNThW5025iuI26NG4YH8RmvGq4epB2nFr1PfoYmnVV6ck/Q1KKbvU0B1PesTcdRTPMTOM04sBQwFopqsrdKXI6UroBaifrUtV5mCg/SmB/LJ/wAEfla6/wCCx37Yt/FzGupW8Z+u9v8ACv6o6/lo/wCCISrf/wDBSn9szXm+c/8ACTwxBvYSzjH6V/UvQVPcKKKKCQooooA//9D+/iiiigAooooAKKKKACiiigAooqORtooAkor8MviJ+2J+0/r/AIx8eePvhjr2l6Tovw48QRaD/wAIzdWwkutXclAzLNuDoXDfuwq9ua+sf2wP2jPin4Mu/hr8J/hrdW3hrXfiVdm1/ta9iE8OneXB5zgxsVVnP3VBIFAH6OV5f8a9T/sf4Q+J9Uzj7Npd3Jn02xMa+T/2V/2gPHB+FPi/Wv2jtZsb2HwRf3FtL4ito/Itby2gXc0+wFgpTkNtJGRXyp+0X/wWB/4Jy+Jv2fvG2keEvi7oN1qNxot9FbwLPh5JWhYKqgjkk8CgD5A/4NctLmj/AGLfGXie4Hz6x4y1Gfd6gORX9NVfyv8A/Buj+1N+y38L/wDgn5p/hPxz4/0HRtcudX1C5ms72+hglUPMxUlZGU8jmv6G9L/at/Zr1ttuj/EDw9dE9BFqNs2fyencqS1PoWivM7X4wfDC8H+i+JNMlz023UR/k1bcXjvwhON8OrWbj2mj/wDiqLEnY0VxM/xC8E2wLXOs2SAf3p4wP/Qq5u9+OXwg00FtQ8VaTCB/fvIV/m1Idj1qivmbXP2yP2VfDcD3Gu/Efw3aqgy3malbDH4eZmvnzX/+Ctv/AATi8Mbl1j4xeG0K9Ql2kh/8dzTsFmfo5RX48+If+C8//BK3w3GZLr4tabOB2t0lkP8A46hryS//AODkf/gkvZEqPiK8rDtHYXTE/wDkPFIFFn7w0V/PZdf8HN3/AASvtcsPEuqSIP4106bb+oFLb/8ABzZ/wSxnIMniXVYge7abNj9AaB8rP6EqK/BjS/8Ag5L/AOCTmozCGTx/NbFv+e1hcqPxOyvYtD/4Lyf8ErvECh7b4t6ZDntMssf/AKEgoDlZ+wtFfmFpf/BZX/gmXrBC2nxk8PAns9xs/wDQgK9p8Mf8FE/2HPGMYk8O/FjwvOG4GdSt0OfozigXKz7UorwnS/2mP2f9bwNI8b6Fck9PKv7ds/k9dpbfFT4c3YBttf0+TP8AduYj/wCzUCsehUVyCeOfCMnMeq2ZHtNGf/ZqbL488HQLmbVrNfczRj/2amOx2NFeU6p8b/hDoozq3inSrX/rreQp/Nq881P9sj9lTRiRqvxJ8NW5HUSanaqf1kpCsfTNFfAWv/8ABUf/AIJ8+F3MWufF/wAMRMvXF/E3/oJNeV6t/wAFrf8Agl/o7Fbn4x6CxH/POUv/AOgrQOzP1Ror8YdX/wCDgH/glNowYzfFSyl2/wDPKKZ/y2oa8xvv+DlD/gk3aMUh8fT3LDtFp9yf5xigLM/eyiv58J/+Dmn/AIJZxvti8SarKPVNNm/qKLf/AIOaP+CWk0gWfxHqtuv999NmA/kaA5Wf0H0V+EWl/wDByD/wSa1NljHxGaBm7S2NyuPr+7r2XQf+C6//AASy8QhTafFzSoS3afzIz/48tAcrP14or4C8G/8ABUf/AIJ9+P5xb+Fvi94Znc9A19FH/wCjGWvfdJ/am/Zx17A0Px74fu8/88dQt3/k9AWZ9AUV51bfFb4c3qhrPxBp0oPdLmIg/k1a6eOPCci7k1S0I9pkP/s1AWOuoribn4g+CbNd11rNlGP9qeMfzaucvfjl8HtP5vvFekwgdd95CP8A2agR6zRXy74k/bT/AGTfCED3Pib4leGrNUBJ8zUrYH8t+f0r5q13/gsd/wAE0PDrtHqXxj8O7lOCI7kSc/8AAAadh2Z+m9Ffjlrf/Be//glXoILXPxY06XH/ADxSWT/0FDXkmo/8HJn/AASbsHaKP4gy3LL2hsLlv12AUg5WfvRUb44zX8991/wc2/8ABLWDPk+IdWmwM/Jps3P5gVJof/BzX/wSr1eITX/inUtNBOP9J06fj3OwNQxuLP39u9OstQjMV5GsqHqrqGB/A5r5c+J/7D/7LnxitpIvHHg3Tp5JM5miiEUoJ7h0wc18GeG/+Dgn/glH4l2i1+Kdpb7v+fiCeL89yCvYdL/4LPf8ExdVjDWnxk8PrntJPs/9CArSlWqU5Xg7fM5q2Dp1FapFP5HgvxD/AOCF37NHiG4a98BapqvhyVjnEUnmoPpuGf1r5x1L/gkP+2B8LLrzfgH8WpvIjOY0mlmt2XH+6zL+gr9efC3/AAUT/Yb8awrceG/ix4XnV+mdSt0J/BnBr13S/wBpT9nnW8DSfHOhXRPTy9Qt2z+TmvZo8SYyHxSv6pM8GtwdgJvmULPybX6n4OGz/wCC3/wRf7LbSr4rtYD8rkw3G8D1L7Xqyf8Agqb/AMFBfhnIdO+K/wAIWlkh/wBZLHbXCL+DLuX8jX9CNr8TPh1eAG017T5AehS4jP8A7NVmfxN4Fu1/0nULGRT/AHpIyP1NdCz+lPWvh4t+Whi+G68P93xMl66n4TeHf+C7/hTT2Fv8U/h/qelSAgM0T7h/3y6qf1r6z8Af8Fkv2JfHESDUtan0OZusd7Aw2/Vk3D9a+1fGnh/9mbxVAI/Hdv4fu0Xp9p+zn9Sa+Jfil+yP/wAEs/Flu8nimPw1pTkkmW2vobVvzVxUrE5ZP4qcovyf+YSweb0/gqxn6q35H2t8Pv2sv2b/AImWi3XgfxnpV6JDhVFwiP8A98OQ36V7zaajY36LcWcqTI3RkYMD+Ir+Yz4t/sEf8EvbBX1DwX8ctM8LSLklW1a1mUY7Abw3618AeLPij4S/ZuOPgp+1vod5BbE7LcX8qkY7BV8xD+lEMuwNV2o17PtJfqghmeZUl+/w1/OLv+Dsf3Cq+7tiqd/IIoXkP8KE/lX8LXhL/g5W+JPwn1caN4w8TaX4qtrU7HYwEmQDussSjOfU19w+BP8Ag66/ZD160k0/4m6JqGnSSRsomsUadNxUj7rBTj8TXHjMnnR3lF+kkz0cFnkKz5XCUX/ei1/wDvf+De9h4g/aa/a78dp80d748kiR/VUluD/Iiv6lq/lR/wCDWPV7Tx38GfjV8WrXOzxF48up03DDFGjWRSR/20r+q6vJatoe7PcKKKKRAUUUUAf/0f7+KKKKACiiigAooooAKKKKACmOu4U+igD5Qk/Yq/Zwm+O8/wC0lP4Zgl8XThN925YrvjGFk8vOzzAON2M+9UfiZ+yZ4V/aJ8MXXgz9psQ+KdPTUxf6akcZtmtFT7iCRG3EgZBbIyDivr2igDyKz+BvwssPhdJ8FrLRLaPwvJbNaPp4QeU0LjDKw77h1z1r8T/2+v8Agkj/AMEz/hr+x98R/iVpPwm0LT9Q0bQr26tbmKDa0c6RMY2GD1DYr+giSUR4z3rwn49/CXwJ+078IfEfwK8XXLHS9ftXsrz7LIBMiOMHBGdp+tAH8n//AARz/wCCI/7An7Xn/BPDwf8AGP44+FZLzxDrL3TTXdtcy27FVlKqMIwHAFfoZef8Gwv/AATOkz/ZFn4h04noYdVuOP8AvpjX6+/sjfs0/Cn9iD4EaF+zj8M7mQaPo/mLafbZQZn8xixyTjJye1fV6OHGaZXMz+aW8/4NdP2H5STp3ivxnZ+gj1Rjj/voGubm/wCDWj9lFn/0b4m+PoV9F1BMfqlf1A0Ug52fzC2//BrV+yUrA3vxJ8eXA7htRUZ/JBXV2X/Br1+wRGMatrni6+H/AE01WQf+g4r+k+igOdn88uif8Gyf/BMDTbtLnVNE1nVNhztutUuGVvqN2K+mfDn/AAQf/wCCVvhgxm0+EWk3DJ/HchpmP1Lk1+wNFMXMz86NI/4JM/8ABOXQiGsPg34Y46brGN/5iu6tv+Cb37Blm4e1+EHhSNl6EaZBx/47X27UFzcR2sJmmYKq8kk4AHuTRcLs/lz/AODjH4Afs5/Bn/gmxqt94C8F6NomoXuq2FrDPZ2cUMi7pMkBlUHkD1r9W/2Qf2LP2XNQ/ZQ+Hh8QfD/Qb+5bQLEyzT2MLPIxhUlmJXJJ7k16r+3B+xT8Ff8Agof8FYvg98Xrq5GiR30N+smnzBWMsGdvzDIxzyK+ifhGfh94b8J6f8MfAuow3kPh61is1jWVZJUSJQi7wOQeKQcx4JqP/BOr9hfV8rqXwk8LTe7abB/8TXn2q/8ABJf/AIJxa1k3/wAG/DBz/dsYl/kBX6LUU7hdn5Rax/wRH/4Jc64Ct78GtBGeuyAIfzU14L4x/wCDcr/glP4wcvH8P30okf8ALheTwAfQK9fuvRQHMz+ce9/4NgP+Ccbg/wBkP4m0/wBPJ1Wfj/vpjXH3n/Brj+xdIf8AiXeNvG9oM8BNTJwP+BKa/poooHzs/l7l/wCDWj9lXd+5+J/j5B6DUE/+IqSD/g1p/ZQQ7rr4mePZh6NqCf0Sv6gKKA52fzSad/wa6fsJxSB9c8SeMNUA6rPqbAH/AL5xX4pf8Faf+CQP7G/7JH7Qv7P3wn+EtnqflfELxCLPVDd300xktg8alV3N8pIY8iv79r3VbLTkE19KkKZxukYKM/U8V8H/ALWX/BPb4G/tj/FX4dfGT4mzXq6l8Nb46hpQtZQkbSFlb94MHcMoKQc7PlXwj/wb9f8ABKbw7p8KP8K7K/cIuXu5JJiTjqdzV7No3/BGL/gmPoSCPT/g14dAX+/bK3881+hmkfETwTq2uy+EdI1O3uNStNwlt0cF02Y3ZHtuGfrXdDnmgXMz8+rD/glb/wAE79Mwbb4OeFuOmdPib+Yrr9P/AOCdf7C+mOHsPhJ4WiYdCumwDH/jtfa1FMLs+WbX9ij9km0G22+G3h1APTT4B/7LS3n7FH7JeoRG3vfht4dljPVW0+DH/oNfUtFFwufD95/wTc/YK1AM138H/CrlupOmQZ/9BrzvWP8AgkV/wTc1xSt/8G/DR3ddllGv8gK/SSigLs/FTx3/AMG/H/BKrx1bNDJ8LrTS2bP7zTpJLZ+fdGFfPGof8Gwv/BNVlP8AYcHiLTD2MGqz/wDszGv6Mqzr3U7CxiMl9MkCZxvkYKufqSBQPmZ/n0+NP+CRPwUsP+C0+h/8E+PDnirxPaeDL3w62q3Ey37m6WXazAK54C8DqDX7Qf8AELX+yrIxaD4oePkX0GooR+qV+wd7/wAE+PgfqX7c1t/wUEkmvG8Z22l/2XGiyj7KYCCM7MdcHrmvuLQPE+geIjdLod3Hd/YpmgmMZyEkXBKn3GeaQc7P5p7b/g1s/ZJjfN/8R/Hl2PR9RUD9EFdbZ/8ABr3+wPGP+Jnrfi69458zVZBn/vnFf0mjnmigOdn893hj/g2a/wCCX2iXyX+seH9W1lkOdt9qVxIh+q7sGvq3w3/wQ/8A+CW/hcKmnfBzQ32jG6aHzCfclicmv1kopi5mfnbpv/BJ/wD4JzaUwNp8G/DHy9N1hE38xXe2H/BOj9hbSju074R+FoiOhXTYM/8AoNfatFFwuz5aj/Yp/ZMghNvF8N/DqoRjA0+DH/oNYM/7AX7Fl3atY3Pwr8MPCxyVOnQYJPttr7DopBzM/P7Vv+CWn/BPHWkJ1D4OeFunO3T4V/ktfy1/8EuP+Cd37HP7RX/BTT9qfwN8UPh9pmqeGPCeqR22k6fJF+4tP3sgIiAxtyAK/uEutT0+3mWzuJ40ll4VGcBm/wB0Hk/hX53/AAc/Y0/Zo/YB8ffFX9rW01O5sn8eXH9q69PeyF4YihZv3aqCQMseACT2pgpM+SPGX/BuV/wSo8YTNNH8Pn0ot20+8ntwPoFYYrx++/4Ngv8Agm/ICNI/4SXTz2MOqz8fmxr9s/2fv2pPgt+09p2qap8HNUk1CPRrkWl4s1rcWkkUpUOAY7mOJ8MrBlYDBB4NfQtA+Zn8yV3/AMGuH7GcjEaf468cWYPQR6nkD81NZH/ELR+ysWO34o+Pwvp/aCf/ABFf1CUUD52fzGWP/Brd+x5G+dS8f+OrxfSTUgB/46ortbL/AINf/wDgnjGANXvvFOoDuJtVmwf++SK/o+opE8z3P5//AA5/wbRf8ErtDuRd3fhLUNRYdRd6lcSKfqC+K+pfCv8AwRF/4JdeD0VdK+DuhOU43TQ+aT7kvmv1booYczvc+CLD/gl9/wAE+dLjEVn8HfCu1em7ToSf1Wn+J/2A/wBh3QPCV/fxfCjwxEtnbyzpt06AFSiE5Hy+1felc/4j0mx17SrrQdQOIb+F4HwcHa6lWx74NC02Bs/mM/4NZ9JMX7M/xU8SxIIoNR8eX5hhQYSNI0RQFHYV/UnXwt+xT+xP8Cv+Cenw0vvhT8H7i4TTdW1SbU3/ALQnDyNcT43BSccccAV9yxyeZyKbdxElFFFIAooooA//0v7+KKKKACiiigAooooAKKKKACiiigAooooA8Q/aRvfHOm/ArxZqHwzUtr8Ol3L2IHJ85YyVx756V+On/BPex8GeMfiT4Y+KPwRu9chEGkzL44m1J7gW1xqD4wm2c48xJAxynAFfvrLGJF2sMg9Qa4rW/h74X1zwvfeELizSGx1BGSdLf9yWD/eOUwQT69aAPwS/ar1DQvG37WPjj4b/ABhbXJNeaws3+HUelG4WMSOnzzBov3eVm5cv0UV+7/wh0nxVoPwy0LRfHFyb3WLWxgjvJz1kmVAHY++a2dF8F+HdEhsoLOzj/wCJfCsEEjqHkSNRgDe2W+vNdfQAUUUUAFFFFABRRRQAV+af/BU3xZr/AIO/Z4sdUglu4PDza3YxeIpLEP566W8mJ9vl/OB0DFecZr9LKo6lp1lqtm9hqMKXEMnDRyKGUj3B4NAH5jf8E+PCmi+H38W+IvhxLqVv8NNZngbw9batJIX3BP38kKznzFjkboD15NeRfCr4gfs3eG/2+fG3jTSb208PPaQReHjZxbhLfXxffLM0Q7KSFDY55r9XfFHww8K+Mf7LXWrc7NGuUu7VInaJVkQEKSqEAgZ6Hirdn8NvAtnrc3iS30Wyjvrht8lwIU81m9S2Mk+9AHawSeaocHIIyKnoAxwKKACiiigAooooAKD0oooA/EL/AIKN+J/CNp+0p4F8GftBf2s3w71TSdQMMOl+ePO1lWTyUcwfNnaTszxnNfVPwbtPjr8L/wBhl9K0m3m1rxvaaddyaTY6hMDclWLG0jmdjksqlQxPcV99ajomm6o8UuoWsNw0Db4zIisUb1XI4PuK5UfDXw0PiD/ws7yn/tYWn2IP5jbBDu3Y8vO3Oe+M0AfzR/sb+Hv20fBf7aVl8O30G30XxLH4UbUNavNZnNwJ5769MlzMgiyCTjYikjCgV/UzbiZbeNbkgybRuK9M45xWJ/wjWjJrh8SpZwjUHjELXOweaYwc7d3XbnnFdFQAUUUUAFFFFABRRRQAV+Jf/BR3xJ4Wsf2j/AnhP9oL+1D8MtU0y/xFponzNrKsgt0c2/zZ2FtgPGa/bSsbUNF07VmjfU7aK4MLb4/MRX2t6jIOD7igD8xtI8YePv2Wv+CbOu+MvEsl3c634f0TUb6xhvn827WHMj2iSnliY0KKx9q8r/4JWftYweOfCmi/Ai98PGy1I6FHr0upW9yl5BdPO371pZE5SZnbO1ucfSv1P174OeB/EviyTxlrtmLy6lsG010lYtC1vIcsjRE7Dk9SRnFV/hb8BvhD8ErGbTvhP4dsdAhnYtItnCse4k55wP0oA9eU5UE0tIOlLQAUUUUAFFFFABUchYY21JRQB/Nr+0BN/wALI/au+KPw38ZtrzfEu2u7D/hXw097iOCC1aCNvPDJiLaJvM80v1AxX6N/8FGNJ8BeKv2NL/4S/FfWp7PUNdFnp9kbJl+0TarlZLeNVPB3yJyG4K5zxX6LyaJpjap/bAtYvte3Z5+xfM2+m7Gce2a+afij+xl8BfjNJey/ETSH1B769t9Rd2nlVkubRSkMkRDDyyqk/dx1oA+Av+CO3i62h8B+IPh38Vlu7b4ywTJe+Lor6MI7lh5Vs8ZT5DEIo1Vdp7V+1KZKgnmvBvhH+zb8Jvghd3+p/D/TPIvtT2C6vJpGmuJRHwitK5LFV7DPFe9LnaM9aAFooooAKKKKACiiigAr4d+LXibxa37a3w08G6es8eix6TrOo30qgiAyR+RFCsjfdz+8YgH0r7irmvFPhfSvF2i3eg6vHvgvYHt5SpKP5cgwwVhgjI9DQB+Bv7YuteG/FH7ZHin4cfH0a3c29xoFjL8PINHNwFe9cyi4kVoPl8xZPLOXOAtftv8AATQvGvhn4PeGtB+I12b7XbTTbeK+uG6yTrGodj7k9a6jw34A8MeF9M03SNMs4/L0iBba1eQCSRI1AAAkbLduTnmu4oAKKKKACiiigD//0/7+KKKKACiiigAooooAKKKKACiiigAooooAKKKKACiiigAooooAKKKKACiiigAooooAKKKKACiiigAoqpqFz9jsZrvGfKRn/IZr8Df2W/8Agov4+/ar+Il5dal4usvCtpY+KbrRbXQbSye6ubiK1lMe6ebOI9+M5xwKBqNz9/aRjtUmvyC8Af8ABR3TL/8Abn+KXwB+ImqWel6J4PGm2WmQYLXNzeXal5DgZO0ZA6VP+1B+2l+1B8AfjZ8OPB8HhXSp9B8f+I4dEhb7Q7XYicF5Jtm0ABUBOKA5Wfqq3inQ015PC73cI1GSIzrbbx5pjBwXC9doPGcV0AYFd1fhn4U1/WL3/gvV4i0G/mdrWz+HEDWsZJ2Avc/OQOmTX7f3d5aafZy3t7IsUMKl3ZuAFAySfYUCPm34t/tm/s0fAyC4n+J/i/T9MNoQJ1aTc0eTj5wudvPrX0RoGuab4l0e21/RpluLO8iSaCRejxuNysPYg1/NL+3d8LfBf7Qngnx54Q+Efi+71XVdfkBj03RdK/0dgJAXWedYyznAPO4c1+rHwu+M/wAZ7P8AZ9s08J/D+fRbjQba3s1/4SC4jtYmihiAaYlSxVRjvQOx+jdIx2qTX4p/s+f8FJvix470T46a78StAsILP4TWn2i1vdNkeW0vmEDysqSMAG2kAEiuU+Af/BWq4+Jl5pVh4jh084+G0/jfV3s5N/2aZD8tvjJx8vJzzQPkZ+6iSb+2Kkr+fj9g79rT9t2H4H6N8RviF8NdW8ZQePtSm1SPULe6h22dndzH7OnlOQwSOLGQK6f/AIKC/tqfFzwN+0XD+z54T1+TwJYx+DrvxGmp+QJWvL6NisNlGWBXOR8wHJyMUCSufvBRX4d337c/7Rvw2/Yo+BnxB+IVlHB44+IWuaRo2oJcxlNqXchEknl8bXaMZx2Jr9szcGOAzzthUXcx9gMmgGjRpCcCvyTuv+CuPwXh+ImjeHU0TVpfDPiLWp/D+n+IkRTZz39sG8yNFB3kBkZQcYJFfOPx+/4LMzeEPGnxN8LfDHw/K9v8PPC8WrvPqcT27S3l1cCGFAjYPl4ySe9A+Rn67/FL9pj4Z/CLxJYeEPFL3T6jqJTy4ra3kmwrttDOVGFGe5Ne/wAEyzwJOnR1DD8a/m4/4Kl/DP4ofHHW/hNafC7Xrzw9rXiae21PVdUmumh0mwsbWISvHKqsufNchQucmvtT9lr4veMrT4mz/D34sfGDTvGsupWn2ex07RrJo47eRVOX88bv4Rxk9aBWP1rkv7aKQQNIgc9FLDJ+gp5ucEDjJGcZ5r+Zr9kHxN4r+Hv7S3iTwt8e/DXjTxJ44fxPqFz4fE12RCmirII4pvLaRVaNQ3J2196fCH4u+NfFn/BXT4l/DPUr6caL4f8AB+kyW1iXPlLLPJI0km3puPAz7UA0fr2ORmo5H2CuP8Y6h4t0zw7dXvg6zTUNRVf3EEr+WjMem5ucAV+eX7Hv7W3x8+Nn7Q3xV+Cfxd0LTdNi+HZso1udOlaVZJrqMymMlgOUXGfrQI/TgXGeMZI9Kck259hr8YP+CX37R5+ImsfFrU/i14wjudVvfiDqum6Xp9zMoaG2smWKOKGPOcYXPTrXkngn9p79qL4C/tefGu8+LHhHVtZ8OapqlqvhqR7qCCxhs4YQjFTM643PknAoGlc/fyWQRjLEAe9Z0Wt6XNdfYYbmJ5hyY1dS2PXAOa/KT9sX47aX8bP+Cf3xH174X6tKviPR9GkuGi0S4Z7i2udpZEWSL7xz129a84/YF8Ufst+GdD8G33h+DX9X8dXmlWttqN9cQ3s/7+RFMxlaTKL83U9qBNH7cUUikYFLQAUUUUAFFFFABRRRQAUUUUAFFFFABRRRQAUUUUAFFFFABRRRQB//1P7+KKKKACiiigAooooAKKKKACiiigAooooAKKKKACiiigAooooAKKKKACiiigAooooAKKKKACiiigCpf25u7Ka1Bx5iMv5jFfh9+yZ/wTX/AGpv2crLX9B0z4g6XpWnap4kvtZjNppyS3XlXcpkCNNJ3AOOBxX7mUUDTPy+/Ze/YN1H4O/tX/F39o7xy9jq0njy5snsGMQaaFLWIIxYkcFm54rqP+CiV78I/hH8Hpf2s/iDYfb9Z+GsFxeeHxycahcRmGIKg+8zMwUfWv0ZrkfGPgLwf8QdJGg+NtOg1Sy8xJfIuUEib423I208ZUjIoHzH4p/8Exv2p/gd8XbvRW+NQm0r9oS40oRammtWptL6aGRjN5cG4APCu75QvbrX7ly2kd3C0M6h0cFWU8gg9Qa881T4KfCnW/F+neP9W0Cxn1vSQVs75oU8+EEYwj4yBivUEQIu0UEn8+v/AAUZ+LngbWfiRrP7Jvwr8SXHhHxbbaILx54pxp9jZJOSEmLRr5k0g6hFz717v8VPgD8Wv2sP+CZWi/Ar4IeOPtOvC20+2uNevPNjF59kdftBfo5Eu0g+oNfp3qvwJ+D2u+Of+Fm614b0+78QeSLf7fLAjz+UpyE3kE4B7V6hZ2VpYQC2so0hjXoiKFUfQDigaZ+UTfsLftA69+z74r+EHinxrp8EfiPw/PpEdhplgltZwSSw+X5hPMj49zXlvwr/AOCV/wAMv2U/GsXx60qwGsR2fgVPCuqaBY267dTcFS8p3HBL4xg9q/bmmsu4YoHzM/PLwN8W/wBoqbw7aaD8MPg9/wAI9pdoqQW0OpXcUCxQrwMRxbsADoKsfE/4a/tYfFDxWqWVj4T0iwtgPI1C7gN/doSBuKKwAXB96/QNYgvepAMcUCR+M37R37A37SPxd0LwDFrXjiPxLfeGPGOl66/nwJbQw2toW81YlQHkg8ZNfsRcWQurF7KblZEKN9GGDWjSAYoBs/I/4Wf8EivhH8O9a05dU8Q6rrfh/wAP6xe67oukXLqIbG8vi5kkRlAYkF2K5JwTXzd8R/8Agib/AMJd42+NmraF4rktdP8AippGmabbC5L3M1o1lL5sjM7sSQ56AdK/oCooHzs/PL4pfsh6VL4Q0u40jw1ZeMfE1pbW1kJNYnkFoghjCeaYuV7ZwBzXx3/wS8+L/wAZ/il8Yfjn8OPiLZaJbRfD7WItH0uTSrMQQpJ5RaQA43MFJHev3QxmuM8LfDvwT4JvNQv/AAlpltp02rXDXd68EaoZ524MkhAG5iO5oFzH4i/tU/sb+Mvhlqviz/gov8YviNq19rnhPw5dQQWOhqtlF9jQmYw5O85ZgMt1r6W/Yb0z9k7xBr+mftCfD7WRe+O/GXhmwivlmvPtNx9niXzFWT/aUuQTX6deJvDOg+MtBuvDHii1jvtPvo2huLeZQ8ckbjDKynggjqK4L4efAf4O/Ce3S2+G/hyw0VUXav2WBIyB6ZA6UA2erNuaE7OpHFfAf7F/7Jniv9nLUPih418fanHq2ufEbxLdazI8QO2K3KiK2hGefljUZ96/QBV2qFHakdd67TxQI/Ev/gl5+wtD8K7L4leOvjH4TisfFGueNtavrG9lAa4FlcSnyZI252ZXkY5r5z/4KYal8Nf2RtT8K+CPBujWWveKfFEWoXy6l4uuJ7u0t4NPi811EZY7pJCQqKB1r+j9E2DHWvLvHvwR+FHxR1LTdY+ImgWOtXWjuZLKS7hWVoHbqULA4zjmgadj4+/Ym+Ja6x+xD4X+NvxU8JW/hi91XTEudQ03T7Q4GeFxCq7iCMEAjPNfCf7LHxu/ass/2p/jHqlj8Ndf1bw14g1O0bw1NeqtjaQWsUIR8LJhlBfnheetfvnFp1rbwrbwIqRIAqoAAoA6ADpVlIVRdo6CgTKGjvfzabbz6rEIbl41MiKchHI5UHvg1qUUUAFFFFABRRRQAUUUUAFFFFABRRRQAUUUUAFFFFABRRRQAUUUUAf/1f7+KKKKACiiigAooooAKKKKACiiigAooooAKKKKACiiigAooooAKKKKACiiigAooooAKKKKACiiigAooooAKKKKACiiigAooooAKKKKACiiigAooooAKKKKACiiigAooooAKKKKACiiigAooooAKKKKACiiigAooooAKKKKACiiigAooooAKKKKACiiigAooooAKKKKAP/Z)"
      ],
      "metadata": {
        "id": "xaAHRdY_rSY3"
      }
    },
    {
      "cell_type": "code",
      "source": [
        "#softmax함수 사용하면 확률이 0에 가까울경우 문제가 되기 떄문에 Logsoftmax사용해 안정적인 계산을 한다.\n",
        "model = nn.Sequential(\n",
        "            nn.Linear(3072, 512),\n",
        "            nn.Tanh(),\n",
        "            nn.Linear(512, 2),\n",
        "            nn.LogSoftmax(dim=1))\n",
        "\n",
        "loss = nn.NLLLoss()\n",
        "\n",
        "#새를 예시로 테스트\n",
        "img, label = cifar2[0]\n",
        "\n",
        "out = model(img.view(-1).unsqueeze(0))\n",
        "\n",
        "loss(out, torch.tensor([label]))\n",
        "#MSE사용하면 훨씬 더 일찍 포화되어 미분해도 기울기 값이 작아 좋지 않은 예측을 하게 된다. MSE의 기울기는 잘못된 예측에 대한 소프트맥스 함수의 평탄화를 보상하기에 너무 작다."
      ],
      "metadata": {
        "colab": {
          "base_uri": "https://localhost:8080/"
        },
        "id": "n8FIxBpbq42o",
        "outputId": "3287d0e7-a09b-4c27-b29f-aacd1375e19b"
      },
      "execution_count": 28,
      "outputs": [
        {
          "output_type": "execute_result",
          "data": {
            "text/plain": [
              "tensor(0.8455, grad_fn=<NllLossBackward0>)"
            ]
          },
          "metadata": {},
          "execution_count": 28
        }
      ]
    },
    {
      "cell_type": "code",
      "source": [
        "import torch\n",
        "import torch.nn as nn\n",
        "import torch.optim as optim\n",
        "\n",
        "model = nn.Sequential(\n",
        "            nn.Linear(3072, 512),\n",
        "            nn.Tanh(),\n",
        "            nn.Linear(512, 2),\n",
        "            nn.LogSoftmax(dim=1))\n",
        "\n",
        "learning_rate = 1e-2\n",
        "\n",
        "optimizer = optim.SGD(model.parameters(), lr=learning_rate)\n",
        "\n",
        "loss_fn = nn.NLLLoss()\n",
        "\n",
        "n_epochs = 100\n",
        "\n",
        "for epoch in range(n_epochs):\n",
        "    for img, label in cifar2:\n",
        "        out = model(img.view(-1).unsqueeze(0))\n",
        "        loss = loss_fn(out, torch.tensor([label])) #브로드캐스팅 out: 1x2, torch.tensor([label]):1     \n",
        "        optimizer.zero_grad()\n",
        "        loss.backward()\n",
        "        optimizer.step()\n",
        "\n",
        "    print(\"Epoch: %d, Loss: %f\" % (epoch, float(loss)))"
      ],
      "metadata": {
        "colab": {
          "base_uri": "https://localhost:8080/"
        },
        "id": "rGsCPZIcwoJ1",
        "outputId": "2ed6d125-4547-4991-84fa-e2af6651ff31"
      },
      "execution_count": 29,
      "outputs": [
        {
          "output_type": "stream",
          "name": "stdout",
          "text": [
            "Epoch: 0, Loss: 5.183293\n",
            "Epoch: 1, Loss: 2.486770\n",
            "Epoch: 2, Loss: 5.749059\n",
            "Epoch: 3, Loss: 10.096677\n",
            "Epoch: 4, Loss: 2.980667\n",
            "Epoch: 5, Loss: 12.919665\n",
            "Epoch: 6, Loss: 16.235716\n",
            "Epoch: 7, Loss: 7.186924\n",
            "Epoch: 8, Loss: 13.587884\n",
            "Epoch: 9, Loss: 4.626205\n",
            "Epoch: 10, Loss: 5.133543\n",
            "Epoch: 11, Loss: 4.192498\n",
            "Epoch: 12, Loss: 1.264740\n",
            "Epoch: 13, Loss: 6.018458\n",
            "Epoch: 14, Loss: 9.465184\n",
            "Epoch: 15, Loss: 8.700088\n",
            "Epoch: 16, Loss: 6.853026\n",
            "Epoch: 17, Loss: 12.423616\n",
            "Epoch: 18, Loss: 4.960280\n",
            "Epoch: 19, Loss: 3.832187\n",
            "Epoch: 20, Loss: 4.656030\n",
            "Epoch: 21, Loss: 7.375816\n",
            "Epoch: 22, Loss: 20.007507\n",
            "Epoch: 23, Loss: 6.191201\n",
            "Epoch: 24, Loss: 2.253193\n",
            "Epoch: 25, Loss: 3.546602\n",
            "Epoch: 26, Loss: 8.110438\n",
            "Epoch: 27, Loss: 10.899882\n",
            "Epoch: 28, Loss: 3.771224\n",
            "Epoch: 29, Loss: 8.422433\n",
            "Epoch: 30, Loss: 9.686367\n",
            "Epoch: 31, Loss: 7.110418\n",
            "Epoch: 32, Loss: 9.824324\n",
            "Epoch: 33, Loss: 2.831800\n",
            "Epoch: 34, Loss: 2.667467\n",
            "Epoch: 35, Loss: 8.398068\n",
            "Epoch: 36, Loss: 8.066061\n",
            "Epoch: 37, Loss: 11.930254\n",
            "Epoch: 38, Loss: 1.029061\n",
            "Epoch: 39, Loss: 11.457178\n",
            "Epoch: 40, Loss: 6.243739\n",
            "Epoch: 41, Loss: 2.933637\n",
            "Epoch: 42, Loss: 1.356926\n",
            "Epoch: 43, Loss: 5.100352\n",
            "Epoch: 44, Loss: 4.892821\n",
            "Epoch: 45, Loss: 6.061553\n",
            "Epoch: 46, Loss: 16.064608\n",
            "Epoch: 47, Loss: 6.737858\n",
            "Epoch: 48, Loss: 9.016364\n",
            "Epoch: 49, Loss: 14.718052\n",
            "Epoch: 50, Loss: 13.529741\n",
            "Epoch: 51, Loss: 9.570334\n",
            "Epoch: 52, Loss: 6.788977\n",
            "Epoch: 53, Loss: 16.745329\n",
            "Epoch: 54, Loss: 1.866877\n",
            "Epoch: 55, Loss: 10.022628\n",
            "Epoch: 56, Loss: 10.164055\n",
            "Epoch: 57, Loss: 9.229527\n",
            "Epoch: 58, Loss: 16.412140\n",
            "Epoch: 59, Loss: 12.471567\n",
            "Epoch: 60, Loss: 12.127913\n",
            "Epoch: 61, Loss: 8.360889\n",
            "Epoch: 62, Loss: 17.869287\n",
            "Epoch: 63, Loss: 4.098886\n",
            "Epoch: 64, Loss: 7.706191\n",
            "Epoch: 65, Loss: 3.611304\n",
            "Epoch: 66, Loss: 8.601512\n",
            "Epoch: 67, Loss: 13.393215\n",
            "Epoch: 68, Loss: 0.564861\n",
            "Epoch: 69, Loss: 16.180710\n",
            "Epoch: 70, Loss: 11.846065\n",
            "Epoch: 71, Loss: 10.377074\n",
            "Epoch: 72, Loss: 15.521646\n",
            "Epoch: 73, Loss: 13.355035\n",
            "Epoch: 74, Loss: 4.246978\n",
            "Epoch: 75, Loss: 13.594695\n",
            "Epoch: 76, Loss: 4.287342\n",
            "Epoch: 77, Loss: 8.144490\n",
            "Epoch: 78, Loss: 5.357554\n",
            "Epoch: 79, Loss: 7.838549\n",
            "Epoch: 80, Loss: 1.806294\n",
            "Epoch: 81, Loss: 16.422859\n",
            "Epoch: 82, Loss: 2.644041\n",
            "Epoch: 83, Loss: 0.001598\n",
            "Epoch: 84, Loss: 0.555663\n",
            "Epoch: 85, Loss: 13.672355\n",
            "Epoch: 86, Loss: 2.024334\n",
            "Epoch: 87, Loss: 3.312180\n",
            "Epoch: 88, Loss: 5.229669\n",
            "Epoch: 89, Loss: 0.000401\n",
            "Epoch: 90, Loss: 7.461689\n",
            "Epoch: 91, Loss: 6.409596\n",
            "Epoch: 92, Loss: 1.293499\n",
            "Epoch: 93, Loss: 13.394761\n",
            "Epoch: 94, Loss: 6.301061\n",
            "Epoch: 95, Loss: 7.685543\n",
            "Epoch: 96, Loss: 0.541106\n",
            "Epoch: 97, Loss: 15.083233\n",
            "Epoch: 98, Loss: 2.152021\n",
            "Epoch: 99, Loss: 1.968989\n"
          ]
        }
      ]
    },
    {
      "cell_type": "markdown",
      "source": [
        "batch gradient descent: 배치사이즈가 n으로 파라미터 업데이트를 n개 단위로 한꺼번에 진행, 비효율적이지만 안정적임\n",
        "\n",
        "stochastic gradient descent: 배치사이즈가 1로 파라미터 업데이트를 1개마다 진행, 실시간 업데이트가 가능하지만 불안정함\n",
        "\n",
        "mini-batch gradient descent: 배치사이즈가 1 ~ n 사이로 업데이트를 n/batchsize 마다 진행"
      ],
      "metadata": {
        "id": "1T3k81N8zZkm"
      }
    },
    {
      "cell_type": "code",
      "source": [
        "#torch.utils.data에는 미니배치의 데이터를 섞거나 구조화하는 작업을 돕는 DataLoader가 있음. 이를 활용해 샘플링을 다양한 전략을 통해 할수있다.\n",
        "\n",
        "#데이터 로더가 데이터셋에서 개별 데이터 아이템을 샘플링하여 미니 배치를 구성하게한다.\n",
        "train_loader = torch.utils.data.DataLoader(cifar2, batch_size=64, shuffle=True)"
      ],
      "metadata": {
        "id": "jm3rLLvLzcw5"
      },
      "execution_count": 30,
      "outputs": []
    },
    {
      "cell_type": "code",
      "source": [
        "#반복문 부분만 바꿔주면됨.\n",
        "\n",
        "for epoch in range(n_epochs):\n",
        "    for imgs, labels in train_loader:\n",
        "        batch_size=imgs.shape[0] #img.shape:[64,3,32,32]\n",
        "        outputs = model(imgs.view(batch_size, -1))\n",
        "        loss = loss_fn(outputs, labels)\n",
        "\n",
        "        optimizer.zero_grad()\n",
        "        loss.backward()\n",
        "        optimizer.step()\n",
        "\n",
        "    print(\"Epoch: %d, Loss: %f\" % (epoch, float(loss)))"
      ],
      "metadata": {
        "colab": {
          "base_uri": "https://localhost:8080/"
        },
        "id": "KxbdnS-B0KQa",
        "outputId": "532aa833-d660-4b6d-9830-70a3344038dd"
      },
      "execution_count": 31,
      "outputs": [
        {
          "output_type": "stream",
          "name": "stdout",
          "text": [
            "Epoch: 0, Loss: 0.673934\n",
            "Epoch: 1, Loss: 0.120616\n",
            "Epoch: 2, Loss: 0.179164\n",
            "Epoch: 3, Loss: 0.356751\n",
            "Epoch: 4, Loss: 0.204028\n",
            "Epoch: 5, Loss: 0.299031\n",
            "Epoch: 6, Loss: 0.268582\n",
            "Epoch: 7, Loss: 1.476746\n",
            "Epoch: 8, Loss: 0.025562\n",
            "Epoch: 9, Loss: 0.083575\n",
            "Epoch: 10, Loss: 0.082361\n",
            "Epoch: 11, Loss: 0.013610\n",
            "Epoch: 12, Loss: 0.191628\n",
            "Epoch: 13, Loss: 0.137855\n",
            "Epoch: 14, Loss: 0.014253\n",
            "Epoch: 15, Loss: 0.245582\n",
            "Epoch: 16, Loss: 0.648476\n",
            "Epoch: 17, Loss: 0.101268\n",
            "Epoch: 18, Loss: 0.011695\n",
            "Epoch: 19, Loss: 0.454138\n",
            "Epoch: 20, Loss: 0.122084\n",
            "Epoch: 21, Loss: 0.083990\n",
            "Epoch: 22, Loss: 0.137973\n",
            "Epoch: 23, Loss: 0.007671\n",
            "Epoch: 24, Loss: 0.038913\n",
            "Epoch: 25, Loss: 0.592106\n",
            "Epoch: 26, Loss: 0.408409\n",
            "Epoch: 27, Loss: 0.464360\n",
            "Epoch: 28, Loss: 0.064119\n",
            "Epoch: 29, Loss: 0.064622\n",
            "Epoch: 30, Loss: 0.206451\n",
            "Epoch: 31, Loss: 0.126448\n",
            "Epoch: 32, Loss: 0.291694\n",
            "Epoch: 33, Loss: 0.195236\n",
            "Epoch: 34, Loss: 0.044233\n",
            "Epoch: 35, Loss: 0.457063\n",
            "Epoch: 36, Loss: 0.175684\n",
            "Epoch: 37, Loss: 0.475767\n",
            "Epoch: 38, Loss: 0.140682\n",
            "Epoch: 39, Loss: 0.268481\n",
            "Epoch: 40, Loss: 0.053872\n",
            "Epoch: 41, Loss: 0.020526\n",
            "Epoch: 42, Loss: 0.037990\n",
            "Epoch: 43, Loss: 0.254358\n",
            "Epoch: 44, Loss: 0.569424\n",
            "Epoch: 45, Loss: 0.123137\n",
            "Epoch: 46, Loss: 0.260288\n",
            "Epoch: 47, Loss: 0.090432\n",
            "Epoch: 48, Loss: 0.175789\n",
            "Epoch: 49, Loss: 0.040689\n",
            "Epoch: 50, Loss: 0.069046\n",
            "Epoch: 51, Loss: 0.223365\n",
            "Epoch: 52, Loss: 0.173274\n",
            "Epoch: 53, Loss: 0.042504\n",
            "Epoch: 54, Loss: 0.051369\n",
            "Epoch: 55, Loss: 0.165464\n",
            "Epoch: 56, Loss: 0.437884\n",
            "Epoch: 57, Loss: 0.116302\n",
            "Epoch: 58, Loss: 0.033828\n",
            "Epoch: 59, Loss: 0.335356\n",
            "Epoch: 60, Loss: 0.160050\n",
            "Epoch: 61, Loss: 0.137124\n",
            "Epoch: 62, Loss: 0.005229\n",
            "Epoch: 63, Loss: 0.179332\n",
            "Epoch: 64, Loss: 0.262633\n",
            "Epoch: 65, Loss: 0.162815\n",
            "Epoch: 66, Loss: 0.345256\n",
            "Epoch: 67, Loss: 0.009936\n",
            "Epoch: 68, Loss: 0.135782\n",
            "Epoch: 69, Loss: 0.020007\n",
            "Epoch: 70, Loss: 0.062969\n",
            "Epoch: 71, Loss: 0.246905\n",
            "Epoch: 72, Loss: 0.020274\n",
            "Epoch: 73, Loss: 0.397613\n",
            "Epoch: 74, Loss: 0.054447\n",
            "Epoch: 75, Loss: 0.359531\n",
            "Epoch: 76, Loss: 0.145335\n",
            "Epoch: 77, Loss: 0.267457\n",
            "Epoch: 78, Loss: 0.160885\n",
            "Epoch: 79, Loss: 0.078841\n",
            "Epoch: 80, Loss: 0.008626\n",
            "Epoch: 81, Loss: 0.014072\n",
            "Epoch: 82, Loss: 0.184290\n",
            "Epoch: 83, Loss: 0.232481\n",
            "Epoch: 84, Loss: 0.050008\n",
            "Epoch: 85, Loss: 0.041126\n",
            "Epoch: 86, Loss: 0.050459\n",
            "Epoch: 87, Loss: 0.050383\n",
            "Epoch: 88, Loss: 0.212259\n",
            "Epoch: 89, Loss: 0.155589\n",
            "Epoch: 90, Loss: 0.336794\n",
            "Epoch: 91, Loss: 0.011215\n",
            "Epoch: 92, Loss: 0.205117\n",
            "Epoch: 93, Loss: 0.040374\n",
            "Epoch: 94, Loss: 0.156553\n",
            "Epoch: 95, Loss: 0.007604\n",
            "Epoch: 96, Loss: 0.121812\n",
            "Epoch: 97, Loss: 0.055392\n",
            "Epoch: 98, Loss: 0.023320\n",
            "Epoch: 99, Loss: 0.362884\n"
          ]
        }
      ]
    },
    {
      "cell_type": "code",
      "source": [
        "#검증셋으로 테스트하기\n",
        "val_loader = torch.utils.data.DataLoader(cifar2, batch_size=64, shuffle=False)\n",
        "\n",
        "correct = 0\n",
        "total = 0\n",
        "\n",
        "with torch.no_grad():\n",
        "    for imgs, labels in train_loader:\n",
        "        outputs = model(imgs.view(imgs.shape[0], -1))\n",
        "        _, predicted = torch.max(outputs, dim=1)\n",
        "        total += labels.shape[0]\n",
        "        correct += int((predicted == labels).sum())\n",
        "        \n",
        "print(\"Accuracy: %f\" % (correct / total))"
      ],
      "metadata": {
        "colab": {
          "base_uri": "https://localhost:8080/"
        },
        "id": "fyOhnHwT15gh",
        "outputId": "775502af-414c-4514-9143-cd81f98682e7"
      },
      "execution_count": 32,
      "outputs": [
        {
          "output_type": "stream",
          "name": "stdout",
          "text": [
            "Accuracy: 0.946800\n"
          ]
        }
      ]
    },
    {
      "cell_type": "code",
      "source": [
        "#모델에 계층을 더 추가하면 모델의 깊이나 용량이 늘어나게 된다.\n",
        "model = nn.Sequential(\n",
        "            nn.Linear(3072, 1024),\n",
        "            nn.Tanh(),\n",
        "            nn.Linear(1024, 512),\n",
        "            nn.Tanh(),\n",
        "            nn.Linear(512, 128),\n",
        "            nn.Tanh(),\n",
        "            nn.Linear(128, 2),\n",
        "            nn.LogSoftmax(dim=1))\n",
        "\n",
        "#nn.LogSoftmax+nn.NLLLoss조합은 nn.CrossEntropyLoss와 동일하다.\n",
        "model = nn.Sequential(\n",
        "            nn.Linear(3072, 1024),\n",
        "            nn.Tanh(),\n",
        "            nn.Linear(1024, 512),\n",
        "            nn.Tanh(),\n",
        "            nn.Linear(512, 128),\n",
        "            nn.Tanh(),\n",
        "            nn.Linear(128, 2))\n",
        "\n",
        "loss_fn = nn.CrossEntropyLoss()"
      ],
      "metadata": {
        "id": "3LWlZyVS2NJq"
      },
      "execution_count": 33,
      "outputs": []
    },
    {
      "cell_type": "markdown",
      "source": [
        "위에 두 모델 사용 시 train_data로만 졍확도를 측정하면 99%에 가까우며 검증셋은 그에 비해 낮게 나오는데 과적합임을 알수있다.\n",
        "\n",
        "NLLLoss는 크로스엔트로피를 계산하지만 입력으로 로그확률 예측을 받는다.\n",
        "\n",
        "CrossEntropyLoss는 logits이라 부르는 점수를 입력으로 받는다. 하지만 여기서는 모델의 출력을 확률로 해석하지 못하는 단점이 하나 있어 출력을 다시 소프트맥스에 명시적으로 연결 할 필요가 있다."
      ],
      "metadata": {
        "id": "bsQvnDPZ5SSw"
      }
    },
    {
      "cell_type": "code",
      "source": [
        "#각 층마다 파라미터가 얼마나 있는지 확인해 볼 수 있다.\n",
        "numel_list=[p.numel() for p in model.parameters() if p.requires_grad==True]\n",
        "\n",
        "sum(numel_list),numel_list\n",
        "\n",
        "#매우 많은 파라미터들이 있고 신경망을 픽셀수에 따라 확장 가능하는것은 어렵다."
      ],
      "metadata": {
        "colab": {
          "base_uri": "https://localhost:8080/"
        },
        "id": "us_Tw4oy5J2Y",
        "outputId": "12f81e6f-de04-488e-b71c-cec01b456d50"
      },
      "execution_count": 34,
      "outputs": [
        {
          "output_type": "execute_result",
          "data": {
            "text/plain": [
              "(3737474, [3145728, 1024, 524288, 512, 65536, 128, 256, 2])"
            ]
          },
          "metadata": {},
          "execution_count": 34
        }
      ]
    },
    {
      "cell_type": "markdown",
      "source": [
        "# 7.4 연습문제\n",
        "\n",
        "## 1 랜덤으로 잘라낸 이미지로 훈련시킨결과"
      ],
      "metadata": {
        "id": "Kj3frJ3Q7kyu"
      }
    },
    {
      "cell_type": "code",
      "source": [
        "torchvision_transform = transforms.Compose([\n",
        "    transforms.Resize((300, 300)), \n",
        "    transforms.RandomCrop(224),\n",
        "    transforms.Resize((32, 32)),\n",
        "    transforms.ToTensor()\n",
        "])\n",
        "\n",
        "cifar10 = datasets.CIFAR10(data_path, train=True, download=True, transform=torchvision_transform)\n",
        "cifar10_val = datasets.CIFAR10(data_path, train=False, download=False,transform=torchvision_transform)\n",
        "\n",
        "cifar2 = [(img, label_map[label]) for img, label in cifar10 if label in [0, 2]]\n",
        "cifar2_val = [(img, label_map[label]) for img, label in cifar10_val if label in [0, 2]]\n",
        "\n",
        "train_loader = torch.utils.data.DataLoader(cifar2, batch_size=64, shuffle=True)\n",
        "\n",
        "model = nn.Sequential(\n",
        "            nn.Linear(3072, 1024),\n",
        "            nn.Tanh(),\n",
        "            nn.Linear(1024, 512),\n",
        "            nn.Tanh(),\n",
        "            nn.Linear(512, 128),\n",
        "            nn.Tanh(),\n",
        "            nn.Linear(128, 2),\n",
        "            nn.LogSoftmax(dim=1))\n",
        "\n",
        "learning_rate = 1e-2\n",
        "\n",
        "optimizer = optim.SGD(model.parameters(), lr=learning_rate)\n",
        "\n",
        "loss_fn = nn.NLLLoss()\n",
        "\n",
        "n_epochs = 100\n",
        "\n",
        "batch_size=64\n",
        "\n",
        "for epoch in range(n_epochs):\n",
        "    for imgs, labels in train_loader:\n",
        "        batch_size=imgs.shape[0] \n",
        "        outputs = model(imgs.view(batch_size, -1))\n",
        "        loss = loss_fn(outputs, labels)\n",
        "\n",
        "        optimizer.zero_grad()\n",
        "        loss.backward()\n",
        "        optimizer.step()\n",
        "\n",
        "    print(\"Epoch: %d, Loss: %f\" % (epoch, float(loss)))"
      ],
      "metadata": {
        "colab": {
          "base_uri": "https://localhost:8080/"
        },
        "id": "KbmUKX727M9L",
        "outputId": "c06b42d7-c22a-4cfe-ee76-ec50448b01b0"
      },
      "execution_count": 36,
      "outputs": [
        {
          "output_type": "stream",
          "name": "stdout",
          "text": [
            "Files already downloaded and verified\n",
            "Epoch: 0, Loss: 0.499555\n",
            "Epoch: 1, Loss: 0.540502\n",
            "Epoch: 2, Loss: 0.565664\n",
            "Epoch: 3, Loss: 0.498564\n",
            "Epoch: 4, Loss: 0.571787\n",
            "Epoch: 5, Loss: 0.531127\n",
            "Epoch: 6, Loss: 0.588741\n",
            "Epoch: 7, Loss: 0.478085\n",
            "Epoch: 8, Loss: 0.488940\n",
            "Epoch: 9, Loss: 0.701717\n",
            "Epoch: 10, Loss: 0.748505\n",
            "Epoch: 11, Loss: 0.533684\n",
            "Epoch: 12, Loss: 0.397464\n",
            "Epoch: 13, Loss: 0.746529\n",
            "Epoch: 14, Loss: 0.590243\n",
            "Epoch: 15, Loss: 0.435726\n",
            "Epoch: 16, Loss: 0.434217\n",
            "Epoch: 17, Loss: 0.536487\n",
            "Epoch: 18, Loss: 0.547776\n",
            "Epoch: 19, Loss: 0.423592\n",
            "Epoch: 20, Loss: 0.372887\n",
            "Epoch: 21, Loss: 0.649240\n",
            "Epoch: 22, Loss: 0.373610\n",
            "Epoch: 23, Loss: 0.552434\n",
            "Epoch: 24, Loss: 0.633046\n",
            "Epoch: 25, Loss: 0.379966\n",
            "Epoch: 26, Loss: 0.555527\n",
            "Epoch: 27, Loss: 0.408938\n",
            "Epoch: 28, Loss: 0.751945\n",
            "Epoch: 29, Loss: 0.787089\n",
            "Epoch: 30, Loss: 0.499760\n",
            "Epoch: 31, Loss: 0.388629\n",
            "Epoch: 32, Loss: 0.726068\n",
            "Epoch: 33, Loss: 0.788215\n",
            "Epoch: 34, Loss: 0.459037\n",
            "Epoch: 35, Loss: 0.414062\n",
            "Epoch: 36, Loss: 0.529173\n",
            "Epoch: 37, Loss: 0.615987\n",
            "Epoch: 38, Loss: 0.449152\n",
            "Epoch: 39, Loss: 0.462092\n",
            "Epoch: 40, Loss: 0.291053\n",
            "Epoch: 41, Loss: 0.325738\n",
            "Epoch: 42, Loss: 0.308984\n",
            "Epoch: 43, Loss: 0.304125\n",
            "Epoch: 44, Loss: 0.319338\n",
            "Epoch: 45, Loss: 0.376805\n",
            "Epoch: 46, Loss: 0.453010\n",
            "Epoch: 47, Loss: 0.152113\n",
            "Epoch: 48, Loss: 0.705762\n",
            "Epoch: 49, Loss: 0.560255\n",
            "Epoch: 50, Loss: 0.418771\n",
            "Epoch: 51, Loss: 0.605470\n",
            "Epoch: 52, Loss: 0.527133\n",
            "Epoch: 53, Loss: 0.499643\n",
            "Epoch: 54, Loss: 0.302497\n",
            "Epoch: 55, Loss: 0.267551\n",
            "Epoch: 56, Loss: 0.439725\n",
            "Epoch: 57, Loss: 0.343023\n",
            "Epoch: 58, Loss: 0.634297\n",
            "Epoch: 59, Loss: 0.540058\n",
            "Epoch: 60, Loss: 0.310162\n",
            "Epoch: 61, Loss: 0.571523\n",
            "Epoch: 62, Loss: 0.353575\n",
            "Epoch: 63, Loss: 0.244025\n",
            "Epoch: 64, Loss: 0.543064\n",
            "Epoch: 65, Loss: 0.476665\n",
            "Epoch: 66, Loss: 0.327953\n",
            "Epoch: 67, Loss: 0.379065\n",
            "Epoch: 68, Loss: 0.357454\n",
            "Epoch: 69, Loss: 0.286198\n",
            "Epoch: 70, Loss: 0.400411\n",
            "Epoch: 71, Loss: 0.914550\n",
            "Epoch: 72, Loss: 0.485218\n",
            "Epoch: 73, Loss: 0.261840\n",
            "Epoch: 74, Loss: 0.513585\n",
            "Epoch: 75, Loss: 0.524894\n",
            "Epoch: 76, Loss: 0.276671\n",
            "Epoch: 77, Loss: 0.358810\n",
            "Epoch: 78, Loss: 0.283564\n",
            "Epoch: 79, Loss: 0.333544\n",
            "Epoch: 80, Loss: 0.318029\n",
            "Epoch: 81, Loss: 0.214818\n",
            "Epoch: 82, Loss: 0.393113\n",
            "Epoch: 83, Loss: 0.365769\n",
            "Epoch: 84, Loss: 0.289744\n",
            "Epoch: 85, Loss: 0.367719\n",
            "Epoch: 86, Loss: 0.692105\n",
            "Epoch: 87, Loss: 0.289377\n",
            "Epoch: 88, Loss: 0.184872\n",
            "Epoch: 89, Loss: 0.471955\n",
            "Epoch: 90, Loss: 0.212617\n",
            "Epoch: 91, Loss: 0.365098\n",
            "Epoch: 92, Loss: 0.403537\n",
            "Epoch: 93, Loss: 0.425512\n",
            "Epoch: 94, Loss: 0.515689\n",
            "Epoch: 95, Loss: 0.353390\n",
            "Epoch: 96, Loss: 0.170506\n",
            "Epoch: 97, Loss: 0.438655\n",
            "Epoch: 98, Loss: 0.361135\n",
            "Epoch: 99, Loss: 0.195725\n"
          ]
        }
      ]
    },
    {
      "cell_type": "code",
      "source": [
        "val_loader = torch.utils.data.DataLoader(cifar2, batch_size=64, shuffle=False)\n",
        "\n",
        "correct = 0\n",
        "total = 0\n",
        "\n",
        "with torch.no_grad():\n",
        "    for imgs, labels in train_loader:\n",
        "        outputs = model(imgs.view(imgs.shape[0], -1))\n",
        "        _, predicted = torch.max(outputs, dim=1)\n",
        "        total += labels.shape[0]\n",
        "        correct += int((predicted == labels).sum())\n",
        "        \n",
        "print(\"Accuracy: %f\" % (correct / total))"
      ],
      "metadata": {
        "colab": {
          "base_uri": "https://localhost:8080/"
        },
        "id": "Ejsrn9uzBvJe",
        "outputId": "6db75510-3764-43cb-f3ac-00238b4cd41f"
      },
      "execution_count": 37,
      "outputs": [
        {
          "output_type": "stream",
          "name": "stdout",
          "text": [
            "Accuracy: 0.830000\n"
          ]
        }
      ]
    },
    {
      "cell_type": "markdown",
      "source": [
        "## 2 손실함수를 MSE로 한 결과"
      ],
      "metadata": {
        "id": "ZtDTptMDCCHn"
      }
    },
    {
      "cell_type": "code",
      "source": [
        "model = nn.Sequential(\n",
        "            nn.Linear(3072, 1024),\n",
        "            nn.Tanh(),\n",
        "            nn.Linear(1024, 512),\n",
        "            nn.Tanh(),\n",
        "            nn.Linear(512, 128),\n",
        "            nn.Tanh(),\n",
        "            nn.Linear(128, 2))\n",
        "\n",
        "learning_rate = 1e-2\n",
        "\n",
        "optimizer = optim.SGD(model.parameters(), lr=learning_rate)\n",
        "\n",
        "loss_fn = nn.MSELoss()\n",
        "\n",
        "n_epochs = 100\n",
        "\n",
        "batch_size=64\n",
        "\n",
        "for epoch in range(n_epochs):\n",
        "    for imgs, labels in train_loader:\n",
        "        batch_size=imgs.shape[0] \n",
        "        outputs = model(imgs.view(batch_size, -1))\n",
        "        target_onehot = torch.zeros(labels.shape[0], 2)\n",
        "        target_onehot.scatter_(1, labels.unsqueeze(1), 1.0)\n",
        "        loss = loss_fn(outputs, target_onehot)\n",
        "\n",
        "        optimizer.zero_grad()\n",
        "        loss.backward()\n",
        "        optimizer.step()\n",
        "\n",
        "    print(\"Epoch: %d, Loss: %f\" % (epoch, float(loss)))"
      ],
      "metadata": {
        "colab": {
          "base_uri": "https://localhost:8080/"
        },
        "id": "qbsRgIGoB8en",
        "outputId": "8841d7c2-41f2-41de-b0cf-baed4f064c45"
      },
      "execution_count": 50,
      "outputs": [
        {
          "output_type": "stream",
          "name": "stdout",
          "text": [
            "Epoch: 0, Loss: 0.199236\n",
            "Epoch: 1, Loss: 0.212649\n",
            "Epoch: 2, Loss: 0.106944\n",
            "Epoch: 3, Loss: 0.169798\n",
            "Epoch: 4, Loss: 0.176466\n",
            "Epoch: 5, Loss: 0.176119\n",
            "Epoch: 6, Loss: 0.163146\n",
            "Epoch: 7, Loss: 0.158108\n",
            "Epoch: 8, Loss: 0.159327\n",
            "Epoch: 9, Loss: 0.203156\n",
            "Epoch: 10, Loss: 0.134165\n",
            "Epoch: 11, Loss: 0.176018\n",
            "Epoch: 12, Loss: 0.220141\n",
            "Epoch: 13, Loss: 0.108576\n",
            "Epoch: 14, Loss: 0.188219\n",
            "Epoch: 15, Loss: 0.215745\n",
            "Epoch: 16, Loss: 0.168514\n",
            "Epoch: 17, Loss: 0.202423\n",
            "Epoch: 18, Loss: 0.293280\n",
            "Epoch: 19, Loss: 0.171472\n",
            "Epoch: 20, Loss: 0.164985\n",
            "Epoch: 21, Loss: 0.258642\n",
            "Epoch: 22, Loss: 0.119984\n",
            "Epoch: 23, Loss: 0.143926\n",
            "Epoch: 24, Loss: 0.156519\n",
            "Epoch: 25, Loss: 0.133814\n",
            "Epoch: 26, Loss: 0.109938\n",
            "Epoch: 27, Loss: 0.151505\n",
            "Epoch: 28, Loss: 0.159288\n",
            "Epoch: 29, Loss: 0.195506\n",
            "Epoch: 30, Loss: 0.197743\n",
            "Epoch: 31, Loss: 0.093340\n",
            "Epoch: 32, Loss: 0.163919\n",
            "Epoch: 33, Loss: 0.150262\n",
            "Epoch: 34, Loss: 0.104306\n",
            "Epoch: 35, Loss: 0.178043\n",
            "Epoch: 36, Loss: 0.143590\n",
            "Epoch: 37, Loss: 0.116413\n",
            "Epoch: 38, Loss: 0.146726\n",
            "Epoch: 39, Loss: 0.185760\n",
            "Epoch: 40, Loss: 0.202753\n",
            "Epoch: 41, Loss: 0.198985\n",
            "Epoch: 42, Loss: 0.121014\n",
            "Epoch: 43, Loss: 0.124791\n",
            "Epoch: 44, Loss: 0.075010\n",
            "Epoch: 45, Loss: 0.159377\n",
            "Epoch: 46, Loss: 0.153328\n",
            "Epoch: 47, Loss: 0.091000\n",
            "Epoch: 48, Loss: 0.173902\n",
            "Epoch: 49, Loss: 0.236556\n",
            "Epoch: 50, Loss: 0.080467\n",
            "Epoch: 51, Loss: 0.143176\n",
            "Epoch: 52, Loss: 0.154401\n",
            "Epoch: 53, Loss: 0.197668\n",
            "Epoch: 54, Loss: 0.072389\n",
            "Epoch: 55, Loss: 0.212167\n",
            "Epoch: 56, Loss: 0.190027\n",
            "Epoch: 57, Loss: 0.145737\n",
            "Epoch: 58, Loss: 0.096023\n",
            "Epoch: 59, Loss: 0.279701\n",
            "Epoch: 60, Loss: 0.259151\n",
            "Epoch: 61, Loss: 0.053208\n",
            "Epoch: 62, Loss: 0.145690\n",
            "Epoch: 63, Loss: 0.135541\n",
            "Epoch: 64, Loss: 0.097025\n",
            "Epoch: 65, Loss: 0.104350\n",
            "Epoch: 66, Loss: 0.199361\n",
            "Epoch: 67, Loss: 0.074725\n",
            "Epoch: 68, Loss: 0.078613\n",
            "Epoch: 69, Loss: 0.166084\n",
            "Epoch: 70, Loss: 0.115330\n",
            "Epoch: 71, Loss: 0.148807\n",
            "Epoch: 72, Loss: 0.194581\n",
            "Epoch: 73, Loss: 0.123052\n",
            "Epoch: 74, Loss: 0.279806\n",
            "Epoch: 75, Loss: 0.105694\n",
            "Epoch: 76, Loss: 0.150266\n",
            "Epoch: 77, Loss: 0.106961\n",
            "Epoch: 78, Loss: 0.093600\n",
            "Epoch: 79, Loss: 0.122218\n",
            "Epoch: 80, Loss: 0.077485\n",
            "Epoch: 81, Loss: 0.141147\n",
            "Epoch: 82, Loss: 0.159757\n",
            "Epoch: 83, Loss: 0.164218\n",
            "Epoch: 84, Loss: 0.136326\n",
            "Epoch: 85, Loss: 0.201249\n",
            "Epoch: 86, Loss: 0.124795\n",
            "Epoch: 87, Loss: 0.110576\n",
            "Epoch: 88, Loss: 0.111272\n",
            "Epoch: 89, Loss: 0.141096\n",
            "Epoch: 90, Loss: 0.195773\n",
            "Epoch: 91, Loss: 0.137388\n",
            "Epoch: 92, Loss: 0.167338\n",
            "Epoch: 93, Loss: 0.156256\n",
            "Epoch: 94, Loss: 0.168362\n",
            "Epoch: 95, Loss: 0.151195\n",
            "Epoch: 96, Loss: 0.136587\n",
            "Epoch: 97, Loss: 0.140237\n",
            "Epoch: 98, Loss: 0.165931\n",
            "Epoch: 99, Loss: 0.080752\n"
          ]
        }
      ]
    },
    {
      "cell_type": "code",
      "source": [
        "val_loader = torch.utils.data.DataLoader(cifar2, batch_size=64, shuffle=False)\n",
        "\n",
        "correct = 0\n",
        "total = 0\n",
        "\n",
        "with torch.no_grad():\n",
        "    for imgs, labels in train_loader:\n",
        "        outputs = model(imgs.view(imgs.shape[0], -1))\n",
        "        _, predicted = torch.max(outputs, dim=1)\n",
        "        total += labels.shape[0]\n",
        "        correct += int((predicted == labels).sum())\n",
        "        \n",
        "print(\"Accuracy: %f\" % (correct / total))"
      ],
      "metadata": {
        "colab": {
          "base_uri": "https://localhost:8080/"
        },
        "id": "Mv0oN5-IDEmY",
        "outputId": "9fabb236-3db1-4504-f4d4-c5b20ff081bd"
      },
      "execution_count": 51,
      "outputs": [
        {
          "output_type": "stream",
          "name": "stdout",
          "text": [
            "Accuracy: 0.780300\n"
          ]
        }
      ]
    },
    {
      "cell_type": "markdown",
      "source": [
        "# 3 신경망을 간소화시켜 훈련한 결과\n"
      ],
      "metadata": {
        "id": "ygkkRz3YDGIG"
      }
    },
    {
      "cell_type": "code",
      "source": [
        "model = nn.Sequential(\n",
        "            nn.Linear(3072, 512),\n",
        "            nn.Tanh(),\n",
        "            nn.Linear(512, 2),)\n",
        "\n",
        "loss_fn = nn.CrossEntropyLoss()\n",
        "\n",
        "for epoch in range(n_epochs):\n",
        "    for imgs, labels in train_loader:\n",
        "        batch_size=imgs.shape[0] \n",
        "        outputs = model(imgs.view(batch_size, -1))\n",
        "        loss = loss_fn(outputs, labels)\n",
        "\n",
        "        optimizer.zero_grad()\n",
        "        loss.backward()\n",
        "        optimizer.step()\n",
        "\n",
        "    print(\"Epoch: %d, Loss: %f\" % (epoch, float(loss)))"
      ],
      "metadata": {
        "colab": {
          "base_uri": "https://localhost:8080/"
        },
        "id": "95jewIRrDNrp",
        "outputId": "2ff09eca-1d3b-4409-8796-7d183aa25b85"
      },
      "execution_count": 39,
      "outputs": [
        {
          "output_type": "stream",
          "name": "stdout",
          "text": [
            "Epoch: 0, Loss: 0.703257\n",
            "Epoch: 1, Loss: 0.687391\n",
            "Epoch: 2, Loss: 0.737966\n",
            "Epoch: 3, Loss: 0.753162\n",
            "Epoch: 4, Loss: 0.705879\n",
            "Epoch: 5, Loss: 0.696501\n",
            "Epoch: 6, Loss: 0.740798\n",
            "Epoch: 7, Loss: 0.752510\n",
            "Epoch: 8, Loss: 0.705919\n",
            "Epoch: 9, Loss: 0.703095\n",
            "Epoch: 10, Loss: 0.689697\n",
            "Epoch: 11, Loss: 0.694667\n",
            "Epoch: 12, Loss: 0.710165\n",
            "Epoch: 13, Loss: 0.700303\n",
            "Epoch: 14, Loss: 0.673018\n",
            "Epoch: 15, Loss: 0.651697\n",
            "Epoch: 16, Loss: 0.783261\n",
            "Epoch: 17, Loss: 0.680605\n",
            "Epoch: 18, Loss: 0.674199\n",
            "Epoch: 19, Loss: 0.706090\n",
            "Epoch: 20, Loss: 0.734616\n",
            "Epoch: 21, Loss: 0.708005\n",
            "Epoch: 22, Loss: 0.686877\n",
            "Epoch: 23, Loss: 0.791528\n",
            "Epoch: 24, Loss: 0.741197\n",
            "Epoch: 25, Loss: 0.616898\n",
            "Epoch: 26, Loss: 0.708465\n",
            "Epoch: 27, Loss: 0.729681\n",
            "Epoch: 28, Loss: 0.690270\n",
            "Epoch: 29, Loss: 0.667544\n",
            "Epoch: 30, Loss: 0.713360\n",
            "Epoch: 31, Loss: 0.684852\n",
            "Epoch: 32, Loss: 0.700498\n",
            "Epoch: 33, Loss: 0.722965\n",
            "Epoch: 34, Loss: 0.724621\n",
            "Epoch: 35, Loss: 0.717498\n",
            "Epoch: 36, Loss: 0.667552\n",
            "Epoch: 37, Loss: 0.700232\n",
            "Epoch: 38, Loss: 0.711510\n",
            "Epoch: 39, Loss: 0.716686\n",
            "Epoch: 40, Loss: 0.691090\n",
            "Epoch: 41, Loss: 0.721122\n",
            "Epoch: 42, Loss: 0.718731\n",
            "Epoch: 43, Loss: 0.710375\n",
            "Epoch: 44, Loss: 0.712133\n",
            "Epoch: 45, Loss: 0.696759\n",
            "Epoch: 46, Loss: 0.687276\n",
            "Epoch: 47, Loss: 0.764367\n",
            "Epoch: 48, Loss: 0.694071\n",
            "Epoch: 49, Loss: 0.687272\n",
            "Epoch: 50, Loss: 0.707500\n",
            "Epoch: 51, Loss: 0.725678\n",
            "Epoch: 52, Loss: 0.740108\n",
            "Epoch: 53, Loss: 0.731327\n",
            "Epoch: 54, Loss: 0.695060\n",
            "Epoch: 55, Loss: 0.706364\n",
            "Epoch: 56, Loss: 0.675365\n",
            "Epoch: 57, Loss: 0.698156\n",
            "Epoch: 58, Loss: 0.674743\n",
            "Epoch: 59, Loss: 0.691049\n",
            "Epoch: 60, Loss: 0.759917\n",
            "Epoch: 61, Loss: 0.679438\n",
            "Epoch: 62, Loss: 0.699884\n",
            "Epoch: 63, Loss: 0.673513\n",
            "Epoch: 64, Loss: 0.680611\n",
            "Epoch: 65, Loss: 0.709951\n",
            "Epoch: 66, Loss: 0.720547\n",
            "Epoch: 67, Loss: 0.661844\n",
            "Epoch: 68, Loss: 0.763032\n",
            "Epoch: 69, Loss: 0.681270\n",
            "Epoch: 70, Loss: 0.724654\n",
            "Epoch: 71, Loss: 0.687452\n",
            "Epoch: 72, Loss: 0.696435\n",
            "Epoch: 73, Loss: 0.684396\n",
            "Epoch: 74, Loss: 0.717987\n",
            "Epoch: 75, Loss: 0.711992\n",
            "Epoch: 76, Loss: 0.725227\n",
            "Epoch: 77, Loss: 0.706842\n",
            "Epoch: 78, Loss: 0.666634\n",
            "Epoch: 79, Loss: 0.687187\n",
            "Epoch: 80, Loss: 0.718914\n",
            "Epoch: 81, Loss: 0.734606\n",
            "Epoch: 82, Loss: 0.784254\n",
            "Epoch: 83, Loss: 0.693374\n",
            "Epoch: 84, Loss: 0.664725\n",
            "Epoch: 85, Loss: 0.677944\n",
            "Epoch: 86, Loss: 0.715165\n",
            "Epoch: 87, Loss: 0.660368\n",
            "Epoch: 88, Loss: 0.772416\n",
            "Epoch: 89, Loss: 0.734910\n",
            "Epoch: 90, Loss: 0.674959\n",
            "Epoch: 91, Loss: 0.722002\n",
            "Epoch: 92, Loss: 0.722478\n",
            "Epoch: 93, Loss: 0.743177\n",
            "Epoch: 94, Loss: 0.704543\n",
            "Epoch: 95, Loss: 0.724153\n",
            "Epoch: 96, Loss: 0.694014\n",
            "Epoch: 97, Loss: 0.697942\n",
            "Epoch: 98, Loss: 0.639931\n",
            "Epoch: 99, Loss: 0.722776\n"
          ]
        }
      ]
    },
    {
      "cell_type": "code",
      "source": [
        "val_loader = torch.utils.data.DataLoader(cifar2, batch_size=64, shuffle=False)\n",
        "\n",
        "correct = 0\n",
        "total = 0\n",
        "\n",
        "with torch.no_grad():\n",
        "    for imgs, labels in train_loader:\n",
        "        outputs = model(imgs.view(imgs.shape[0], -1))\n",
        "        _, predicted = torch.max(outputs, dim=1)\n",
        "        total += labels.shape[0]\n",
        "        correct += int((predicted == labels).sum())\n",
        "        \n",
        "print(\"Accuracy: %f\" % (correct / total))"
      ],
      "metadata": {
        "colab": {
          "base_uri": "https://localhost:8080/"
        },
        "id": "vomerj8vDqyd",
        "outputId": "29327d49-ab4f-4ab3-8345-1a0ed4995e3b"
      },
      "execution_count": 40,
      "outputs": [
        {
          "output_type": "stream",
          "name": "stdout",
          "text": [
            "Accuracy: 0.498200\n"
          ]
        }
      ]
    },
    {
      "cell_type": "code",
      "source": [],
      "metadata": {
        "id": "MZgElF0lDrM9"
      },
      "execution_count": null,
      "outputs": []
    }
  ]
}