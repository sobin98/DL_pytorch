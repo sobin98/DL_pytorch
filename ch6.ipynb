{
  "nbformat": 4,
  "nbformat_minor": 0,
  "metadata": {
    "colab": {
      "provenance": []
    },
    "kernelspec": {
      "name": "python3",
      "display_name": "Python 3"
    },
    "language_info": {
      "name": "python"
    }
  },
  "cells": [
    {
      "cell_type": "code",
      "execution_count": null,
      "metadata": {
        "colab": {
          "base_uri": "https://localhost:8080/"
        },
        "id": "z0Huqu1Eox2S",
        "outputId": "d2b167f2-6032-44cd-93d7-244ce50732d1"
      },
      "outputs": [
        {
          "output_type": "execute_result",
          "data": {
            "text/plain": [
              "torch.Size([11, 1])"
            ]
          },
          "metadata": {},
          "execution_count": 2
        }
      ],
      "source": [
        "import numpy as np\n",
        "import torch\n",
        "import torch.optim as optim\n",
        "import torch.nn as nn #파이토치 nn모듈은 신경망 아키텍처를 만들 수 있는 빌딩 블럭이 들어가 있고 모듈은 하나 이상의 서브 모듈을 속성으로 가지며 파라미터 추정이 가능하다.\n",
        "\n",
        "t_c = [0.5,  14.0, 15.0, 28.0, 11.0,  8.0,  3.0, -4.0,  6.0, 13.0, 21.0]\n",
        "t_u = [35.7, 55.9, 58.2, 81.9, 56.3, 48.9, 33.9, 21.8, 48.4, 60.4, 68.4]\n",
        "t_c = torch.tensor(t_c).unsqueeze(1) \n",
        "t_u = torch.tensor(t_u).unsqueeze(1) \n",
        "\n",
        "t_u.shape"
      ]
    },
    {
      "cell_type": "code",
      "source": [
        "n_samples = t_u.shape[0]\n",
        "n_val = int(0.2 * n_samples)\n",
        "\n",
        "shuffled_indices = torch.randperm(n_samples)\n",
        "\n",
        "train_indices = shuffled_indices[:-n_val]\n",
        "val_indices = shuffled_indices[-n_val:]\n",
        "\n",
        "t_u_train = t_u[train_indices]\n",
        "t_c_train = t_c[train_indices]\n",
        "\n",
        "t_u_val = t_u[val_indices]\n",
        "t_c_val = t_c[val_indices]\n",
        "\n",
        "t_un_train = 0.1 * t_u_train\n",
        "t_un_val = 0.1 * t_u_val"
      ],
      "metadata": {
        "id": "irQvrQ-Ltgml"
      },
      "execution_count": null,
      "outputs": []
    },
    {
      "cell_type": "markdown",
      "source": [
        "# 6.2"
      ],
      "metadata": {
        "id": "Zm15WwNmtDbf"
      }
    },
    {
      "cell_type": "code",
      "source": [
        "#nn.Module의 모든 서브클래스에는 __call__메소드가 정의되어있어 forward대신 사용할 수 있다.\n",
        "\n",
        "linear_model = nn.Linear(1, 1) # <1>\n",
        "linear_model(t_un_val) #linear_model.forwaud(t_un_val)이런식의 사용은 하지말자."
      ],
      "metadata": {
        "colab": {
          "base_uri": "https://localhost:8080/"
        },
        "id": "UUv-e9_HtCW8",
        "outputId": "01c641d8-a2a7-4c61-af51-6179ad07f47c"
      },
      "execution_count": null,
      "outputs": [
        {
          "output_type": "execute_result",
          "data": {
            "text/plain": [
              "tensor([[-1.0210],\n",
              "        [-1.2894]], grad_fn=<AddmmBackward0>)"
            ]
          },
          "metadata": {},
          "execution_count": 4
        }
      ]
    },
    {
      "cell_type": "code",
      "source": [
        "linear_model.weight"
      ],
      "metadata": {
        "colab": {
          "base_uri": "https://localhost:8080/"
        },
        "id": "DThPSSIxtnAc",
        "outputId": "3cc85bce-b46f-40fe-ff9d-5b24d0f81d75"
      },
      "execution_count": null,
      "outputs": [
        {
          "output_type": "execute_result",
          "data": {
            "text/plain": [
              "Parameter containing:\n",
              "tensor([[-0.2033]], requires_grad=True)"
            ]
          },
          "metadata": {},
          "execution_count": 5
        }
      ]
    },
    {
      "cell_type": "code",
      "source": [
        "linear_model.bias"
      ],
      "metadata": {
        "colab": {
          "base_uri": "https://localhost:8080/"
        },
        "id": "NU2b887wuILs",
        "outputId": "98ab217d-0ce3-4393-fdd5-4ae35ad2729f"
      },
      "execution_count": null,
      "outputs": [
        {
          "output_type": "execute_result",
          "data": {
            "text/plain": [
              "Parameter containing:\n",
              "tensor([-0.2950], requires_grad=True)"
            ]
          },
          "metadata": {},
          "execution_count": 6
        }
      ]
    },
    {
      "cell_type": "code",
      "source": [
        "#배치 입력만들기: 배치의 크기가 10이고 입력피처의 크기가 1이라면\n",
        "x=torch.ones(10,1)\n",
        "linear_model(x) #선형함수를 통해 나온 결과값, shape: 배치크기x입력피쳐크기"
      ],
      "metadata": {
        "colab": {
          "base_uri": "https://localhost:8080/"
        },
        "id": "WqfccM3YuMOr",
        "outputId": "dc68b2ac-a712-4a27-9ea9-228633eb0bdf"
      },
      "execution_count": null,
      "outputs": [
        {
          "output_type": "execute_result",
          "data": {
            "text/plain": [
              "tensor([[-0.4984],\n",
              "        [-0.4984],\n",
              "        [-0.4984],\n",
              "        [-0.4984],\n",
              "        [-0.4984],\n",
              "        [-0.4984],\n",
              "        [-0.4984],\n",
              "        [-0.4984],\n",
              "        [-0.4984],\n",
              "        [-0.4984]], grad_fn=<AddmmBackward0>)"
            ]
          },
          "metadata": {},
          "execution_count": 7
        }
      ]
    },
    {
      "cell_type": "code",
      "source": [
        "#배치 최적화\n",
        "linear_model = nn.Linear(1, 1) \n",
        "optimizer = optim.SGD(\n",
        "    linear_model.parameters(), #[params]대신 넣은것\n",
        "    lr=1e-2)\n",
        "linear_model.parameters() #이제 nn.Module이나 어떤 하위 모듈에 대해서도 parameters메소드만 있으면 파라미터 리스트 얻을 수 있다."
      ],
      "metadata": {
        "colab": {
          "base_uri": "https://localhost:8080/"
        },
        "id": "_ss2-Lcww56d",
        "outputId": "45732e55-e231-4c14-aa0a-c2aad68c94b2"
      },
      "execution_count": null,
      "outputs": [
        {
          "output_type": "execute_result",
          "data": {
            "text/plain": [
              "Parameter containing:\n",
              "tensor([[0.8989]], requires_grad=True)"
            ]
          },
          "metadata": {},
          "execution_count": 11
        }
      ]
    },
    {
      "cell_type": "code",
      "source": [
        "list(linear_model.parameters())"
      ],
      "metadata": {
        "colab": {
          "base_uri": "https://localhost:8080/"
        },
        "id": "1xsr8u41xNvI",
        "outputId": "6525b3ec-02a9-47e4-978b-0120844e5eb0"
      },
      "execution_count": null,
      "outputs": [
        {
          "output_type": "execute_result",
          "data": {
            "text/plain": [
              "[Parameter containing:\n",
              " tensor([[0.8989]], requires_grad=True), Parameter containing:\n",
              " tensor([0.4982], requires_grad=True)]"
            ]
          },
          "metadata": {},
          "execution_count": 12
        }
      ]
    },
    {
      "cell_type": "code",
      "source": [
        "def training_loop(n_epochs, optimizer, model, loss_fn, t_u_train, t_u_val,\n",
        "                  t_c_train, t_c_val):\n",
        "    for epoch in range(1, n_epochs + 1):\n",
        "        t_p_train = model(t_u_train) # <1>\n",
        "        loss_train = loss_fn(t_p_train, t_c_train)\n",
        "\n",
        "        t_p_val = model(t_u_val) # <1>\n",
        "        loss_val = loss_fn(t_p_val, t_c_val)\n",
        "        \n",
        "        optimizer.zero_grad()\n",
        "        loss_train.backward() # <2>\n",
        "        optimizer.step()\n",
        "\n",
        "        if epoch == 1 or epoch % 1000 == 0:\n",
        "            print(f\"Epoch {epoch}, Training loss {loss_train.item():.4f},\"\n",
        "                  f\" Validation loss {loss_val.item():.4f}\")"
      ],
      "metadata": {
        "id": "FfIF2O2FymBJ"
      },
      "execution_count": null,
      "outputs": []
    },
    {
      "cell_type": "code",
      "source": [
        "#torch.nn은 손실함수 또한 가지고 있다.\n",
        "training_loop(\n",
        "    n_epochs = 3000, \n",
        "    optimizer = optimizer,\n",
        "    model = linear_model,\n",
        "    loss_fn = nn.MSELoss(), #이제 직접만드는 손실 함수를 사용하지 않는다.\n",
        "    t_u_train = t_un_train,\n",
        "    t_u_val = t_un_val, \n",
        "    t_c_train = t_c_train,\n",
        "    t_c_val = t_c_val)\n",
        "\n",
        "print()\n",
        "print(linear_model.weight)\n",
        "print(linear_model.bias)"
      ],
      "metadata": {
        "colab": {
          "base_uri": "https://localhost:8080/"
        },
        "id": "jDH9uJL6zEe7",
        "outputId": "e99650aa-971d-45fc-bb90-e70f3a8948e7"
      },
      "execution_count": null,
      "outputs": [
        {
          "output_type": "stream",
          "name": "stdout",
          "text": [
            "Epoch 1, Training loss 99.1553, Validation loss 9.9676\n",
            "Epoch 1000, Training loss 4.0167, Validation loss 6.2427\n",
            "Epoch 2000, Training loss 3.1984, Validation loss 3.0092\n",
            "Epoch 3000, Training loss 3.1718, Validation loss 2.5531\n",
            "\n",
            "Parameter containing:\n",
            "tensor([[5.2340]], requires_grad=True)\n",
            "Parameter containing:\n",
            "tensor([-16.3197], requires_grad=True)\n"
          ]
        }
      ]
    },
    {
      "cell_type": "markdown",
      "source": [
        "# 6.3"
      ],
      "metadata": {
        "id": "VNHcQ_pezzKH"
      }
    },
    {
      "cell_type": "code",
      "source": [
        "#nn은 nn.Sequential 컨테이너를 통해 모듈을 간단하게 결합시켜준다.\n",
        "seq_model = nn.Sequential(\n",
        "            nn.Linear(1, 13), \n",
        "            nn.Tanh(),\n",
        "            nn.Linear(13, 1)) #앞의 13과 일치해야한다.  차원을 맞춰줘야함\n",
        "seq_model #이 모델은 한개의 입력피처로부터 13개의 은닉된 피처로 펼쳐지며 결과값을 tanh인 활성함수로 넘겨 결과로 나온 13개의 숫자를 선형결합을 통해 하나의 출력 피처로 변형한다."
      ],
      "metadata": {
        "colab": {
          "base_uri": "https://localhost:8080/"
        },
        "id": "nI6i5NbRzrp4",
        "outputId": "dff6a972-74e7-45f4-b2e9-5796abf93732"
      },
      "execution_count": null,
      "outputs": [
        {
          "output_type": "execute_result",
          "data": {
            "text/plain": [
              "Sequential(\n",
              "  (0): Linear(in_features=1, out_features=13, bias=True)\n",
              "  (1): Tanh()\n",
              "  (2): Linear(in_features=13, out_features=1, bias=True)\n",
              ")"
            ]
          },
          "metadata": {},
          "execution_count": 17
        }
      ]
    },
    {
      "cell_type": "code",
      "source": [
        "#파라미터 차원정보\n",
        "[param.shape for param in seq_model.parameters()]"
      ],
      "metadata": {
        "colab": {
          "base_uri": "https://localhost:8080/"
        },
        "id": "e4fXOOxt0K8Y",
        "outputId": "0db8d403-7ad1-46fa-dff7-44fc3b060a57"
      },
      "execution_count": null,
      "outputs": [
        {
          "output_type": "execute_result",
          "data": {
            "text/plain": [
              "[torch.Size([13, 1]), torch.Size([13]), torch.Size([1, 13]), torch.Size([1])]"
            ]
          },
          "metadata": {},
          "execution_count": 18
        }
      ]
    },
    {
      "cell_type": "code",
      "source": [
        "#named_parameters메소드를 통해 파라미터를 이름으로 식별가능하게 하면 매우 편리하다.\n",
        "for name, param in seq_model.named_parameters():\n",
        "    print(name, param.shape)"
      ],
      "metadata": {
        "colab": {
          "base_uri": "https://localhost:8080/"
        },
        "id": "S7rtnUp70skH",
        "outputId": "2a0a45bb-3416-4fc2-f9c2-e2f74acdbf72"
      },
      "execution_count": null,
      "outputs": [
        {
          "output_type": "stream",
          "name": "stdout",
          "text": [
            "0.weight torch.Size([13, 1])\n",
            "0.bias torch.Size([13])\n",
            "2.weight torch.Size([1, 13])\n",
            "2.bias torch.Size([1])\n"
          ]
        }
      ]
    },
    {
      "cell_type": "code",
      "source": [
        "#처음 모델을 만들때부터 파라미터의 이름을 지정하는것도 가능하다.\n",
        "\n",
        "from collections import OrderedDict\n",
        "\n",
        "seq_model = nn.Sequential(OrderedDict([\n",
        "    ('hidden_linear', nn.Linear(1, 8)),\n",
        "    ('hidden_activation', nn.Tanh()),\n",
        "    ('output_linear', nn.Linear(8, 1))\n",
        "]))\n",
        "\n",
        "seq_model"
      ],
      "metadata": {
        "colab": {
          "base_uri": "https://localhost:8080/"
        },
        "id": "rrG24cbp07Fs",
        "outputId": "b48112f8-572c-4c1e-c862-aa7541d6d7e9"
      },
      "execution_count": null,
      "outputs": [
        {
          "output_type": "execute_result",
          "data": {
            "text/plain": [
              "Sequential(\n",
              "  (hidden_linear): Linear(in_features=1, out_features=8, bias=True)\n",
              "  (hidden_activation): Tanh()\n",
              "  (output_linear): Linear(in_features=8, out_features=1, bias=True)\n",
              ")"
            ]
          },
          "metadata": {},
          "execution_count": 20
        }
      ]
    },
    {
      "cell_type": "code",
      "source": [
        "for name, param in seq_model.named_parameters():\n",
        "    print(name, param.shape)"
      ],
      "metadata": {
        "colab": {
          "base_uri": "https://localhost:8080/"
        },
        "id": "6x4PDHGO1IlU",
        "outputId": "c81afeab-bbd6-4c9b-e21b-3533c1cb9546"
      },
      "execution_count": null,
      "outputs": [
        {
          "output_type": "stream",
          "name": "stdout",
          "text": [
            "hidden_linear.weight torch.Size([8, 1])\n",
            "hidden_linear.bias torch.Size([8])\n",
            "output_linear.weight torch.Size([1, 8])\n",
            "output_linear.bias torch.Size([1])\n"
          ]
        }
      ]
    },
    {
      "cell_type": "code",
      "source": [
        "#이름으로 접근해 특정 파라미터값 확인가능\n",
        "print(seq_model.output_linear.weight)\n",
        "print()\n",
        "print(seq_model.output_linear.bias)"
      ],
      "metadata": {
        "colab": {
          "base_uri": "https://localhost:8080/"
        },
        "id": "f-cHA8Qa1Ma9",
        "outputId": "23bc9af6-9dff-46e2-bd5d-4aef07d901b5"
      },
      "execution_count": null,
      "outputs": [
        {
          "output_type": "stream",
          "name": "stdout",
          "text": [
            "Parameter containing:\n",
            "tensor([[ 0.0114, -0.0697, -0.1227,  0.1033,  0.1502,  0.2530,  0.1065,  0.2980]],\n",
            "       requires_grad=True)\n",
            "\n",
            "Parameter containing:\n",
            "tensor([-0.3254], requires_grad=True)\n"
          ]
        }
      ]
    },
    {
      "cell_type": "code",
      "source": [
        "optimizer = optim.SGD(seq_model.parameters(), lr=1e-3)\n",
        "\n",
        "training_loop(\n",
        "    n_epochs = 5000, \n",
        "    optimizer = optimizer,\n",
        "    model = seq_model,\n",
        "    loss_fn = nn.MSELoss(),\n",
        "    t_u_train = t_un_train,\n",
        "    t_u_val = t_un_val, \n",
        "    t_c_train = t_c_train,\n",
        "    t_c_val = t_c_val)\n",
        "    \n",
        "print('output', seq_model(t_un_val))\n",
        "print('answer', t_c_val)\n",
        "print('hidden', seq_model.hidden_linear.weight.grad)"
      ],
      "metadata": {
        "colab": {
          "base_uri": "https://localhost:8080/"
        },
        "id": "kcfzpRG41p9S",
        "outputId": "d1ed8ebd-532c-496b-ff48-4400b9267674"
      },
      "execution_count": null,
      "outputs": [
        {
          "output_type": "stream",
          "name": "stdout",
          "text": [
            "Epoch 1, Training loss 238.4284, Validation loss 38.6290\n",
            "Epoch 1000, Training loss 6.4116, Validation loss 2.0531\n",
            "Epoch 2000, Training loss 4.9407, Validation loss 0.8552\n",
            "Epoch 3000, Training loss 2.5163, Validation loss 1.3511\n",
            "Epoch 4000, Training loss 1.9525, Validation loss 1.7720\n",
            "Epoch 5000, Training loss 1.8613, Validation loss 2.1267\n",
            "output tensor([[2.5624],\n",
            "        [7.9818]], grad_fn=<AddmmBackward0>)\n",
            "answer tensor([[0.5000],\n",
            "        [8.0000]])\n",
            "hidden tensor([[ 0.0084],\n",
            "        [ 0.0367],\n",
            "        [ 0.0161],\n",
            "        [-0.0283],\n",
            "        [ 0.0341],\n",
            "        [-0.0108],\n",
            "        [ 0.0011],\n",
            "        [-0.0120]])\n"
          ]
        }
      ]
    },
    {
      "cell_type": "code",
      "source": [
        "#선형모델과 비교해 더 유연한 모델을 얻을 수 있다.\n",
        "from matplotlib import pyplot as plt\n",
        "\n",
        "t_range = torch.arange(20., 90.).unsqueeze(1)\n",
        "\n",
        "plt.xlabel(\"Fahrenheit\")\n",
        "plt.ylabel(\"Celsius\")\n",
        "plt.plot(t_u.numpy(), t_c.numpy(), 'o')\n",
        "plt.plot(t_range.numpy(), seq_model(0.1 * t_range).detach().numpy(), 'c-')\n",
        "plt.plot(t_u.numpy(), seq_model(0.1 * t_u).detach().numpy(), 'kx')"
      ],
      "metadata": {
        "colab": {
          "base_uri": "https://localhost:8080/",
          "height": 296
        },
        "id": "zCfoHW4M1621",
        "outputId": "53665fcd-c37d-49bc-831c-605b31248850"
      },
      "execution_count": null,
      "outputs": [
        {
          "output_type": "execute_result",
          "data": {
            "text/plain": [
              "[<matplotlib.lines.Line2D at 0x7f3f8d5b2290>]"
            ]
          },
          "metadata": {},
          "execution_count": 29
        },
        {
          "output_type": "display_data",
          "data": {
            "text/plain": [
              "<Figure size 432x288 with 1 Axes>"
            ],
            "image/png": "[encoded data removed]"
          },
          "metadata": {
            "needs_background": "light"
          }
        }
      ]
    },
    {
      "cell_type": "code",
      "source": [],
      "metadata": {
        "id": "r_z1kKw62KH8"
      },
      "execution_count": null,
      "outputs": []
    }
  ]
}